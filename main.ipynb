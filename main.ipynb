{
 "cells": [
  {
   "cell_type": "markdown",
   "metadata": {},
   "source": [
    "## punto 1.1"
   ]
  },
  {
   "cell_type": "code",
   "execution_count": null,
   "metadata": {},
   "outputs": [],
   "source": [
    "def extract_masters(this_url):\n",
    "    result_url=requests.get(this_url)\n",
    "    result_soup=BeautifulSoup(result_url.text)\n",
    "    result_links=result_soup.find_all('a',{'class':'courseLink'})\n",
    "    result_list=[]\n",
    "    for item in result_links:\n",
    "        result_list.append((item['href'],item.text))\n",
    "    return result_list"
   ]
  },
  {
   "cell_type": "code",
   "execution_count": null,
   "metadata": {},
   "outputs": [],
   "source": [
    "# to extract all the masters we have to do a for loop for the first 400 pages:\n",
    "num_pages = 400\n",
    "pref = 'https://www.findamasters.com'\n",
    "test_lst_all = []\n",
    "\n",
    "for i in range(1, num_pages + 1):\n",
    "    test_lst = extract_masters(pref + '/masters-degrees/msc-degrees/?PG=' + str(i))\n",
    "    test_lst_all.extend(test_lst)\n",
    "\n",
    "with open('masters_urls.txt', 'w') as f:\n",
    "    for item in test_lst_all:\n",
    "        f.write(item[0] + '\\n')"
   ]
  }
 ],
 "metadata": {
  "kernelspec": {
   "display_name": "Python 3",
   "language": "python",
   "name": "python3"
  },
  "language_info": {
   "name": "python",
   "version": "3.11.6"
  }
 },
 "nbformat": 4,
 "nbformat_minor": 2
}
