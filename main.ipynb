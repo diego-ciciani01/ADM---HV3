{
 "cells": [
  {
   "cell_type": "markdown",
   "metadata": {},
   "source": [
    "## Punto 1.1"
   ]
  },
  {
   "cell_type": "code",
   "execution_count": null,
   "metadata": {},
   "outputs": [],
   "source": [
    "import bs4 # pip install \n",
    "from bs4 import BeautifulSoup"
   ]
  },
  {
   "cell_type": "code",
   "execution_count": null,
   "metadata": {},
   "outputs": [],
   "source": [
    "import requests\n",
    "url = 'https://www.findamasters.com/masters-degrees/msc-degrees/'\n",
    "result = requests.get(url)\n",
    "result.text"
   ]
  },
  {
   "cell_type": "code",
   "execution_count": null,
   "metadata": {},
   "outputs": [],
   "source": [
    "def extract_masters(this_url):\n",
    "    result_url=requests.get(this_url)\n",
    "    result_soup=BeautifulSoup(result_url.text)\n",
    "    result_links=result_soup.find_all('a',{'class':'courseLink'})\n",
    "    result_list=[]\n",
    "    for item in result_links:\n",
    "        result_list.append((item['href'],item.text))\n",
    "    return result_list"
   ]
  },
  {
   "cell_type": "code",
   "execution_count": null,
   "metadata": {},
   "outputs": [],
   "source": [
    "# to extract all the masters we have to do a for loop for the first 400 pages:\n",
    "\"\"\"\n",
    "num_pages = 400\n",
    "pref = 'https://www.findamasters.com'\n",
    "test_lst_all = []\n",
    "\n",
    "for i in range(1, num_pages + 1):\n",
    "    test_lst = extract_masters(pref + '/masters-degrees/msc-degrees/?PG=' + str(i))\n",
    "    test_lst_all.extend(test_lst)\n",
    "# creating the txt file of the fisrt 400 pages of ms\n",
    "with open('masters_urls.txt', 'w') as f:\n",
    "    for item in test_lst_all:\n",
    "        f.write(item[0] + '\\n')\n",
    "\"\"\"\n",
    "# file created "
   ]
  },
  {
   "cell_type": "markdown",
   "metadata": {},
   "source": [
    "## Punto 1.2"
   ]
  },
  {
   "cell_type": "code",
   "execution_count": null,
   "metadata": {},
   "outputs": [],
   "source": [
    "import os\n",
    "import requests\n",
    "from bs4 import BeautifulSoup\n",
    "import time\n",
    "import random"
   ]
  },
  {
   "cell_type": "code",
   "execution_count": null,
   "metadata": {},
   "outputs": [],
   "source": [
    "# Impostazioni per l'User-Agent per simulare un browser\n",
    "headers = {'User-Agent': 'Mozilla/5.0 (Windows NT 10.0; Win64; x64) AppleWebKit/537.36 (KHTML, like Gecko) Chrome/111.0.0.0 Safari/537.36'}\n",
    "folder_name = \"html_pages\"\n",
    "if not os.path.exists(folder_name):\n",
    "    os.makedirs(folder_name)\n",
    "\n",
    "for i in range(1, 4):\n",
    "    # Crea la cartella per ogni pagina:\n",
    "    name = 'HTML page ' + str(i)\n",
    "    path_folder = os.path.join(folder_name, name)\n",
    "    if not os.path.exists(path_folder):\n",
    "        os.makedirs(path_folder)\n",
    "\n",
    "# Apre il file contenente gli URL\n",
    "with open('masters_urls.txt', 'r') as file:\n",
    "    for index, url in enumerate(file):\n",
    "        url = url.strip()\n",
    "        page = (index // 15 ) + 1\n",
    "        try:\n",
    "            # Costruisci l'URL completo\n",
    "            full_url = \"https://www.findamasters.com\" + url.strip()\n",
    "\n",
    "            # Aggiungi un ritardo di 1-5 secondi tra le richieste\n",
    "            time.sleep(1 + random.uniform(0, 4))\n",
    "            # Richiesta per ottenere il contenuto dell'URL\n",
    "            response = requests.get(full_url, headers=headers)\n",
    "            \n",
    "            if response.status_code == 200:\n",
    "                # Parsing dell'HTML con BeautifulSoup\n",
    "                soup = BeautifulSoup(response.content, 'html.parser')\n",
    "                \n",
    "                # Salva l'HTML del corso in un file separato nella cartella della pagina in cui si trova\n",
    "                file_path = os.path.join(f\"{folder_name}\\HTML page {page}\", f\"course {index+1}.html\")\n",
    "                with open(file_path, \"w\", encoding=\"utf-8\") as html_file:\n",
    "                    html_file.write(str(soup))\n",
    "\n",
    "            else:\n",
    "                print(f\"Errore nel recuperare la pagina del corso: {full_url}\")\n",
    "        \n",
    "        except Exception as e:\n",
    "            print(f\"Errore durante il recupero e salvataggio della pagina {full_url}: {e}\")\n"
   ]
  }
 ],
 "metadata": {
  "kernelspec": {
   "display_name": "Python 3",
   "language": "python",
   "name": "python3"
  },
  "language_info": {
   "codemirror_mode": {
    "name": "ipython",
    "version": 3
   },
   "file_extension": ".py",
   "mimetype": "text/x-python",
   "name": "python",
   "nbconvert_exporter": "python",
   "pygments_lexer": "ipython3",
   "version": "3.11.6"
  }
 },
 "nbformat": 4,
 "nbformat_minor": 2
}
