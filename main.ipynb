{
 "cells": [
  {
   "cell_type": "markdown",
   "metadata": {},
   "source": [
    "# 1. Data collection"
   ]
  },
  {
   "cell_type": "markdown",
   "metadata": {},
   "source": [
    "### 1.1 Get the list of master's degree courses"
   ]
  },
  {
   "cell_type": "code",
   "execution_count": 2,
   "metadata": {},
   "outputs": [],
   "source": [
    "from bs4 import BeautifulSoup\n",
    "import os\n",
    "import pandas as pd\n",
    "import time\n",
    "import random\n",
    "import glob\n",
    "from nltk.stem import *\n",
    "from nltk.corpus import stopwords\n",
    "from collections import Counter\n",
    "from functools import reduce\n",
    "import heapq"
   ]
  },
  {
   "cell_type": "code",
   "execution_count": 3,
   "metadata": {},
   "outputs": [],
   "source": [
    "from defs import *"
   ]
  },
  {
   "cell_type": "markdown",
   "metadata": {},
   "source": [
    "Via the HTTP GET request we retrieve the content of the url of our interest, in our case the page that contains all the masters."
   ]
  },
  {
   "cell_type": "code",
   "execution_count": 4,
   "metadata": {},
   "outputs": [],
   "source": [
    "url = 'https://www.findamasters.com/masters-degrees/msc-degrees/'\n",
    "result = requests.get(url)"
   ]
  },
  {
   "cell_type": "markdown",
   "metadata": {},
   "source": [
    "To extract all the links of the master's degree of the first 400 pages we used a function, which is located in the *defs.py* file; then we store all the links in the file *masters_urls.txt*."
   ]
  },
  {
   "cell_type": "code",
   "execution_count": null,
   "metadata": {},
   "outputs": [],
   "source": [
    "# to extract all the masters we have to do a for loop for the first 400 pages:\n",
    "\n",
    "num_pages = 400\n",
    "pref = 'https://www.findamasters.com'\n",
    "test_lst_all = []\n",
    "\n",
    "for i in range(1, num_pages + 1):\n",
    "    test_lst = extract_masters(pref + '/masters-degrees/msc-degrees/?PG=' + str(i))\n",
    "    test_lst_all.extend(test_lst)\n",
    "# creating the txt file of the fisrt 400 pages of ms\n",
    "with open('masters_urls.txt', 'w') as f:\n",
    "    for item in test_lst_all:\n",
    "        f.write(item[0] + '\\n')\n",
    "# file created "
   ]
  },
  {
   "cell_type": "markdown",
   "metadata": {},
   "source": [
    "### 1.2 Crawl master's degree pages"
   ]
  },
  {
   "cell_type": "markdown",
   "metadata": {},
   "source": [
    "We are going to save each HTML page of each course in a different folder, one folder for each page it is in; so we'll obtain 400 folders, each of them will contain 15 HTML files. The urls are taken from the *masters_urls.txt* previusly created.\n"
   ]
  },
  {
   "cell_type": "code",
   "execution_count": null,
   "metadata": {},
   "outputs": [],
   "source": [
    "# settings for the User-Agent to simulate a browser\n",
    "headers = {'User-Agent': 'Mozilla/5.0 (Windows NT 10.0; Win64; x64) AppleWebKit/537.36 (KHTML, like Gecko) Chrome/111.0.0.0 Safari/537.36'}\n",
    "folder_name = \"html_pages\" # create the folder that will contain the html pages\n",
    "html_name_url = {}\n",
    "if not os.path.exists(folder_name):\n",
    "    os.makedirs(folder_name)\n",
    "\n",
    "for i in range(1, 401):\n",
    "    # create a folder for each page, from 1 to 400\n",
    "    name = 'HTML page ' + str(i)\n",
    "    path_folder = os.path.join(folder_name, name)\n",
    "    if not os.path.exists(path_folder):\n",
    "        os.makedirs(path_folder)\n",
    "\n",
    "# open the file containing the urls\n",
    "with open('masters_urls.txt', 'r') as file:\n",
    "    for index, url in enumerate(file):\n",
    "        url = url.strip()\n",
    "        page = (index // 15 ) + 1\n",
    "        try:\n",
    "            # the complete url\n",
    "            full_url = \"https://www.findamasters.com\" + url.strip()\n",
    "\n",
    "            # add a delay of 1 to 5 seconds between the requests\n",
    "            time.sleep(1 + random.uniform(0, 4))\n",
    "            # request to obtain the content of the url\n",
    "            response = requests.get(full_url, headers=headers)\n",
    "            \n",
    "            if response.status_code == 200:\n",
    "                # Parsing dell'HTML con BeautifulSoup\n",
    "                soup = BeautifulSoup(response.content, 'html.parser')\n",
    "                \n",
    "                # save the html of the course in a separate file in the folder of the page it belongs to \n",
    "                file_path = os.path.join(f\"{folder_name}\\HTML page {page}\", f\"course {index+1}.html\")\n",
    "                with open(file_path, \"w\", encoding=\"utf-8\") as html_file:\n",
    "                    html_file.write(str(soup))\n",
    "                html_name_url[file_path] = full_url\n",
    "            else:\n",
    "                print(f\"Errore nel recuperare la pagina del corso: {full_url}\")\n",
    "        \n",
    "        except Exception as e:\n",
    "            print(f\"Errore durante il recupero e salvataggio della pagina {full_url}: {e}\")\n"
   ]
  },
  {
   "cell_type": "markdown",
   "metadata": {},
   "source": [
    "### 1.3 Parse download pages"
   ]
  },
  {
   "cell_type": "markdown",
   "metadata": {},
   "source": [
    "Through the *extcat_msc_page* function (located in the *defs.py*) we parse all the HTML we retrieved before and collect all the information for each master."
   ]
  },
  {
   "cell_type": "code",
   "execution_count": null,
   "metadata": {},
   "outputs": [],
   "source": [
    "#Directory where there are the HTML repositories\n",
    "html_folder = \"\\html-pages\"\n",
    "my_path = \"D:\\Primo Semestre\\ADM\\HW3\"\n",
    "#List to contain all the information\n",
    "all_master_info = []\n",
    "\n",
    "all_url = []\n",
    "\n",
    "#Iterating whitin the repositories HTML of every page\n",
    "for page_folder in os.listdir(my_path + html_folder):\n",
    "    page_path = os.path.join(html_folder, page_folder)\n",
    "    file_absolute_path = os.path.join(my_path + page_path)\n",
    "\n",
    "    if os.path.isdir(file_absolute_path):\n",
    "        #Iterating in the files HTML of every repository\n",
    "        for file in os.listdir(file_absolute_path):\n",
    "            if file.endswith(\".html\"):\n",
    "                file_path = os.path.join(file_absolute_path, file)\n",
    "                print('FILE PATH: ', file_path)\n",
    "                #Applying the function extract_msc_page to every file HTML\n",
    "                master_info = extract_msc_page(file_path) \n",
    "                all_master_info.extend(master_info)\n",
    "              \n",
    "print(all_master_info)"
   ]
  },
  {
   "cell_type": "markdown",
   "metadata": {},
   "source": [
    "Then we're storing those information in a tsv file, one for each master. All the files are stored in a folder called 'Tsv files'. "
   ]
  },
  {
   "cell_type": "code",
   "execution_count": null,
   "metadata": {},
   "outputs": [],
   "source": [
    "# creating the tsv file for each master\n",
    "\n",
    "folder_name = \"Tsv files\"\n",
    "if not os.path.exists(folder_name):\n",
    "    os.makedirs(folder_name)\n",
    "folder_path = \"D:\\Primo Semestre\\ADM\\HW3\\Tsv files\"\n",
    "\n",
    "for i in range(0,len(all_master_info)):\n",
    "    output_file = f\"{folder_path}\\course_{i+1}.tsv\"\n",
    "    with open(output_file, 'w', encoding='utf-8') as tsvfile:\n",
    "    # Extract field names from the dictionaries in 'all_master_info'\n",
    "        fieldnames = all_master_info[i].keys()\n",
    "        tsvfile.write('\\t'.join(fieldnames) + '\\n')                  # write the header\n",
    "        row = '\\t'.join(str(all_master_info[i].get(field, '')) for field in fieldnames)\n",
    "        tsvfile.write(row + '\\n')"
   ]
  },
  {
   "cell_type": "markdown",
   "metadata": {},
   "source": [
    "We can now create our dataframe, reading the data on all the tsv files we just created."
   ]
  },
  {
   "cell_type": "code",
   "execution_count": null,
   "metadata": {},
   "outputs": [],
   "source": [
    "data_frames = []\n",
    "file_name_list = glob.glob(\"Tsv files\\course_*.tsv\")    # take all the course_i.tsv files\n",
    "for file in file_name_list:\n",
    "    dF_tsv = pd.read_csv(file, sep='\\t', header=0)      # create the data frame from the tsv file\n",
    "    data_frames.append(dF_tsv)\n",
    "# Concatenate all DataFrames in the list into a single DataFrame\n",
    "dataset = pd.concat(data_frames, ignore_index=True)     # creating the whole dataframe from each tsv file\n",
    "\n",
    "dataset = dataset[dataset.description != ''] # do not ocnsider all the rows that have an empty description\n",
    "\n",
    "dataset.head()"
   ]
  },
  {
   "cell_type": "markdown",
   "metadata": {},
   "source": [
    "**da eliminare poi questo**  perchè per semplicitò apriamo il dataset da un file json, ma in realtà dovremmo aprirlo dai file tsv"
   ]
  },
  {
   "cell_type": "code",
   "execution_count": 4,
   "metadata": {},
   "outputs": [],
   "source": [
    "# opening the json file for the dataset (but it will be the tsv file)\n",
    "path = r\"D:\\Primo Semestre\\ADM\\HW3\\university_dataset.json\"\n",
    "dataset= pd.read_json(path)"
   ]
  },
  {
   "cell_type": "markdown",
   "metadata": {},
   "source": [
    "# 2. Search Engine"
   ]
  },
  {
   "cell_type": "markdown",
   "metadata": {},
   "source": [
    "### 2.0 Preprocessing"
   ]
  },
  {
   "cell_type": "markdown",
   "metadata": {},
   "source": [
    "2.0.0 Preprocessing the text\\\n",
    "We created 3 functions, that are present in the *defs.py*, to perform the stemming, remove the stopwords and punctuation from the *description* field of our dataset."
   ]
  },
  {
   "cell_type": "code",
   "execution_count": 5,
   "metadata": {},
   "outputs": [],
   "source": [
    "# 1. stemming\n",
    "dataset['descr_stem'] = dataset['description'].apply(stem_description)\n",
    "\n",
    "# 2. removing stopwords\n",
    "dataset['description_clean'] = dataset['description'].apply(clean_description_s)\n",
    "\n",
    "# 3. removing punctuation\n",
    "dataset['description_clean'] = dataset['description'].apply(clean_description_p)"
   ]
  },
  {
   "cell_type": "markdown",
   "metadata": {},
   "source": [
    "2.0.1 preprocess the *fees* column"
   ]
  },
  {
   "cell_type": "markdown",
   "metadata": {},
   "source": [
    "### 2.1 Conjuctive query"
   ]
  },
  {
   "cell_type": "markdown",
   "metadata": {},
   "source": [
    "2.1.1 Create the index"
   ]
  },
  {
   "cell_type": "markdown",
   "metadata": {},
   "source": [
    "We created the vocabulary assigning an unique ID to each word encoutered in the description field of the dataset, then created a csv file out of it, to store the information. "
   ]
  },
  {
   "cell_type": "code",
   "execution_count": null,
   "metadata": {},
   "outputs": [],
   "source": [
    "# creating the vocabulary \n",
    "vocabulary = Counter(reduce(lambda x,y : x+y, dataset.description_clean)).keys()\n",
    "\n",
    "# assign an unique ID to each word of the vocabulary using a pandas dataframe\n",
    "terms = pd.DataFrame(data=list(vocabulary), columns=['term'])\n",
    "\n",
    "terms\n",
    "# creating a csv file for the vocabulary with index of each term\n",
    "terms.to_csv('vocabulary.csv', index_label='term_id')"
   ]
  },
  {
   "cell_type": "markdown",
   "metadata": {},
   "source": [
    "Now we can create the inverted index as a new column of the dataframe *terms* and store it in a txt file, called *Inverted Index.txt*"
   ]
  },
  {
   "cell_type": "code",
   "execution_count": 6,
   "metadata": {},
   "outputs": [],
   "source": [
    "terms = pd.read_csv('vocabulary.csv')"
   ]
  },
  {
   "cell_type": "code",
   "execution_count": 7,
   "metadata": {},
   "outputs": [
    {
     "data": {
      "text/html": [
       "<div>\n",
       "<style scoped>\n",
       "    .dataframe tbody tr th:only-of-type {\n",
       "        vertical-align: middle;\n",
       "    }\n",
       "\n",
       "    .dataframe tbody tr th {\n",
       "        vertical-align: top;\n",
       "    }\n",
       "\n",
       "    .dataframe thead th {\n",
       "        text-align: right;\n",
       "    }\n",
       "</style>\n",
       "<table border=\"1\" class=\"dataframe\">\n",
       "  <thead>\n",
       "    <tr style=\"text-align: right;\">\n",
       "      <th></th>\n",
       "      <th>term_id</th>\n",
       "      <th>term</th>\n",
       "      <th>reverse</th>\n",
       "    </tr>\n",
       "  </thead>\n",
       "  <tbody>\n",
       "    <tr>\n",
       "      <th>0</th>\n",
       "      <td>0</td>\n",
       "      <td>3d</td>\n",
       "      <td>[0, 444, 508, 593, 594, 890, 1838, 2437, 2833,...</td>\n",
       "    </tr>\n",
       "    <tr>\n",
       "      <th>1</th>\n",
       "      <td>1</td>\n",
       "      <td>visualis</td>\n",
       "      <td>[0, 68, 70, 399, 741, 1078, 1283, 1299, 1430, ...</td>\n",
       "    </tr>\n",
       "    <tr>\n",
       "      <th>2</th>\n",
       "      <td>2</td>\n",
       "      <td>anim</td>\n",
       "      <td>[0, 9, 20, 27, 111, 158, 241, 617, 681, 969, 1...</td>\n",
       "    </tr>\n",
       "    <tr>\n",
       "      <th>3</th>\n",
       "      <td>3</td>\n",
       "      <td>play</td>\n",
       "      <td>[0, 16, 33, 70, 80, 182, 194, 273, 305, 318, 3...</td>\n",
       "    </tr>\n",
       "    <tr>\n",
       "      <th>4</th>\n",
       "      <td>4</td>\n",
       "      <td>role</td>\n",
       "      <td>[0, 16, 35, 61, 70, 72, 74, 80, 107, 113, 138,...</td>\n",
       "    </tr>\n",
       "  </tbody>\n",
       "</table>\n",
       "</div>"
      ],
      "text/plain": [
       "   term_id      term                                            reverse\n",
       "0        0        3d  [0, 444, 508, 593, 594, 890, 1838, 2437, 2833,...\n",
       "1        1  visualis  [0, 68, 70, 399, 741, 1078, 1283, 1299, 1430, ...\n",
       "2        2      anim  [0, 9, 20, 27, 111, 158, 241, 617, 681, 969, 1...\n",
       "3        3      play  [0, 16, 33, 70, 80, 182, 194, 273, 305, 318, 3...\n",
       "4        4      role  [0, 16, 35, 61, 70, 72, 74, 80, 107, 113, 138,..."
      ]
     },
     "execution_count": 7,
     "metadata": {},
     "output_type": "execute_result"
    }
   ],
   "source": [
    "terms['reverse'] = terms.term.apply(lambda item: list(dataset.loc[dataset.description_clean.apply(lambda row: item in row)].index))\n",
    "terms.head()"
   ]
  },
  {
   "cell_type": "markdown",
   "metadata": {},
   "source": [
    "We now transform the inverted index in a dictionary in this form\\\n",
    "<code> {\n",
    "term_id_1:[document_1, document_2, document_4],\n",
    "term_id_2:[document_1, document_3, document_5, document_6],\n",
    "    ...}\n",
    "</code>"
   ]
  },
  {
   "cell_type": "code",
   "execution_count": null,
   "metadata": {},
   "outputs": [],
   "source": [
    "InvertedIndex = terms['reverse'].to_dict()\n",
    "print(InvertedIndex) # the dictionary of the inverted index \n",
    "\n",
    "# store the inverted index in a txt file\n",
    "with open('Inverted Index.txt', 'w') as file:\n",
    "\n",
    "    for key, value in InvertedIndex.items():\n",
    "        file.write(f'{key}: {value}\\n')\n",
    "file.close()"
   ]
  },
  {
   "cell_type": "code",
   "execution_count": 8,
   "metadata": {},
   "outputs": [],
   "source": [
    "# read back the inverted index from the file.\n",
    "\n",
    "file = open(\"Inverted Index.txt\", \"r\")\n",
    "\n",
    "inv_indx = dict()\n",
    "txt = file.read().split(\"\\n\")\n",
    "\n",
    "for i in range(len(txt)-1):\n",
    "    line = txt[i].replace(\":\", \"\").replace(\"[\", \"\").replace(\"]\", \"\").replace(\"(\", \"\").replace(\")\", \"\").replace(\",\", \"\").split(\" \")\n",
    "    inv_indx[int(line[0])] = []\n",
    "    for j in range(1, len(line)):\n",
    "            inv_indx[int(line[0])].append(int(line[j]))\n",
    "            \n",
    "file.close()"
   ]
  },
  {
   "cell_type": "markdown",
   "metadata": {},
   "source": [
    "2.1.2 Execute the query"
   ]
  },
  {
   "cell_type": "markdown",
   "metadata": {},
   "source": [
    "We created a function called *query_preprocess* that preprocesses the query just like we did in the preprocess of the description field."
   ]
  },
  {
   "cell_type": "code",
   "execution_count": 9,
   "metadata": {},
   "outputs": [
    {
     "name": "stdout",
     "output_type": "stream",
     "text": [
      "['advanc', 'knoledg']\n"
     ]
    }
   ],
   "source": [
    "#query = str(input())\n",
    "query = 'advanced knoledge'\n",
    "# formatting the query \n",
    "query = query_preprocess(query) \n",
    "print(query)"
   ]
  },
  {
   "cell_type": "markdown",
   "metadata": {},
   "source": [
    "What we're going to do now to implement our Search Engine is:\n",
    "- Find all the words of the query in the vocabulary and exctract each *term_id* of each word of the query.\n",
    "- Find all the documents related to each *term_id* in the Inverted Index.\n",
    "- Do the intersection of the lists of documents found."
   ]
  },
  {
   "cell_type": "code",
   "execution_count": 10,
   "metadata": {},
   "outputs": [
    {
     "name": "stdout",
     "output_type": "stream",
     "text": [
      "All the documents of the result: [1, 2, 4099, 4, 5, 6, 7, 8, 4103, 12, 4119, 4123, 4127, 4131, 36, 39, 42, 48, 4150, 4151, 4153, 4173, 4174, 4176, 87, 88, 4184, 4192, 97, 4198, 4200, 4206, 4207, 4208, 113, 115, 121, 126, 129, 4230, 4241, 4242, 148, 150, 4255, 170, 4270, 4272, 4273, 180, 4278, 4292, 197, 4293, 4296, 201, 4297, 203, 4300, 4307, 214, 215, 4311, 4313, 4318, 4326, 233, 235, 4331, 237, 238, 241, 245, 248, 252, 254, 258, 4936, 4356, 4359, 266, 4363, 4367, 4369, 4370, 275, 4376, 4382, 4389, 296, 4395, 304, 4406, 4411, 4421, 337, 339, 341, 343, 344, 4442, 347, 4445, 357, 358, 4454, 4457, 4459, 4463, 370, 4469, 381, 382, 4478, 4479, 389, 4485, 4487, 392, 4491, 4501, 4503, 4504, 4505, 4506, 4507, 414, 417, 4514, 419, 4518, 4519, 4520, 445, 449, 4555, 461, 4557, 4558, 4559, 469, 4576, 482, 4578, 4982, 491, 497, 4597, 4599, 506, 507, 508, 4602, 4603, 4604, 515, 4612, 518, 519, 4615, 527, 4626, 534, 546, 4644, 555, 556, 4655, 569, 575, 585, 587, 591, 594, 4700, 607, 610, 611, 612, 613, 616, 617, 618, 619, 620, 622, 626, 627, 628, 630, 631, 633, 634, 635, 636, 637, 639, 640, 642, 644, 645, 646, 647, 648, 649, 650, 652, 653, 656, 658, 659, 660, 661, 662, 663, 665, 666, 667, 4763, 670, 671, 672, 673, 674, 675, 676, 4770, 4771, 679, 680, 4773, 682, 683, 684, 685, 686, 687, 688, 689, 4777, 691, 692, 693, 4781, 695, 696, 697, 698, 699, 700, 701, 702, 703, 704, 705, 706, 707, 708, 709, 710, 711, 712, 713, 714, 715, 716, 717, 4812, 719, 721, 722, 723, 725, 726, 727, 728, 729, 730, 731, 4824, 734, 735, 736, 737, 738, 739, 740, 741, 742, 744, 746, 747, 748, 749, 750, 751, 752, 753, 754, 755, 756, 757, 758, 760, 762, 763, 764, 765, 767, 768, 769, 771, 772, 773, 774, 775, 776, 4869, 778, 779, 780, 781, 782, 784, 785, 786, 787, 788, 4880, 4882, 791, 792, 793, 794, 795, 796, 797, 798, 799, 800, 802, 804, 805, 806, 807, 808, 809, 4901, 811, 4906, 4909, 814, 816, 818, 819, 820, 823, 824, 825, 826, 827, 4926, 831, 832, 833, 834, 4927, 836, 837, 838, 839, 840, 841, 842, 4939, 843, 844, 845, 846, 4944, 4945, 848, 850, 4948, 851, 852, 4951, 4943, 4953, 854, 855, 856, 857, 858, 860, 861, 862, 863, 864, 865, 866, 867, 868, 870, 4966, 4970, 872, 873, 874, 875, 876, 877, 878, 879, 4979, 880, 881, 882, 4983, 883, 4985, 885, 886, 887, 888, 889, 890, 892, 894, 896, 897, 899, 900, 904, 905, 906, 907, 908, 909, 5003, 912, 915, 917, 918, 919, 920, 921, 922, 923, 924, 926, 927, 928, 929, 930, 5023, 932, 939, 942, 946, 5043, 948, 949, 950, 951, 952, 953, 5054, 966, 5063, 5072, 5073, 5075, 5076, 988, 991, 992, 995, 997, 5097, 1005, 5104, 1023, 1024, 1026, 1029, 5131, 5144, 5147, 1060, 5156, 5159, 1064, 1068, 1072, 1075, 5180, 5181, 1096, 5193, 1104, 1109, 1133, 5230, 1139, 5251, 5252, 5253, 1158, 1160, 5256, 1162, 1176, 1193, 1198, 1209, 5312, 5315, 5316, 5317, 5318, 5323, 1230, 1233, 1234, 5329, 5338, 5353, 1259, 1260, 1261, 1262, 1263, 5365, 5368, 1276, 5373, 1279, 5376, 1281, 5378, 5386, 5388, 1298, 1300, 5398, 1304, 1305, 1309, 5406, 5409, 1315, 5411, 5412, 1318, 1322, 1324, 5421, 5432, 1338, 5434, 1347, 1348, 1349, 1351, 1353, 1354, 1358, 1359, 1360, 1362, 1364, 5465, 5467, 1377, 1378, 5473, 1380, 1381, 1382, 5474, 5487, 5492, 1397, 1399, 5495, 1401, 5496, 1403, 1407, 5518, 5523, 1433, 1434, 1436, 1437, 1441, 1448, 5553, 1461, 1462, 5561, 1467, 5564, 5565, 1470, 1471, 5566, 1481, 1488, 1491, 1493, 1497, 1500, 1505, 1507, 1514, 5610, 5611, 1518, 5615, 1525, 5626, 5628, 5633, 5634, 1539, 1547, 5649, 5651, 5659, 5660, 5662, 1569, 5668, 5669, 5672, 1577, 5673, 1580, 1582, 5681, 1587, 1589, 1590, 1591, 1596, 5696, 5698, 1604, 1606, 5703, 5704, 1611, 5712, 5713, 5714, 5715, 1621, 5720, 5722, 1631, 5730, 5731, 5735, 5737, 5739, 5740, 5741, 1648, 5745, 5748, 1663, 1664, 5776, 1686, 5782, 1696, 5793, 5795, 5799, 5802, 1712, 5809, 5811, 5816, 5819, 1725, 5821, 5822, 5824, 5825, 5831, 1737, 5835, 5837, 5844, 1749, 5845, 5849, 5855, 1761, 1762, 5857, 5859, 5861, 1766, 1767, 1768, 5866, 1771, 5867, 5869, 5876, 1782, 1791, 1792, 1793, 1796, 5893, 5894, 1805, 1806, 5909, 1817, 1820, 1822, 1825, 5922, 1827, 5925, 1832, 1834, 1835, 1836, 5932, 1839, 1841, 5939, 1845, 5942, 1848, 5944, 5948, 5950, 1855, 1862, 1864, 1872, 1886, 1890, 1897, 1899, 1900, 1901, 1915, 1920, 1924, 1929, 1930, 1932, 1935, 1941, 1957, 1962, 1969, 1976, 1978, 1981, 1984, 1992, 1998, 2000, 2012, 2021, 2028, 2036, 2038, 2042, 2045, 2049, 2064, 2067, 2075, 2092, 2100, 2101, 2103, 2112, 2119, 2129, 2135, 2146, 2148, 2160, 2163, 2169, 2172, 2176, 2177, 2183, 2185, 2188, 2190, 2191, 2195, 2196, 2199, 2202, 2213, 2231, 2237, 2243, 2244, 2245, 2246, 2251, 2252, 2259, 2261, 2262, 2265, 2268, 2269, 2282, 2289, 2300, 2304, 2308, 2319, 2340, 2349, 2352, 2353, 2356, 2358, 2362, 2402, 2419, 2426, 2428, 2431, 2432, 2438, 2443, 2450, 2457, 2458, 2472, 2473, 2483, 2488, 2509, 2538, 2545, 2565, 2568, 2573, 2574, 2595, 2612, 2613, 2614, 2615, 2644, 2660, 2661, 2669, 2676, 2681, 2683, 2684, 2687, 2691, 2700, 2703, 2704, 2713, 2740, 2750, 2753, 2760, 2762, 2771, 2790, 2798, 2799, 2804, 2805, 2807, 2808, 2815, 2817, 2819, 2844, 2849, 2851, 2853, 2872, 2876, 2886, 2903, 2930, 2937, 2942, 2944, 2960, 2971, 2972, 2973, 2974, 2989, 2998, 2999, 3028, 3034, 3040, 3043, 3046, 3050, 3051, 3056, 3062, 3064, 3065, 3067, 3068, 3070, 3076, 3086, 3103, 3104, 3123, 3124, 3126, 3133, 3135, 3137, 3140, 3144, 3148, 3149, 3153, 3158, 3159, 3162, 3163, 3176, 3180, 3183, 3185, 3188, 3189, 3192, 3194, 3195, 3198, 3199, 3203, 3204, 3228, 3238, 3246, 3247, 3252, 3255, 3270, 3276, 3279, 3280, 3281, 3282, 3283, 3288, 3291, 3296, 3304, 3306, 3310, 3314, 3316, 3328, 3331, 3341, 3345, 3361, 3364, 3398, 3400, 3407, 3409, 3437, 3439, 3455, 3460, 3467, 3486, 3487, 3491, 3503, 3504, 3505, 3508, 3509, 4776, 3555, 3567, 4780, 3571, 3576, 3581, 4785, 3600, 3608, 3614, 3616, 3618, 3622, 3635, 3639, 4794, 3645, 3648, 3650, 3659, 3660, 3661, 3669, 3670, 3685, 3707, 3710, 3713, 3722, 3725, 3733, 3734, 3741, 3744, 3748, 3753, 3755, 3761, 3784, 3791, 3793, 3804, 3813, 3816, 3819, 3822, 3831, 3832, 3837, 3864, 3879, 3884, 3885, 3900, 3904, 3917, 3922, 3932, 3936, 3937, 3939, 3941, 3942, 3947, 3951, 3954, 3955, 3957, 3958, 3963, 3975, 3978, 3982, 3990, 4002, 4015, 4016, 4019, 4022, 4023, 4069, 4074]\n"
     ]
    }
   ],
   "source": [
    "vocabulary = pd.read_csv('vocabulary.csv') # read the vocabulary file into a dataframe\n",
    "vocabulary = pd.DataFrame(vocabulary)\n",
    "\n",
    "file = open(\"Inverted Index.txt\", \"r\") # read the inverted index from the file.\n",
    "\n",
    "inv_indx = dict()\n",
    "txt = file.read().split(\"\\n\")\n",
    "\n",
    "for i in range(len(txt)-1):\n",
    "    line = txt[i].replace(\":\", \"\").replace(\"[\", \"\").replace(\"]\", \"\").replace(\"(\", \"\").replace(\")\", \"\").replace(\",\", \"\").split(\" \")\n",
    "    inv_indx[int(line[0])] = []\n",
    "    for j in range(1, len(line)):\n",
    "            inv_indx[int(line[0])].append(int(line[j]))    \n",
    "file.close()\n",
    "\n",
    "# find the words of the query in the vocabulary\n",
    "for w in query:\n",
    "    term_ids = [vocabulary[vocabulary['term'] == w]['term_id'].values for w in query if w in vocabulary.term.values]\n",
    "\n",
    "term_ids = [term_ids[x][0] for x in range(len(term_ids))] # exctract only the integers of the ids\n",
    "\n",
    "# find the documents \n",
    "docs = [inv_indx[i] for i in term_ids]\n",
    "\n",
    "# intersecting the two sets of documents we found out contain all the word of the query\n",
    "intersection = list(set(docs[0]).intersection(*docs[1:]))\n",
    "print('All the documents of the result:',intersection)"
   ]
  },
  {
   "cell_type": "markdown",
   "metadata": {},
   "source": [
    "Now we can show the results of the query after it passed into the search engine"
   ]
  },
  {
   "cell_type": "code",
   "execution_count": 11,
   "metadata": {},
   "outputs": [
    {
     "data": {
      "text/html": [
       "<div>\n",
       "<style scoped>\n",
       "    .dataframe tbody tr th:only-of-type {\n",
       "        vertical-align: middle;\n",
       "    }\n",
       "\n",
       "    .dataframe tbody tr th {\n",
       "        vertical-align: top;\n",
       "    }\n",
       "\n",
       "    .dataframe thead th {\n",
       "        text-align: right;\n",
       "    }\n",
       "</style>\n",
       "<table border=\"1\" class=\"dataframe\">\n",
       "  <thead>\n",
       "    <tr style=\"text-align: right;\">\n",
       "      <th></th>\n",
       "      <th>courseName</th>\n",
       "      <th>universityName</th>\n",
       "      <th>description</th>\n",
       "      <th>url</th>\n",
       "    </tr>\n",
       "  </thead>\n",
       "  <tbody>\n",
       "    <tr>\n",
       "      <th>1</th>\n",
       "      <td>Accounting and Finance - MSc</td>\n",
       "      <td>University of Leeds</td>\n",
       "      <td>Businesses and governments rely on sound finan...</td>\n",
       "      <td>https://www.findamasters.com/masters-degrees/c...</td>\n",
       "    </tr>\n",
       "    <tr>\n",
       "      <th>2</th>\n",
       "      <td>Accounting, Accountability &amp; Financial Managem...</td>\n",
       "      <td>King’s College London</td>\n",
       "      <td>Our Accounting, Accountability &amp; Financial Man...</td>\n",
       "      <td>https://www.findamasters.com/masters-degrees/c...</td>\n",
       "    </tr>\n",
       "    <tr>\n",
       "      <th>4099</th>\n",
       "      <td>Global MBA</td>\n",
       "      <td>London School of Business &amp; Finance</td>\n",
       "      <td>Global MBA OnlineWhen you study with London Sc...</td>\n",
       "      <td>https://www.findamasters.com/masters-degrees/c...</td>\n",
       "    </tr>\n",
       "    <tr>\n",
       "      <th>4</th>\n",
       "      <td>Addictions MSc</td>\n",
       "      <td>King’s College London</td>\n",
       "      <td>Join us for an online session for prospective ...</td>\n",
       "      <td>https://www.findamasters.com/masters-degrees/c...</td>\n",
       "    </tr>\n",
       "    <tr>\n",
       "      <th>5</th>\n",
       "      <td>Advanced Chemical Engineering - MSc</td>\n",
       "      <td>University of Leeds</td>\n",
       "      <td>The Advanced Chemical Engineering MSc at Leeds...</td>\n",
       "      <td>https://www.findamasters.com/masters-degrees/c...</td>\n",
       "    </tr>\n",
       "    <tr>\n",
       "      <th>...</th>\n",
       "      <td>...</td>\n",
       "      <td>...</td>\n",
       "      <td>...</td>\n",
       "      <td>...</td>\n",
       "    </tr>\n",
       "    <tr>\n",
       "      <th>4019</th>\n",
       "      <td>Glaciology MSc by Research</td>\n",
       "      <td>Swansea University</td>\n",
       "      <td>The MSc by Research in Glaciology allows you t...</td>\n",
       "      <td>https://www.findamasters.com/masters-degrees/c...</td>\n",
       "    </tr>\n",
       "    <tr>\n",
       "      <th>4022</th>\n",
       "      <td>Global Ageing MSc (Online)</td>\n",
       "      <td>University of Stirling</td>\n",
       "      <td>According to the WHO, between 2015 and 2050 th...</td>\n",
       "      <td>https://www.findamasters.com/masters-degrees/c...</td>\n",
       "    </tr>\n",
       "    <tr>\n",
       "      <th>4023</th>\n",
       "      <td>Global Biodiversity Conservation - MSc</td>\n",
       "      <td>University of Sussex</td>\n",
       "      <td>This MSc will give you advanced knowledge and ...</td>\n",
       "      <td>https://www.findamasters.com/masters-degrees/c...</td>\n",
       "    </tr>\n",
       "    <tr>\n",
       "      <th>4069</th>\n",
       "      <td>Global Health MSc</td>\n",
       "      <td>St George’s, University of London</td>\n",
       "      <td>Significant socioeconomic and environmental ch...</td>\n",
       "      <td>https://www.findamasters.com/masters-degrees/c...</td>\n",
       "    </tr>\n",
       "    <tr>\n",
       "      <th>4074</th>\n",
       "      <td>Global Health, Social Justice and Public Polic...</td>\n",
       "      <td>King’s College London</td>\n",
       "      <td>Our Global Health, Social Justice and Public P...</td>\n",
       "      <td>https://www.findamasters.com/masters-degrees/c...</td>\n",
       "    </tr>\n",
       "  </tbody>\n",
       "</table>\n",
       "<p>1087 rows × 4 columns</p>\n",
       "</div>"
      ],
      "text/plain": [
       "                                             courseName  \\\n",
       "1                          Accounting and Finance - MSc   \n",
       "2     Accounting, Accountability & Financial Managem...   \n",
       "4099                                         Global MBA   \n",
       "4                                        Addictions MSc   \n",
       "5                   Advanced Chemical Engineering - MSc   \n",
       "...                                                 ...   \n",
       "4019                         Glaciology MSc by Research   \n",
       "4022                         Global Ageing MSc (Online)   \n",
       "4023             Global Biodiversity Conservation - MSc   \n",
       "4069                                  Global Health MSc   \n",
       "4074  Global Health, Social Justice and Public Polic...   \n",
       "\n",
       "                           universityName  \\\n",
       "1                     University of Leeds   \n",
       "2                   King’s College London   \n",
       "4099  London School of Business & Finance   \n",
       "4                   King’s College London   \n",
       "5                     University of Leeds   \n",
       "...                                   ...   \n",
       "4019                   Swansea University   \n",
       "4022               University of Stirling   \n",
       "4023                 University of Sussex   \n",
       "4069    St George’s, University of London   \n",
       "4074                King’s College London   \n",
       "\n",
       "                                            description  \\\n",
       "1     Businesses and governments rely on sound finan...   \n",
       "2     Our Accounting, Accountability & Financial Man...   \n",
       "4099  Global MBA OnlineWhen you study with London Sc...   \n",
       "4     Join us for an online session for prospective ...   \n",
       "5     The Advanced Chemical Engineering MSc at Leeds...   \n",
       "...                                                 ...   \n",
       "4019  The MSc by Research in Glaciology allows you t...   \n",
       "4022  According to the WHO, between 2015 and 2050 th...   \n",
       "4023  This MSc will give you advanced knowledge and ...   \n",
       "4069  Significant socioeconomic and environmental ch...   \n",
       "4074  Our Global Health, Social Justice and Public P...   \n",
       "\n",
       "                                                    url  \n",
       "1     https://www.findamasters.com/masters-degrees/c...  \n",
       "2     https://www.findamasters.com/masters-degrees/c...  \n",
       "4099  https://www.findamasters.com/masters-degrees/c...  \n",
       "4     https://www.findamasters.com/masters-degrees/c...  \n",
       "5     https://www.findamasters.com/masters-degrees/c...  \n",
       "...                                                 ...  \n",
       "4019  https://www.findamasters.com/masters-degrees/c...  \n",
       "4022  https://www.findamasters.com/masters-degrees/c...  \n",
       "4023  https://www.findamasters.com/masters-degrees/c...  \n",
       "4069  https://www.findamasters.com/masters-degrees/c...  \n",
       "4074  https://www.findamasters.com/masters-degrees/c...  \n",
       "\n",
       "[1087 rows x 4 columns]"
      ]
     },
     "execution_count": 11,
     "metadata": {},
     "output_type": "execute_result"
    }
   ],
   "source": [
    "information_needed = ['courseName','universityName','description', 'url']\n",
    "dataset.loc[intersection,information_needed] "
   ]
  },
  {
   "cell_type": "markdown",
   "metadata": {},
   "source": [
    "## 2.2 Conjunctive query & Ranking score"
   ]
  },
  {
   "cell_type": "markdown",
   "metadata": {},
   "source": [
    "2.2.1 Inverted Index"
   ]
  },
  {
   "cell_type": "markdown",
   "metadata": {},
   "source": [
    "We are now going to implement a ranking system, computing the *TF-IDF* for each word in each document, and then calculating the *cosine similarity* between the query vector and each one of the vectors corresponding to the documents."
   ]
  },
  {
   "cell_type": "code",
   "execution_count": 12,
   "metadata": {},
   "outputs": [],
   "source": [
    "# tf-idf \n",
    "# use the library scikit-learn: tfidf implementation VECTORIZED \n",
    "from sklearn.feature_extraction.text import TfidfVectorizer "
   ]
  },
  {
   "cell_type": "code",
   "execution_count": null,
   "metadata": {},
   "outputs": [],
   "source": [
    "#Convert a collection of raw documents to a matrix of TF-IDF features\n",
    "\n",
    "tfidf = TfidfVectorizer(input='content', lowercase=False, tokenizer=lambda text: text)\n",
    "results = tfidf.fit_transform(dataset.description_clean) # fit data to train our model (but in our case is the same dataset)\n",
    "results_dense = results.todense() # results are sparse documents that i want to convert into a dense one\n",
    "\n",
    "# putting all into a dataframe where the index of the dataframe is each document id\n",
    "tfidf_data = pd.DataFrame(results_dense.tolist(), index=dataset.index, columns=tfidf.get_feature_names_out()) "
   ]
  },
  {
   "cell_type": "markdown",
   "metadata": {},
   "source": [
    "Creating our second inverted index in the form:\\\n",
    "<code>{\n",
    "term_id_1:[(document1, tfIdf_{term,document1}), (document2, tfIdf_{term,document2}), (document4, tfIdf_{term,document4}), ...],\n",
    "term_id_2:[(document1, tfIdf_{term,document1}), (document3, tfIdf_{term,document3}), (document5, tfIdf_{term,document5}), (document6, tfIdf_{term,document6}), ...],\n",
    "...}\n",
    "</code>\n",
    "And then storing it in a txt file called *Extented Inverted Index.txt*"
   ]
  },
  {
   "cell_type": "code",
   "execution_count": null,
   "metadata": {},
   "outputs": [],
   "source": [
    "# creating the second inverted index\n",
    "from collections import defaultdict\n",
    "extended_inverted_index = defaultdict(list)\n",
    "\n",
    "# Iterate through each term in the inverted index\n",
    "for term_id, doc_indices in inv_indx.items():\n",
    "    # Iterate through each document index for the current term\n",
    "    \n",
    "    for doc_index in doc_indices:\n",
    "        # Get the TF-IDF scores for the current document \n",
    "        word = vocabulary[vocabulary['term_id'] == term_id]['term'].values\n",
    "     \n",
    "        if  word[0] in tfidf_data.columns: # check if the word is in the tfidf\n",
    "                tfidf_scores = tfidf_data.loc[doc_index,word[0]]\n",
    "        else:\n",
    "                continue\n",
    "\n",
    "        # Append a tuple of (document_index, TF-IDF scores) to the term's list in the extended inverted index\n",
    "        extended_inverted_index[term_id].append((doc_index, tfidf_scores))\n",
    "\n",
    "# Convert the extended inverted index defaultdict to a regular dictionary\n",
    "extended_inverted_index = dict(extended_inverted_index)\n",
    "print(extended_inverted_index)\n",
    "\n",
    "# save the extended inverted dictionary in a txt file as before\n",
    "with open('Extended Inverted Index.txt', 'w') as file:\n",
    "\n",
    "    for key, value in extended_inverted_index.items():\n",
    "        file.write(f'{key}: {value}\\n')\n",
    "file.close()"
   ]
  },
  {
   "cell_type": "code",
   "execution_count": 15,
   "metadata": {},
   "outputs": [],
   "source": [
    "# read the inverted index from the file.\n",
    "\n",
    "file = open(\"Extended Inverted Index.txt\", \"r\")\n",
    "\n",
    "ext_inv_indx = dict()\n",
    "txt = file.read().split(\"\\n\")\n",
    "\n",
    "for i in range(len(txt)-1):\n",
    "    line = txt[i].replace(\":\", \"\").replace(\"[\", \"\").replace(\"]\", \"\").replace(\"(\", \"\").replace(\")\", \"\").replace(\",\", \"\").split(\" \")\n",
    "    ext_inv_indx[int(line[0])] = []\n",
    "    for j in range(1, len(line)):\n",
    "        if j%2 == 1:\n",
    "            ext_inv_indx[int(line[0])].append((int(line[j]), float(line[j+1])))\n",
    "            \n",
    "file.close()"
   ]
  },
  {
   "cell_type": "markdown",
   "metadata": {},
   "source": [
    "2.2.2 Execute the query"
   ]
  },
  {
   "cell_type": "markdown",
   "metadata": {},
   "source": [
    "We created the query vector, putting a 1 if the word corresponding to the position is present in the query, 0 if is not.\\\n",
    "The vector for each description is each row of the dataframe tfidf, so no need to compute it for each document."
   ]
  },
  {
   "cell_type": "code",
   "execution_count": 16,
   "metadata": {},
   "outputs": [],
   "source": [
    "# create a vector for the query\n",
    "query_vec = np.zeros(vocabulary.shape[0]) # inizialize the vector\n",
    "for word in query:\n",
    "    if word in tfidf_data.columns:\n",
    "        term_id = vocabulary[vocabulary['term'] == word]['term_id']\n",
    "        query_vec[term_id] = 1.0\n",
    "\n",
    "# the documents matrix with all the tfidf is the dataframe tfidf"
   ]
  },
  {
   "cell_type": "markdown",
   "metadata": {},
   "source": [
    "Now we need the cosine similarity function that we wrote in the *defs.py*, which simply exploits the definition of the cosine similaruty between two vectors that create the $\\phi$ angle:\n",
    "\n",
    "$cos(\\phi) = \\frac{\\vec{q} \\cdot \\vec{d}}{|{\\vec{q}}| \\cdot |{\\vec{d}}|}$"
   ]
  },
  {
   "cell_type": "markdown",
   "metadata": {},
   "source": [
    "Instead of using a list sto store the similarity scores, we can use a heap structure, to make the sorting more efficient from a computational point of view."
   ]
  },
  {
   "cell_type": "code",
   "execution_count": 17,
   "metadata": {},
   "outputs": [
    {
     "name": "stderr",
     "output_type": "stream",
     "text": [
      "c:\\Users\\anton\\Documents\\GitHub\\ADM---HW3\\defs.py:179: RuntimeWarning: invalid value encountered in scalar divide\n",
      "  cos_sim =np.dot(query_vec, doc_arr) / (np.linalg.norm(doc_arr) * np.linalg.norm(query_vec))\n"
     ]
    },
    {
     "name": "stdout",
     "output_type": "stream",
     "text": [
      "{0: 0.0, 1: 0.0, 2: 0.0, 3: 0.0, 4: 0.0, 5: 0.0, 6: 0.0, 7: 0.0, 8: 0.0, 9: 0.0, 10: 0.0, 11: 0.0, 12: 0.0, 13: 0.0, 14: 0.0, 15: 0.0, 16: 0.0, 17: 0.0, 18: 0.0, 19: 0.0, 20: 0.0, 21: 0.0, 22: 0.0, 23: 0.0, 24: 0.0, 25: 0.0, 26: 0.0, 27: 0.0, 28: 0.0, 29: 0.0, 30: 0.0, 31: 0.0, 32: 0.0, 33: 0.0, 34: 0.0, 35: 0.0, 36: 0.0, 37: 0.0, 38: 0.0, 39: 0.0, 40: 0.0, 41: 0.0, 42: 0.0, 43: 0.0, 44: 0.0, 45: 0.0, 46: 0.0, 47: 0.0, 48: 0.0, 49: 0.0, 50: 0.0, 51: 0.0, 52: 0.0, 53: 0.0, 54: 0.0, 55: 0.0, 56: 0.0, 57: 0.0, 58: 0.0, 59: 0.0, 60: 0.0, 61: 0.0, 62: 0.0, 63: 0.0, 64: 0.0, 65: 0.0, 66: 0.0, 67: 0.0, 68: 0.0, 69: 0.0, 70: 0.0, 71: 0.0, 72: 0.0, 73: 0.0, 74: 0.0, 75: 0.0, 76: 0.0, 77: 0.0, 78: 0.0, 79: 0.0, 80: 0.0, 81: 0.0, 82: 0.0, 83: 0.0, 84: 0.0, 85: 0.0, 86: 0.0, 87: 0.0, 88: 0.0, 89: 0.0, 90: 0.0, 91: 0.0, 92: 0.0, 93: 0.0, 94: 0.0, 95: 0.0, 96: 0.0, 97: 0.0, 98: 0.0, 99: 0.0, 100: 0.0, 101: 0.0, 102: 0.0, 103: 0.0, 104: 0.0, 105: 0.0, 106: 0.0, 107: 0.0, 108: 0.0, 109: 0.0, 110: 0.0, 111: 0.0, 112: 0.0, 113: 0.0, 114: 0.0, 115: 0.0, 116: 0.0, 117: 0.0, 118: 0.0, 119: 0.0, 120: 0.0, 121: 0.0, 122: 0.0, 123: 0.0, 124: 0.0, 125: 0.0, 126: 0.0, 127: 0.0, 128: 0.0, 129: 0.0, 130: 0.0, 131: 0.0, 132: 0.0, 133: 0.0, 134: 0.0, 135: 0.0, 136: 0.0, 137: 0.0, 138: 0.0, 139: 0.0, 140: 0.0, 141: 0.0, 142: 0.0, 143: 0.0, 144: 0.0, 145: 0.0, 146: 0.0, 147: 0.0, 148: 0.0, 149: 0.0, 150: 0.0, 151: 0.0, 152: 0.0, 153: 0.0, 154: 0.0, 155: 0.0, 156: 0.0, 157: 0.0, 158: 0.0, 159: 0.0, 160: 0.0, 161: 0.0, 162: 0.0, 163: 0.0, 164: 0.0, 165: 0.0, 166: 0.0, 167: 0.0, 168: 0.0, 169: 0.0, 170: 0.0, 171: 0.0, 172: 0.0, 173: 0.0, 174: 0.0, 175: 0.0, 176: 0.0, 177: 0.0, 178: 0.0, 179: 0.0, 180: 0.0, 181: 0.0, 182: 0.0, 183: 0.0, 184: 0.0, 185: 0.0, 186: 0.0, 187: 0.0, 188: 0.0, 189: 0.0, 190: 0.0, 191: 0.0, 192: 0.0, 193: 0.0, 194: 0.0, 195: 0.0, 196: 0.0, 197: 0.0, 198: 0.0, 199: 0.0, 200: 0.0, 201: 0.0, 202: 0.0, 203: 0.0, 204: 0.0, 205: 0.0, 206: 0.0, 207: 0.0, 208: 0.0, 209: 0.0, 210: 0.0, 211: 0.0, 212: 0.0, 213: 0.0, 214: 0.0, 215: 0.0, 216: 0.0, 217: 0.0, 218: 0.0, 219: 0.0, 220: 0.0, 221: 0.0, 222: 0.0, 223: 0.0, 224: 0.0, 225: 0.0, 226: 0.0, 227: 0.0, 228: 0.0, 229: 0.0, 230: 0.0, 231: 0.0, 232: 0.0, 233: 0.0, 234: 0.0, 235: 0.0, 236: 0.0, 237: 0.0, 238: 0.0, 239: 0.0, 240: 0.0, 241: 0.0, 242: 0.0, 243: 0.0, 244: 0.0, 245: 0.0, 246: 0.0, 247: 0.0, 248: 0.0, 249: 0.0, 250: 0.0, 251: 0.0, 252: 0.0, 253: 0.0, 254: 0.0, 255: 0.0, 256: 0.0, 257: 0.0, 258: 0.0, 259: 0.0, 260: 0.0, 261: 0.0, 262: 0.0, 263: 0.0, 264: 0.0, 265: 0.0, 266: 0.0, 267: 0.0, 268: 0.0, 269: 0.0, 270: 0.0, 271: 0.0, 272: 0.0, 273: 0.0, 274: 0.0, 275: 0.0, 276: 0.0, 277: 0.0, 278: 0.0, 279: 0.0, 280: 0.0, 281: 0.0, 282: 0.0, 283: 0.0, 284: 0.0, 285: 0.0, 286: 0.0, 287: 0.0, 288: 0.0, 289: 0.0, 290: 0.0, 291: 0.0, 292: 0.0, 293: 0.0, 294: 0.0, 295: 0.0, 296: 0.0, 297: 0.0, 298: 0.0, 299: 0.0, 300: 0.0, 301: 0.0, 302: 0.0, 303: 0.0, 304: 0.0, 305: 0.0, 306: 0.0, 307: 0.0, 308: 0.0, 309: 0.0, 310: 0.0, 311: 0.0, 312: 0.0, 313: 0.0, 314: 0.0, 315: 0.0, 316: 0.0, 317: 0.0, 318: 0.0, 319: 0.0, 320: 0.0, 321: 0.0, 322: 0.0, 323: 0.0, 324: 0.0, 325: 0.0, 326: 0.0, 327: 0.0, 328: 0.0, 329: 0.0, 330: 0.0, 331: 0.0, 332: 0.0, 333: 0.0, 334: 0.0, 335: 0.0, 336: 0.0, 337: 0.0, 338: 0.0, 339: 0.0, 340: 0.0, 341: 0.0, 342: 0.0, 343: 0.0, 344: 0.0, 345: 0.0, 346: 0.0, 347: 0.0, 348: 0.0, 349: 0.0, 350: 0.0, 351: 0.0, 352: 0.0, 353: 0.0, 354: 0.0, 355: 0.0, 356: 0.0, 357: 0.0, 358: 0.0, 359: 0.0, 360: 0.0, 361: 0.0, 362: 0.0, 363: 0.0, 364: 0.0, 365: 0.0, 366: 0.0, 367: 0.0, 368: 0.0, 369: 0.0, 370: 0.0, 371: 0.0, 372: 0.0, 373: 0.0, 374: 0.0, 375: 0.0, 376: 0.0, 377: 0.0, 378: 0.0, 379: 0.0, 380: 0.0, 381: 0.0, 382: 0.0, 383: 0.0, 384: 0.0, 385: 0.0, 386: 0.0, 387: 0.0, 388: 0.0, 389: 0.0, 390: 0.0, 391: 0.0, 392: 0.0, 393: 0.0, 394: 0.0, 395: 0.0, 396: 0.0, 397: 0.0, 398: 0.0, 399: 0.0, 400: 0.0, 401: 0.0, 402: 0.0, 403: 0.0, 404: 0.0, 405: 0.0, 406: 0.0, 407: 0.0, 408: 0.0, 409: 0.0, 410: 0.0, 411: 0.0, 412: 0.0, 413: 0.0, 414: 0.0, 415: 0.0, 416: 0.0, 417: 0.0, 418: 0.0, 419: 0.0, 420: 0.0, 421: 0.0, 422: 0.0, 423: 0.0, 424: 0.0, 425: 0.0, 426: 0.0, 427: 0.0, 428: 0.0, 429: 0.0, 430: 0.0, 431: 0.0, 432: 0.0, 433: 0.0, 434: 0.0, 435: 0.0, 436: 0.0, 437: 0.0, 438: 0.0, 439: 0.0, 440: 0.0, 441: 0.0, 442: 0.0, 443: 0.0, 444: 0.0, 445: 0.0, 446: 0.0, 447: 0.0, 448: 0.0, 449: 0.0, 450: 0.0, 451: 0.0, 452: 0.0, 453: 0.0, 454: 0.0, 455: 0.0, 456: 0.0, 457: 0.0, 458: 0.0, 459: 0.0, 460: 0.0, 461: 0.0, 462: 0.0, 463: 0.0, 464: 0.0, 465: 0.0, 466: 0.0, 467: 0.0, 468: 0.0, 469: 0.0, 470: 0.0, 471: 0.0, 472: 0.0, 473: 0.0, 474: 0.0, 475: 0.0, 476: 0.0, 477: 0.0, 478: 0.0, 479: 0.0, 480: 0.0, 481: 0.0, 482: 0.0, 483: -1, 484: 0.0, 485: 0.0, 486: 0.0, 487: 0.0, 488: 0.0, 489: 0.0, 490: 0.0, 491: 0.0, 492: 0.0, 493: 0.0, 494: 0.0, 495: 0.0, 496: 0.0, 497: 0.0, 498: 0.0, 499: 0.0, 500: 0.0, 501: 0.0, 502: 0.0, 503: 0.0, 504: 0.0, 505: 0.0, 506: 0.0, 507: 0.0, 508: 0.0, 509: 0.0, 510: 0.0, 511: 0.0, 512: 0.0, 513: 0.0, 514: 0.0, 515: 0.0, 516: 0.0, 517: 0.0, 518: 0.0, 519: 0.0, 520: 0.0, 521: 0.0, 522: 0.0, 523: 0.0, 524: 0.0, 525: 0.0, 526: 0.0, 527: 0.0, 528: -1, 529: 0.0, 530: 0.0, 531: 0.0, 532: 0.0, 533: 0.0, 534: 0.0, 535: 0.0, 536: 0.0, 537: 0.0, 538: 0.0, 539: 0.0, 540: 0.0, 541: 0.0, 542: 0.0, 543: 0.0, 544: 0.0, 545: 0.0, 546: 0.0, 547: 0.0, 548: 0.0, 549: 0.0, 550: 0.0, 551: 0.0, 552: 0.0, 553: 0.0, 554: 0.0, 555: 0.0, 556: 0.0, 557: 0.0, 558: 0.0, 559: 0.0, 560: 0.0, 561: 0.0, 562: 0.0, 563: 0.0, 564: 0.0, 565: 0.0, 566: 0.0, 567: 0.0, 568: 0.0, 569: 0.0, 570: 0.0, 571: 0.0, 572: 0.0, 573: 0.0, 574: 0.0, 575: 0.0, 576: 0.0, 577: 0.0, 578: 0.0, 579: 0.0, 580: 0.0, 581: 0.0, 582: 0.0, 583: 0.0, 584: 0.0, 585: 0.0, 586: 0.0, 587: 0.0, 588: 0.0, 589: 0.0, 590: 0.0, 591: 0.0, 592: 0.0, 593: 0.0, 594: 0.0, 595: 0.0, 596: 0.0, 597: 0.0, 598: 0.0, 599: 0.0, 600: 0.0, 601: 0.0, 602: 0.0, 603: 0.0, 604: 0.0, 605: 0.0, 606: 0.0, 607: 0.0, 608: 0.0, 609: 0.0, 610: 0.0, 611: 0.0, 612: 0.0, 613: 0.0, 614: 0.0, 615: 0.0, 616: 0.0, 617: 0.0, 618: 0.0, 619: 0.0, 620: 0.0, 621: 0.0, 622: 0.0, 623: 0.0, 624: 0.0, 625: 0.0, 626: 0.0, 627: 0.0, 628: 0.0, 629: 0.0, 630: 0.0, 631: 0.0, 632: 0.0, 633: 0.0, 634: 0.0, 635: 0.0, 636: 0.0, 637: 0.0, 638: 0.0, 639: 0.0, 640: 0.0, 641: 0.0, 642: 0.0, 643: 0.0, 644: 0.0, 645: 0.0, 646: 0.0, 647: 0.0, 648: 0.0, 649: 0.0, 650: 0.0, 651: 0.0, 652: 0.0, 653: 0.0, 654: 0.0, 655: 0.0, 656: 0.0, 657: 0.0, 658: 0.0, 659: 0.0, 660: 0.0, 661: 0.0, 662: 0.0, 663: 0.0, 664: 0.0, 665: 0.0, 666: 0.0, 667: 0.0, 668: 0.0, 669: 0.0, 670: 0.0, 671: 0.0, 672: 0.0, 673: 0.0, 674: 0.0, 675: 0.0, 676: 0.0, 677: 0.0, 678: 0.0, 679: 0.0, 680: 0.0, 681: 0.0, 682: 0.0, 683: 0.0, 684: 0.0, 685: 0.0, 686: 0.0, 687: 0.0, 688: 0.0, 689: 0.0, 690: -1, 691: 0.0, 692: 0.0, 693: 0.0, 694: 0.0, 695: 0.0, 696: 0.0, 697: 0.0, 698: 0.0, 699: 0.0, 700: 0.0, 701: 0.0, 702: 0.0, 703: 0.0, 704: 0.0, 705: 0.0, 706: 0.0, 707: 0.0, 708: 0.0, 709: 0.0, 710: 0.0, 711: 0.0, 712: 0.0, 713: 0.0, 714: 0.0, 715: 0.0, 716: 0.0, 717: 0.0, 718: 0.0, 719: 0.0, 720: 0.0, 721: 0.0, 722: 0.0, 723: 0.0, 724: 0.0, 725: 0.0, 726: 0.0, 727: 0.0, 728: 0.0, 729: 0.0, 730: 0.0, 731: 0.0, 732: 0.0, 733: 0.0, 734: 0.0, 735: 0.0, 736: 0.0, 737: 0.0, 738: 0.0, 739: 0.0, 740: 0.0, 741: 0.0, 742: 0.0, 743: 0.0, 744: 0.0, 745: 0.0, 746: 0.0, 747: 0.0, 748: 0.0, 749: 0.0, 750: 0.0, 751: 0.0, 752: 0.0, 753: 0.0, 754: 0.0, 755: 0.0, 756: 0.0, 757: 0.0, 758: 0.0, 759: 0.0, 760: 0.0, 761: 0.0, 762: 0.0, 763: 0.0, 764: 0.0, 765: 0.0, 766: -1, 767: 0.0, 768: 0.0, 769: 0.0, 770: 0.0, 771: 0.0, 772: 0.0, 773: 0.0, 774: 0.0, 775: 0.0, 776: 0.0, 777: 0.0, 778: 0.0, 779: 0.0, 780: 0.0, 781: 0.0, 782: 0.0, 783: 0.0, 784: 0.0, 785: 0.0, 786: 0.0, 787: 0.0, 788: 0.0, 789: 0.0, 790: 0.0, 791: 0.0, 792: 0.0, 793: 0.0, 794: 0.0, 795: 0.0, 796: 0.0, 797: 0.0, 798: 0.0, 799: 0.0, 800: 0.0, 801: 0.0, 802: 0.0, 803: 0.0, 804: 0.0, 805: 0.0, 806: 0.0, 807: 0.0, 808: 0.0, 809: 0.0, 810: 0.0, 811: 0.0, 812: 0.0, 813: 0.0, 814: 0.0, 815: 0.0, 816: 0.0, 817: 0.0, 818: 0.0, 819: 0.0, 820: 0.0, 821: 0.0, 822: 0.0, 823: 0.0, 824: 0.0, 825: 0.0, 826: 0.0, 827: 0.0, 828: 0.0, 829: 0.0, 830: 0.0, 831: 0.0, 832: 0.0, 833: 0.0, 834: 0.0, 835: 0.0, 836: 0.0, 837: 0.0, 838: 0.0, 839: 0.0, 840: 0.0, 841: 0.0, 842: 0.0, 843: 0.0, 844: 0.0, 845: 0.0, 846: 0.0, 847: 0.0, 848: 0.0, 849: 0.0, 850: 0.0, 851: 0.0, 852: 0.0, 853: 0.0, 854: 0.0, 855: 0.0, 856: 0.0, 857: 0.0, 858: 0.0, 859: 0.0, 860: 0.0, 861: 0.0, 862: 0.0, 863: 0.0, 864: 0.0, 865: 0.0, 866: 0.0, 867: 0.0, 868: 0.0, 869: 0.0, 870: 0.0, 871: 0.0, 872: 0.0, 873: 0.0, 874: 0.0, 875: 0.0, 876: 0.0, 877: 0.0, 878: 0.0, 879: 0.0, 880: 0.0, 881: 0.0, 882: 0.0, 883: 0.0, 884: 0.0, 885: 0.0, 886: 0.0, 887: 0.0, 888: 0.0, 889: 0.0, 890: 0.0, 891: 0.0, 892: 0.0, 893: 0.0, 894: 0.0, 895: 0.0, 896: 0.0, 897: 0.0, 898: 0.0, 899: 0.0, 900: 0.0, 901: 0.0, 902: 0.0, 903: -1, 904: 0.0, 905: 0.0, 906: 0.0, 907: 0.0, 908: 0.0, 909: 0.0, 910: 0.0, 911: 0.0, 912: 0.0, 913: 0.0, 914: 0.0, 915: 0.0, 916: 0.0, 917: 0.0, 918: 0.0, 919: 0.0, 920: 0.0, 921: 0.0, 922: 0.0, 923: 0.0, 924: 0.0, 925: 0.0, 926: 0.0, 927: 0.0, 928: 0.0, 929: 0.0, 930: 0.0, 931: 0.0, 932: 0.0, 933: 0.0, 934: 0.0, 935: 0.0, 936: 0.0, 937: 0.0, 938: 0.0, 939: 0.0, 940: 0.0, 941: 0.0, 942: 0.0, 943: 0.0, 944: 0.0, 945: -1, 946: 0.0, 947: 0.0, 948: 0.0, 949: 0.0, 950: 0.0, 951: 0.0, 952: 0.0, 953: 0.0, 954: 0.0, 955: 0.0, 956: 0.0, 957: 0.0, 958: 0.0, 959: 0.0, 960: 0.0, 961: 0.0, 962: 0.0, 963: 0.0, 964: 0.0, 965: 0.0, 966: 0.0, 967: 0.0, 968: 0.0, 969: 0.0, 970: 0.0, 971: 0.0, 972: 0.0, 973: 0.0, 974: 0.0, 975: 0.0, 976: 0.0, 977: 0.0, 978: 0.0, 979: 0.0, 980: 0.0, 981: 0.0, 982: 0.0, 983: 0.0, 984: 0.0, 985: 0.0, 986: 0.0, 987: 0.0, 988: 0.0, 989: 0.0, 990: 0.0, 991: 0.0, 992: 0.0, 993: 0.0, 994: 0.0, 995: 0.0, 996: 0.0, 997: 0.0, 998: 0.0, 999: 0.0, 1000: 0.0, 1001: 0.0, 1002: 0.0, 1003: 0.0, 1004: 0.0, 1005: 0.0, 1006: 0.0, 1007: 0.0, 1008: 0.0, 1009: 0.0, 1010: 0.0, 1011: 0.0, 1012: 0.0, 1013: 0.0, 1014: 0.0, 1015: 0.0, 1016: 0.0, 1017: 0.0, 1018: 0.0, 1019: 0.0, 1020: 0.0, 1021: 0.0, 1022: 0.0, 1023: 0.0, 1024: 0.0, 1025: 0.0, 1026: 0.0, 1027: 0.0, 1028: 0.0, 1029: 0.0, 1030: 0.0, 1031: 0.0, 1032: 0.0, 1033: 0.0, 1034: 0.0, 1035: 0.0, 1036: 0.0, 1037: 0.0, 1038: 0.0, 1039: 0.0, 1040: 0.0, 1041: 0.0, 1042: 0.0, 1043: 0.0, 1044: 0.0, 1045: 0.0, 1046: 0.0, 1047: 0.0, 1048: 0.0, 1049: 0.0, 1050: 0.0, 1051: 0.0, 1052: 0.0, 1053: 0.0, 1054: 0.0, 1055: 0.0, 1056: 0.0, 1057: 0.0, 1058: 0.0, 1059: 0.0, 1060: 0.0, 1061: 0.0, 1062: -1, 1063: 0.0, 1064: 0.0, 1065: 0.0, 1066: 0.0, 1067: 0.0, 1068: 0.0, 1069: 0.0, 1070: 0.0, 1071: 0.0, 1072: 0.0, 1073: 0.0, 1074: 0.0, 1075: 0.0, 1076: 0.0, 1077: 0.0, 1078: 0.0, 1079: 0.0, 1080: 0.0, 1081: 0.0, 1082: 0.0, 1083: 0.0, 1084: 0.0, 1085: 0.0, 1086: 0.0, 1087: 0.0, 1088: 0.0, 1089: 0.0, 1090: 0.0, 1091: 0.0, 1092: 0.0, 1093: 0.0, 1094: 0.0, 1095: 0.0, 1096: 0.0, 1097: 0.0, 1098: 0.0, 1099: 0.0, 1100: 0.0, 1101: 0.0, 1102: 0.0, 1103: 0.0, 1104: 0.0, 1105: 0.0, 1106: 0.0, 1107: 0.0, 1108: 0.0, 1109: 0.0, 1110: 0.0, 1111: 0.0, 1112: 0.0, 1113: 0.0, 1114: 0.0, 1115: 0.0, 1116: 0.0, 1117: 0.0, 1118: 0.0, 1119: 0.0, 1120: 0.0, 1121: 0.0, 1122: 0.0, 1123: 0.0, 1124: 0.0, 1125: 0.0, 1126: 0.0, 1127: 0.0, 1128: 0.0, 1129: 0.0, 1130: 0.0, 1131: 0.0, 1132: 0.0, 1133: 0.0, 1134: 0.0, 1135: 0.0, 1136: 0.0, 1137: 0.0, 1138: 0.0, 1139: 0.0, 1140: 0.0, 1141: 0.0, 1142: 0.0, 1143: 0.0, 1144: 0.0, 1145: 0.0, 1146: 0.0, 1147: 0.0, 1148: 0.0, 1149: 0.0, 1150: 0.0, 1151: 0.0, 1152: 0.0, 1153: 0.0, 1154: 0.0, 1155: 0.0, 1156: 0.0, 1157: 0.0, 1158: 0.0, 1159: 0.0, 1160: 0.0, 1161: 0.0, 1162: 0.0, 1163: 0.0, 1164: 0.0, 1165: 0.0, 1166: 0.0, 1167: 0.0, 1168: 0.0, 1169: 0.0, 1170: 0.0, 1171: 0.0, 1172: 0.0, 1173: 0.0, 1174: 0.0, 1175: 0.0, 1176: 0.0, 1177: 0.0, 1178: 0.0, 1179: 0.0, 1180: 0.0, 1181: 0.0, 1182: 0.0, 1183: 0.0, 1184: 0.0, 1185: 0.0, 1186: 0.0, 1187: 0.0, 1188: 0.0, 1189: 0.0, 1190: 0.0, 1191: 0.0, 1192: 0.0, 1193: 0.0, 1194: 0.0, 1195: 0.0, 1196: 0.0, 1197: 0.0, 1198: 0.0, 1199: 0.0, 1200: 0.0, 1201: 0.0, 1202: 0.0, 1203: 0.0, 1204: 0.0, 1205: 0.0, 1206: 0.0, 1207: 0.0, 1208: 0.0, 1209: 0.0, 1210: 0.0, 1211: 0.0, 1212: 0.0, 1213: 0.0, 1214: 0.0, 1215: 0.0, 1216: 0.0, 1217: 0.0, 1218: 0.0, 1219: 0.0, 1220: 0.0, 1221: 0.0, 1222: 0.0, 1223: 0.0, 1224: 0.0, 1225: 0.0, 1226: 0.0, 1227: 0.0, 1228: 0.0, 1229: 0.0, 1230: 0.0, 1231: 0.0, 1232: 0.0, 1233: 0.0, 1234: 0.0, 1235: 0.0, 1236: 0.0, 1237: 0.0, 1238: 0.0, 1239: 0.0, 1240: 0.0, 1241: 0.0, 1242: 0.0, 1243: 0.0, 1244: 0.0, 1245: 0.0, 1246: 0.0, 1247: 0.0, 1248: 0.0, 1249: 0.0, 1250: 0.0, 1251: 0.0, 1252: 0.0, 1253: 0.0, 1254: 0.0, 1255: 0.0, 1256: 0.0, 1257: 0.0, 1258: 0.0, 1259: 0.0, 1260: 0.0, 1261: 0.0, 1262: 0.0, 1263: 0.0, 1264: 0.0, 1265: 0.0, 1266: 0.0, 1267: 0.0, 1268: 0.0, 1269: 0.0, 1270: 0.0, 1271: 0.0, 1272: 0.0, 1273: 0.0, 1274: 0.0, 1275: 0.0, 1276: 0.0, 1277: 0.0, 1278: 0.0, 1279: 0.0, 1280: 0.0, 1281: 0.0, 1282: 0.0, 1283: 0.0, 1284: 0.0, 1285: 0.0, 1286: 0.0, 1287: 0.0, 1288: 0.0, 1289: 0.0, 1290: 0.0, 1291: 0.0, 1292: 0.0, 1293: 0.0, 1294: 0.0, 1295: 0.0, 1296: 0.0, 1297: 0.0, 1298: 0.0, 1299: 0.0, 1300: 0.0, 1301: 0.0, 1302: 0.0, 1303: 0.0, 1304: 0.0, 1305: 0.0, 1306: 0.0, 1307: 0.0, 1308: 0.0, 1309: 0.0, 1310: 0.0, 1311: 0.0, 1312: 0.0, 1313: 0.0, 1314: 0.0, 1315: 0.0, 1316: 0.0, 1317: 0.0, 1318: 0.0, 1319: 0.0, 1320: 0.0, 1321: 0.0, 1322: 0.0, 1323: 0.0, 1324: 0.0, 1325: 0.0, 1326: 0.0, 1327: 0.0, 1328: 0.0, 1329: 0.0, 1330: 0.0, 1331: 0.0, 1332: 0.0, 1333: 0.0, 1334: 0.0, 1335: 0.0, 1336: 0.0, 1337: 0.0, 1338: 0.0, 1339: 0.0, 1340: 0.0, 1341: 0.0, 1342: 0.0, 1343: 0.0, 1344: 0.0, 1345: 0.0, 1346: 0.0, 1347: 0.0, 1348: 0.0, 1349: 0.0, 1350: 0.0, 1351: 0.0, 1352: 0.0, 1353: 0.0, 1354: 0.0, 1355: 0.0, 1356: 0.0, 1357: 0.0, 1358: 0.0, 1359: 0.0, 1360: 0.0, 1361: 0.0, 1362: 0.0, 1363: 0.0, 1364: 0.0, 1365: 0.0, 1366: 0.0, 1367: 0.0, 1368: 0.0, 1369: 0.0, 1370: 0.0, 1371: 0.0, 1372: 0.0, 1373: 0.0, 1374: 0.0, 1375: 0.0, 1376: 0.0, 1377: 0.0, 1378: 0.0, 1379: 0.0, 1380: 0.0, 1381: 0.0, 1382: 0.0, 1383: 0.0, 1384: 0.0, 1385: 0.0, 1386: 0.0, 1387: 0.0, 1388: 0.0, 1389: 0.0, 1390: 0.0, 1391: 0.0, 1392: 0.0, 1393: 0.0, 1394: 0.0, 1395: 0.0, 1396: 0.0, 1397: 0.0, 1398: 0.0, 1399: 0.0, 1400: 0.0, 1401: 0.0, 1402: 0.0, 1403: 0.0, 1404: 0.0, 1405: 0.0, 1406: 0.0, 1407: 0.0, 1408: 0.0, 1409: 0.0, 1410: 0.0, 1411: 0.0, 1412: 0.0, 1413: 0.0, 1414: 0.0, 1415: 0.0, 1416: -1, 1417: 0.0, 1418: 0.0, 1419: 0.0, 1420: 0.0, 1421: 0.0, 1422: 0.0, 1423: 0.0, 1424: 0.0, 1425: 0.0, 1426: 0.0, 1427: 0.0, 1428: 0.0, 1429: 0.0, 1430: 0.0, 1431: 0.0, 1432: 0.0, 1433: 0.0, 1434: 0.0, 1435: 0.0, 1436: 0.0, 1437: 0.0, 1438: 0.0, 1439: 0.0, 1440: 0.0, 1441: 0.0, 1442: 0.0, 1443: 0.0, 1444: 0.0, 1445: 0.0, 1446: 0.0, 1447: 0.0, 1448: 0.0, 1449: 0.0, 1450: 0.0, 1451: 0.0, 1452: 0.0, 1453: 0.0, 1454: 0.0, 1455: 0.0, 1456: 0.0, 1457: 0.0, 1458: 0.0, 1459: 0.0, 1460: 0.0, 1461: 0.0, 1462: 0.0, 1463: 0.0, 1464: 0.0, 1465: 0.0, 1466: 0.0, 1467: 0.0, 1468: 0.0, 1469: 0.0, 1470: 0.0, 1471: 0.0, 1472: 0.0, 1473: 0.0, 1474: 0.0, 1475: 0.0, 1476: 0.0, 1477: 0.0, 1478: 0.0, 1479: 0.0, 1480: 0.0, 1481: 0.0, 1482: 0.0, 1483: 0.0, 1484: 0.0, 1485: 0.0, 1486: 0.0, 1487: 0.0, 1488: 0.0, 1489: 0.0, 1490: 0.0, 1491: 0.0, 1492: 0.0, 1493: 0.0, 1494: 0.0, 1495: 0.0, 1496: 0.0, 1497: 0.0, 1498: 0.0, 1499: 0.0, 1500: 0.0, 1501: 0.0, 1502: 0.0, 1503: 0.0, 1504: 0.0, 1505: 0.0, 1506: 0.0, 1507: 0.0, 1508: 0.0, 1509: 0.0, 1510: 0.0, 1511: 0.0, 1512: 0.0, 1513: 0.0, 1514: 0.0, 1515: 0.0, 1516: 0.0, 1517: 0.0, 1518: 0.0, 1519: 0.0, 1520: 0.0, 1521: 0.0, 1522: 0.0, 1523: 0.0, 1524: 0.0, 1525: 0.0, 1526: 0.0, 1527: 0.0, 1528: 0.0, 1529: 0.0, 1530: 0.0, 1531: 0.0, 1532: 0.0, 1533: 0.0, 1534: 0.0, 1535: 0.0, 1536: 0.0, 1537: 0.0, 1538: 0.0, 1539: 0.0, 1540: 0.0, 1541: 0.0, 1542: 0.0, 1543: 0.0, 1544: 0.0, 1545: 0.0, 1546: 0.0, 1547: 0.0, 1548: 0.0, 1549: 0.0, 1550: 0.0, 1551: 0.0, 1552: 0.0, 1553: 0.0, 1554: 0.0, 1555: 0.0, 1556: 0.0, 1557: 0.0, 1558: 0.0, 1559: 0.0, 1560: 0.0, 1561: 0.0, 1562: 0.0, 1563: 0.0, 1564: 0.0, 1565: 0.0, 1566: 0.0, 1567: 0.0, 1568: 0.0, 1569: 0.0, 1570: 0.0, 1571: 0.0, 1572: 0.0, 1573: 0.0, 1574: 0.0, 1575: 0.0, 1576: 0.0, 1577: 0.0, 1578: 0.0, 1579: 0.0, 1580: 0.0, 1581: 0.0, 1582: 0.0, 1583: 0.0, 1584: 0.0, 1585: 0.0, 1586: 0.0, 1587: 0.0, 1588: 0.0, 1589: 0.0, 1590: 0.0, 1591: 0.0, 1592: 0.0, 1593: 0.0, 1594: 0.0, 1595: 0.0, 1596: 0.0, 1597: 0.0, 1598: 0.0, 1599: 0.0, 1600: 0.0, 1601: 0.0, 1602: 0.0, 1603: 0.0, 1604: 0.0, 1605: 0.0, 1606: 0.0, 1607: 0.0, 1608: 0.0, 1609: 0.0, 1610: 0.0, 1611: 0.0, 1612: 0.0, 1613: 0.0, 1614: 0.0, 1615: 0.0, 1616: 0.0, 1617: 0.0, 1618: 0.0, 1619: 0.0, 1620: 0.0, 1621: 0.0, 1622: 0.0, 1623: 0.0, 1624: 0.0, 1625: 0.0, 1626: 0.0, 1627: 0.0, 1628: 0.0, 1629: 0.0, 1630: 0.0, 1631: 0.0, 1632: 0.0, 1633: 0.0, 1634: 0.0, 1635: 0.0, 1636: 0.0, 1637: 0.0, 1638: 0.0, 1639: 0.0, 1640: 0.0, 1641: 0.0, 1642: 0.0, 1643: 0.0, 1644: 0.0, 1645: 0.0, 1646: 0.0, 1647: 0.0, 1648: 0.0, 1649: 0.0, 1650: 0.0, 1651: 0.0, 1652: 0.0, 1653: 0.0, 1654: 0.0, 1655: 0.0, 1656: 0.0, 1657: 0.0, 1658: 0.0, 1659: 0.0, 1660: 0.0, 1661: 0.0, 1662: 0.0, 1663: 0.0, 1664: 0.0, 1665: 0.0, 1666: 0.0, 1667: 0.0, 1668: 0.0, 1669: 0.0, 1670: 0.0, 1671: 0.0, 1672: 0.0, 1673: 0.0, 1674: 0.0, 1675: 0.0, 1676: 0.0, 1677: 0.0, 1678: 0.0, 1679: 0.0, 1680: 0.0, 1681: 0.0, 1682: 0.0, 1683: 0.0, 1684: 0.0, 1685: 0.0, 1686: 0.0, 1687: 0.0, 1688: 0.0, 1689: 0.0, 1690: 0.0, 1691: 0.0, 1692: 0.0, 1693: 0.0, 1694: 0.0, 1695: 0.0, 1696: 0.0, 1697: 0.0, 1698: 0.0, 1699: 0.0, 1700: 0.0, 1701: 0.0, 1702: 0.0, 1703: 0.0, 1704: 0.0, 1705: 0.0, 1706: 0.0, 1707: 0.0, 1708: 0.0, 1709: 0.0, 1710: 0.0, 1711: 0.0, 1712: 0.0, 1713: 0.0, 1714: 0.0, 1715: 0.0, 1716: 0.0, 1717: 0.0, 1718: 0.0, 1719: 0.0, 1720: 0.0, 1721: 0.0, 1722: 0.0, 1723: 0.0, 1724: 0.0, 1725: 0.0, 1726: 0.0, 1727: 0.0, 1728: 0.0, 1729: 0.0, 1730: 0.0, 1731: 0.0, 1732: 0.0, 1733: 0.0, 1734: 0.0, 1735: 0.0, 1736: 0.0, 1737: 0.0, 1738: 0.0, 1739: 0.0, 1740: 0.0, 1741: 0.0, 1742: 0.0, 1743: 0.0, 1744: 0.0, 1745: 0.0, 1746: 0.0, 1747: 0.0, 1748: 0.0, 1749: 0.0, 1750: 0.0, 1751: 0.0, 1752: 0.0, 1753: 0.0, 1754: 0.0, 1755: 0.0, 1756: 0.0, 1757: 0.0, 1758: 0.0, 1759: 0.0, 1760: 0.0, 1761: 0.0, 1762: 0.0, 1763: 0.0, 1764: 0.0, 1765: 0.0, 1766: 0.0, 1767: 0.0, 1768: 0.0, 1769: 0.0, 1770: 0.0, 1771: 0.0, 1772: 0.0, 1773: 0.0, 1774: -1, 1775: 0.0, 1776: 0.0, 1777: 0.0, 1778: 0.0, 1779: 0.0, 1780: 0.0, 1781: -1, 1782: 0.0, 1783: 0.0, 1784: 0.0, 1785: 0.0, 1786: 0.0, 1787: 0.0, 1788: 0.0, 1789: 0.0, 1790: 0.0, 1791: 0.0, 1792: 0.0, 1793: 0.0, 1794: 0.0, 1795: 0.0, 1796: 0.0, 1797: 0.0, 1798: 0.0, 1799: 0.0, 1800: 0.0, 1801: 0.0, 1802: 0.0, 1803: 0.0, 1804: 0.0, 1805: 0.0, 1806: 0.0, 1807: 0.0, 1808: 0.0, 1809: 0.0, 1810: 0.0, 1811: 0.0, 1812: 0.0, 1813: 0.0, 1814: 0.0, 1815: 0.0, 1816: 0.0, 1817: 0.0, 1818: 0.0, 1819: 0.0, 1820: 0.0, 1821: 0.0, 1822: 0.0, 1823: 0.0, 1824: 0.0, 1825: 0.0, 1826: 0.0, 1827: 0.0, 1828: 0.0, 1829: 0.0, 1830: 0.0, 1831: 0.0, 1832: 0.0, 1833: 0.0, 1834: 0.0, 1835: 0.0, 1836: 0.0, 1837: 0.0, 1838: 0.0, 1839: 0.0, 1840: 0.0, 1841: 0.0, 1842: 0.0, 1843: 0.0, 1844: 0.0, 1845: 0.0, 1846: 0.0, 1847: 0.0, 1848: 0.0, 1849: 0.0, 1850: 0.0, 1851: 0.0, 1852: 0.0, 1853: 0.0, 1854: 0.0, 1855: 0.0, 1856: 0.0, 1857: 0.0, 1858: 0.0, 1859: 0.0, 1860: 0.0, 1861: 0.0, 1862: 0.0, 1863: 0.0, 1864: 0.0, 1865: 0.0, 1866: 0.0, 1867: 0.0, 1868: 0.0, 1869: 0.0, 1870: 0.0, 1871: 0.0, 1872: 0.0, 1873: 0.0, 1874: 0.0, 1875: 0.0, 1876: 0.0, 1877: 0.0, 1878: 0.0, 1879: 0.0, 1880: 0.0, 1881: 0.0, 1882: 0.0, 1883: 0.0, 1884: 0.0, 1885: 0.0, 1886: 0.0, 1887: 0.0, 1888: 0.0, 1889: 0.0, 1890: 0.0, 1891: 0.0, 1892: 0.0, 1893: 0.0, 1894: 0.0, 1895: 0.0, 1896: 0.0, 1897: 0.0, 1898: 0.0, 1899: 0.0, 1900: 0.0, 1901: 0.0, 1902: 0.0, 1903: 0.0, 1904: 0.0, 1905: 0.0, 1906: 0.0, 1907: 0.0, 1908: 0.0, 1909: 0.0, 1910: 0.0, 1911: 0.0, 1912: 0.0, 1913: 0.0, 1914: 0.0, 1915: 0.0, 1916: 0.0, 1917: -1, 1918: 0.0, 1919: 0.0, 1920: 0.0, 1921: 0.0, 1922: 0.0, 1923: 0.0, 1924: 0.0, 1925: 0.0, 1926: 0.0, 1927: 0.0, 1928: 0.0, 1929: 0.0, 1930: 0.0, 1931: 0.0, 1932: 0.0, 1933: 0.0, 1934: 0.0, 1935: 0.0, 1936: 0.0, 1937: 0.0, 1938: 0.0, 1939: 0.0, 1940: 0.0, 1941: 0.0, 1942: 0.0, 1943: 0.0, 1944: 0.0, 1945: 0.0, 1946: 0.0, 1947: 0.0, 1948: 0.0, 1949: 0.0, 1950: 0.0, 1951: 0.0, 1952: 0.0, 1953: 0.0, 1954: 0.0, 1955: 0.0, 1956: 0.0, 1957: 0.0, 1958: 0.0, 1959: 0.0, 1960: 0.0, 1961: 0.0, 1962: 0.0, 1963: 0.0, 1964: 0.0, 1965: 0.0, 1966: 0.0, 1967: 0.0, 1968: 0.0, 1969: 0.0, 1970: 0.0, 1971: 0.0, 1972: 0.0, 1973: 0.0, 1974: 0.0, 1975: 0.0, 1976: 0.0, 1977: 0.0, 1978: 0.0, 1979: 0.0, 1980: 0.0, 1981: 0.0, 1982: 0.0, 1983: 0.0, 1984: 0.0, 1985: 0.0, 1986: 0.0, 1987: 0.0, 1988: 0.0, 1989: 0.0, 1990: 0.0, 1991: 0.0, 1992: 0.0, 1993: 0.0, 1994: 0.0, 1995: 0.0, 1996: 0.0, 1997: 0.0, 1998: 0.0, 1999: 0.0, 2000: 0.0, 2001: 0.0, 2002: 0.0, 2003: 0.0, 2004: 0.0, 2005: 0.0, 2006: 0.0, 2007: 0.0, 2008: 0.0, 2009: 0.0, 2010: 0.0, 2011: 0.0, 2012: 0.0, 2013: 0.0, 2014: 0.0, 2015: 0.0, 2016: 0.0, 2017: 0.0, 2018: 0.0, 2019: 0.0, 2020: 0.0, 2021: 0.17832592153228716, 2022: 0.0, 2023: 0.0, 2024: 0.0, 2025: 0.0, 2026: 0.0, 2027: 0.0, 2028: 0.0, 2029: 0.0, 2030: 0.0, 2031: 0.0, 2032: 0.0, 2033: 0.0, 2034: 0.0, 2035: 0.0, 2036: 0.0, 2037: 0.0, 2038: 0.0, 2039: 0.0, 2040: 0.0, 2041: 0.0, 2042: 0.0, 2043: 0.0, 2044: 0.0, 2045: 0.0, 2046: 0.0, 2047: 0.0, 2048: 0.0, 2049: 0.0, 2050: 0.0, 2051: 0.0, 2052: 0.0, 2053: 0.0, 2054: 0.0, 2055: 0.0, 2056: 0.0, 2057: 0.0, 2058: 0.0, 2059: 0.0, 2060: 0.0, 2061: 0.0, 2062: 0.0, 2063: 0.0, 2064: 0.0, 2065: 0.0, 2066: 0.0, 2067: 0.0, 2068: 0.0, 2069: 0.0, 2070: 0.0, 2071: 0.0, 2072: 0.0, 2073: 0.0, 2074: 0.0, 2075: 0.0, 2076: 0.0, 2077: 0.0, 2078: 0.0, 2079: 0.0, 2080: 0.0, 2081: 0.0, 2082: 0.0, 2083: 0.0, 2084: 0.0, 2085: 0.0, 2086: 0.0, 2087: 0.0, 2088: 0.0, 2089: 0.0, 2090: 0.0, 2091: 0.0, 2092: 0.0, 2093: -1, 2094: 0.0, 2095: 0.0, 2096: 0.0, 2097: 0.0, 2098: 0.0, 2099: 0.0, 2100: 0.0, 2101: 0.0, 2102: 0.0, 2103: 0.0, 2104: 0.0, 2105: 0.0, 2106: 0.0, 2107: 0.0, 2108: 0.0, 2109: 0.0, 2110: 0.0, 2111: 0.0, 2112: 0.0, 2113: 0.0, 2114: 0.0, 2115: 0.0, 2116: 0.0, 2117: 0.0, 2118: 0.0, 2119: 0.0, 2120: 0.0, 2121: 0.0, 2122: 0.0, 2123: 0.0, 2124: 0.0, 2125: 0.0, 2126: 0.0, 2127: 0.0, 2128: 0.0, 2129: 0.0, 2130: 0.0, 2131: 0.0, 2132: 0.0, 2133: 0.0, 2134: 0.0, 2135: 0.0, 2136: 0.0, 2137: 0.0, 2138: 0.0, 2139: 0.0, 2140: 0.0, 2141: 0.0, 2142: 0.0, 2143: 0.0, 2144: 0.0, 2145: 0.0, 2146: 0.0, 2147: 0.0, 2148: 0.0, 2149: 0.0, 2150: 0.0, 2151: 0.0, 2152: 0.0, 2153: 0.0, 2154: 0.0, 2155: 0.0, 2156: 0.0, 2157: 0.0, 2158: 0.0, 2159: 0.0, 2160: 0.0, 2161: 0.0, 2162: 0.0, 2163: 0.0, 2164: 0.0, 2165: 0.0, 2166: 0.0, 2167: 0.0, 2168: 0.0, 2169: 0.0, 2170: 0.0, 2171: 0.0, 2172: 0.0, 2173: 0.0, 2174: 0.0, 2175: 0.0, 2176: 0.0, 2177: 0.0, 2178: 0.0, 2179: 0.0, 2180: 0.0, 2181: 0.0, 2182: 0.0, 2183: 0.0, 2184: 0.0, 2185: 0.0, 2186: 0.0, 2187: 0.0, 2188: 0.0, 2189: 0.0, 2190: 0.0, 2191: 0.0, 2192: 0.0, 2193: 0.0, 2194: 0.0, 2195: 0.0, 2196: 0.0, 2197: 0.0, 2198: 0.0, 2199: 0.0, 2200: 0.0, 2201: 0.0, 2202: 0.0, 2203: 0.0, 2204: 0.0, 2205: 0.0, 2206: 0.0, 2207: 0.0, 2208: 0.0, 2209: 0.0, 2210: 0.0, 2211: 0.0, 2212: 0.0, 2213: 0.0, 2214: 0.0, 2215: 0.0, 2216: 0.0, 2217: 0.0, 2218: 0.0, 2219: 0.0, 2220: 0.0, 2221: 0.0, 2222: 0.0, 2223: 0.0, 2224: 0.0, 2225: 0.0, 2226: 0.0, 2227: 0.0, 2228: 0.0, 2229: 0.0, 2230: 0.0, 2231: 0.0, 2232: 0.0, 2233: 0.0, 2234: 0.0, 2235: 0.0, 2236: 0.0, 2237: 0.0, 2238: 0.0, 2239: 0.0, 2240: 0.0, 2241: 0.0, 2242: 0.0, 2243: 0.0, 2244: 0.0, 2245: 0.0, 2246: 0.0, 2247: 0.0, 2248: 0.0, 2249: 0.0, 2250: 0.0, 2251: 0.0, 2252: 0.0, 2253: 0.0, 2254: 0.0, 2255: 0.0, 2256: 0.0, 2257: 0.0, 2258: 0.0, 2259: 0.0, 2260: 0.0, 2261: 0.0, 2262: 0.0, 2263: 0.0, 2264: 0.0, 2265: 0.0, 2266: 0.0, 2267: 0.0, 2268: 0.0, 2269: 0.0, 2270: 0.0, 2271: 0.0, 2272: 0.0, 2273: 0.0, 2274: 0.0, 2275: 0.0, 2276: 0.0, 2277: 0.0, 2278: 0.0, 2279: 0.0, 2280: 0.0, 2281: 0.0, 2282: 0.0, 2283: 0.0, 2284: 0.0, 2285: 0.0, 2286: 0.0, 2287: 0.0, 2288: 0.0, 2289: 0.0, 2290: 0.0, 2291: 0.0, 2292: 0.0, 2293: 0.0, 2294: 0.0, 2295: 0.0, 2296: 0.0, 2297: 0.0, 2298: 0.0, 2299: 0.0, 2300: 0.0, 2301: 0.0, 2302: 0.0, 2303: 0.0, 2304: 0.0, 2305: 0.0, 2306: 0.0, 2307: 0.0, 2308: 0.0, 2309: 0.0, 2310: 0.0, 2311: 0.0, 2312: 0.0, 2313: 0.0, 2314: 0.0, 2315: 0.0, 2316: 0.0, 2317: 0.0, 2318: 0.0, 2319: 0.0, 2320: 0.0, 2321: 0.0, 2322: 0.0, 2323: 0.0, 2324: 0.0, 2325: 0.0, 2326: 0.0, 2327: 0.0, 2328: 0.0, 2329: 0.0, 2330: 0.0, 2331: 0.0, 2332: 0.0, 2333: 0.0, 2334: 0.0, 2335: 0.0, 2336: 0.0, 2337: 0.0, 2338: 0.0, 2339: 0.0, 2340: 0.0, 2341: 0.0, 2342: 0.0, 2343: 0.0, 2344: 0.0, 2345: 0.0, 2346: 0.0, 2347: 0.0, 2348: 0.0, 2349: 0.0, 2350: 0.0, 2351: 0.0, 2352: 0.0, 2353: 0.0, 2354: 0.0, 2355: 0.0, 2356: 0.0, 2357: 0.0, 2358: 0.0, 2359: 0.0, 2360: 0.0, 2361: 0.0, 2362: 0.0, 2363: 0.0, 2364: 0.0, 2365: 0.0, 2366: 0.0, 2367: 0.0, 2368: 0.0, 2369: 0.0, 2370: 0.0, 2371: 0.0, 2372: 0.0, 2373: 0.0, 2374: 0.0, 2375: 0.0, 2376: 0.0, 2377: 0.0, 2378: 0.0, 2379: 0.0, 2380: 0.0, 2381: 0.0, 2382: 0.0, 2383: 0.0, 2384: 0.0, 2385: 0.0, 2386: 0.0, 2387: 0.0, 2388: 0.0, 2389: 0.0, 2390: 0.0, 2391: 0.0, 2392: 0.0, 2393: 0.0, 2394: 0.0, 2395: 0.0, 2396: 0.0, 2397: 0.0, 2398: 0.0, 2399: 0.0, 2400: 0.0, 2401: 0.0, 2402: 0.0, 2403: 0.0, 2404: 0.0, 2405: 0.0, 2406: 0.0, 2407: 0.0, 2408: 0.0, 2409: 0.0, 2410: 0.0, 2411: 0.0, 2412: 0.0, 2413: 0.0, 2414: 0.0, 2415: 0.0, 2416: 0.0, 2417: 0.0, 2418: 0.0, 2419: 0.0, 2420: 0.0, 2421: 0.0, 2422: 0.0, 2423: 0.0, 2424: 0.0, 2425: 0.0, 2426: 0.0, 2427: 0.0, 2428: 0.0, 2429: 0.0, 2430: 0.0, 2431: 0.0, 2432: 0.0, 2433: 0.0, 2434: 0.0, 2435: 0.0, 2436: 0.0, 2437: 0.0, 2438: 0.0, 2439: 0.0, 2440: 0.0, 2441: 0.0, 2442: 0.0, 2443: 0.0, 2444: 0.0, 2445: 0.0, 2446: 0.0, 2447: 0.0, 2448: 0.0, 2449: 0.0, 2450: 0.0, 2451: 0.0, 2452: 0.0, 2453: 0.0, 2454: 0.0, 2455: 0.0, 2456: 0.0, 2457: 0.0, 2458: 0.0, 2459: 0.0, 2460: 0.0, 2461: 0.0, 2462: 0.0, 2463: 0.0, 2464: 0.0, 2465: 0.0, 2466: 0.0, 2467: 0.0, 2468: 0.0, 2469: 0.0, 2470: 0.0, 2471: 0.0, 2472: 0.0, 2473: 0.0, 2474: 0.0, 2475: 0.0, 2476: 0.0, 2477: 0.0, 2478: 0.0, 2479: 0.0, 2480: 0.0, 2481: 0.0, 2482: 0.0, 2483: 0.0, 2484: 0.0, 2485: 0.0, 2486: 0.0, 2487: 0.0, 2488: 0.0, 2489: 0.0, 2490: 0.0, 2491: 0.0, 2492: 0.0, 2493: 0.0, 2494: 0.0, 2495: 0.0, 2496: 0.0, 2497: 0.0, 2498: 0.0, 2499: 0.0, 2500: 0.0, 2501: 0.0, 2502: 0.0, 2503: 0.0, 2504: 0.0, 2505: 0.0, 2506: 0.0, 2507: 0.0, 2508: 0.0, 2509: 0.0, 2510: 0.0, 2511: 0.0, 2512: 0.0, 2513: 0.0, 2514: 0.0, 2515: 0.0, 2516: 0.0, 2517: 0.0, 2518: 0.0, 2519: 0.0, 2520: 0.0, 2521: 0.0, 2522: 0.0, 2523: 0.0, 2524: 0.0, 2525: 0.0, 2526: 0.0, 2527: 0.0, 2528: 0.0, 2529: 0.0, 2530: 0.0, 2531: 0.0, 2532: 0.0, 2533: 0.0, 2534: 0.0, 2535: 0.0, 2536: 0.0, 2537: 0.0, 2538: 0.0, 2539: 0.0, 2540: 0.0, 2541: 0.0, 2542: 0.0, 2543: 0.0, 2544: 0.0, 2545: 0.0, 2546: 0.0, 2547: 0.0, 2548: 0.0, 2549: 0.0, 2550: 0.0, 2551: 0.0, 2552: 0.0, 2553: 0.0, 2554: 0.0, 2555: 0.0, 2556: 0.0, 2557: 0.0, 2558: 0.0, 2559: 0.0, 2560: 0.0, 2561: 0.0, 2562: 0.0, 2563: 0.0, 2564: 0.0, 2565: 0.0, 2566: 0.0, 2567: 0.0, 2568: 0.0, 2569: 0.0, 2570: 0.0, 2571: 0.0, 2572: 0.0, 2573: 0.0, 2574: 0.0, 2575: 0.0, 2576: 0.0, 2577: 0.0, 2578: 0.0, 2579: 0.0, 2580: 0.0, 2581: 0.0, 2582: 0.0, 2583: 0.0, 2584: 0.0, 2585: 0.0, 2586: 0.0, 2587: 0.0, 2588: 0.0, 2589: 0.0, 2590: 0.0, 2591: 0.0, 2592: 0.0, 2593: 0.0, 2594: 0.0, 2595: 0.0, 2596: 0.0, 2597: 0.0, 2598: 0.0, 2599: 0.0, 2600: 0.0, 2601: 0.0, 2602: 0.0, 2603: 0.0, 2604: 0.0, 2605: 0.0, 2606: 0.0, 2607: 0.0, 2608: 0.0, 2609: 0.0, 2610: 0.0, 2611: 0.0, 2612: 0.0, 2613: 0.0, 2614: 0.0, 2615: 0.0, 2616: 0.0, 2617: 0.0, 2618: 0.0, 2619: 0.0, 2620: 0.0, 2621: 0.0, 2622: 0.0, 2623: 0.0, 2624: 0.0, 2625: 0.0, 2626: 0.0, 2627: 0.0, 2628: 0.0, 2629: 0.0, 2630: 0.0, 2631: 0.0, 2632: 0.0, 2633: 0.0, 2634: 0.0, 2635: 0.0, 2636: 0.0, 2637: 0.0, 2638: 0.0, 2639: 0.0, 2640: 0.0, 2641: 0.0, 2642: 0.0, 2643: 0.0, 2644: 0.0, 2645: 0.0, 2646: 0.0, 2647: 0.0, 2648: 0.0, 2649: 0.0, 2650: 0.0, 2651: 0.0, 2652: 0.0, 2653: 0.0, 2654: 0.0, 2655: 0.0, 2656: 0.0, 2657: 0.0, 2658: 0.0, 2659: 0.0, 2660: 0.0, 2661: 0.0, 2662: 0.0, 2663: 0.0, 2664: 0.0, 2665: 0.0, 2666: 0.0, 2667: 0.0, 2668: 0.0, 2669: 0.0, 2670: 0.0, 2671: 0.0, 2672: 0.0, 2673: 0.0, 2674: 0.0, 2675: 0.0, 2676: 0.0, 2677: 0.0, 2678: 0.0, 2679: 0.0, 2680: 0.0, 2681: 0.0, 2682: 0.0, 2683: 0.0, 2684: 0.0, 2685: 0.0, 2686: 0.0, 2687: 0.0, 2688: 0.0, 2689: 0.0, 2690: 0.0, 2691: 0.0, 2692: 0.0, 2693: 0.0, 2694: 0.0, 2695: 0.0, 2696: 0.0, 2697: 0.0, 2698: 0.0, 2699: 0.0, 2700: 0.0, 2701: 0.0, 2702: 0.0, 2703: 0.0, 2704: 0.0, 2705: 0.0, 2706: 0.0, 2707: 0.0, 2708: 0.0, 2709: 0.0, 2710: 0.0, 2711: 0.0, 2712: 0.0, 2713: 0.0, 2714: 0.0, 2715: 0.0, 2716: 0.0, 2717: 0.0, 2718: 0.0, 2719: 0.0, 2720: 0.0, 2721: 0.0, 2722: 0.0, 2723: 0.0, 2724: 0.0, 2725: 0.0, 2726: 0.0, 2727: 0.0, 2728: 0.0, 2729: 0.0, 2730: 0.0, 2731: 0.0, 2732: 0.0, 2733: 0.0, 2734: 0.0, 2735: 0.0, 2736: 0.0, 2737: 0.0, 2738: 0.0, 2739: 0.0, 2740: 0.0, 2741: 0.0, 2742: 0.0, 2743: 0.0, 2744: 0.0, 2745: 0.0, 2746: 0.0, 2747: 0.0, 2748: 0.0, 2749: 0.0, 2750: 0.0, 2751: 0.0, 2752: 0.0, 2753: 0.0, 2754: 0.0, 2755: 0.0, 2756: 0.0, 2757: 0.0, 2758: 0.0, 2759: 0.0, 2760: 0.0, 2761: 0.0, 2762: 0.0, 2763: 0.0, 2764: 0.0, 2765: 0.0, 2766: 0.0, 2767: 0.0, 2768: 0.0, 2769: 0.0, 2770: 0.0, 2771: 0.0, 2772: 0.0, 2773: 0.0, 2774: 0.0, 2775: 0.0, 2776: 0.0, 2777: 0.0, 2778: 0.0, 2779: 0.0, 2780: 0.0, 2781: 0.0, 2782: 0.0, 2783: 0.0, 2784: 0.0, 2785: 0.0, 2786: 0.0, 2787: 0.0, 2788: 0.0, 2789: 0.0, 2790: 0.0, 2791: 0.0, 2792: 0.0, 2793: 0.0, 2794: 0.0, 2795: 0.0, 2796: 0.0, 2797: 0.0, 2798: 0.0, 2799: 0.0, 2800: 0.0, 2801: 0.0, 2802: 0.0, 2803: 0.0, 2804: 0.0, 2805: 0.0, 2806: 0.0, 2807: 0.0, 2808: 0.0, 2809: 0.0, 2810: 0.0, 2811: 0.0, 2812: 0.0, 2813: 0.0, 2814: 0.0, 2815: 0.0, 2816: 0.0, 2817: 0.0, 2818: 0.0, 2819: 0.0, 2820: 0.0, 2821: 0.0, 2822: 0.0, 2823: 0.0, 2824: 0.0, 2825: 0.0, 2826: 0.0, 2827: 0.0, 2828: 0.0, 2829: 0.0, 2830: 0.0, 2831: 0.0, 2832: 0.0, 2833: 0.0, 2834: 0.0, 2835: 0.0, 2836: 0.0, 2837: 0.0, 2838: 0.0, 2839: 0.0, 2840: 0.0, 2841: 0.0, 2842: 0.0, 2843: 0.0, 2844: 0.0, 2845: 0.0, 2846: 0.0, 2847: 0.0, 2848: 0.0, 2849: 0.0, 2850: 0.0, 2851: 0.0, 2852: 0.0, 2853: 0.0, 2854: 0.0, 2855: 0.0, 2856: 0.0, 2857: 0.0, 2858: 0.0, 2859: 0.0, 2860: 0.0, 2861: 0.0, 2862: 0.0, 2863: 0.0, 2864: 0.0, 2865: 0.0, 2866: 0.0, 2867: 0.0, 2868: 0.0, 2869: 0.0, 2870: 0.0, 2871: 0.0, 2872: 0.0, 2873: 0.0, 2874: 0.0, 2875: 0.0, 2876: 0.0, 2877: 0.0, 2878: 0.0, 2879: 0.0, 2880: 0.0, 2881: 0.0, 2882: 0.0, 2883: 0.0, 2884: 0.0, 2885: 0.0, 2886: 0.0, 2887: 0.0, 2888: 0.0, 2889: 0.0, 2890: 0.0, 2891: 0.0, 2892: 0.0, 2893: 0.0, 2894: 0.0, 2895: 0.0, 2896: 0.0, 2897: 0.0, 2898: 0.0, 2899: 0.0, 2900: 0.0, 2901: 0.0, 2902: 0.0, 2903: 0.0, 2904: 0.0, 2905: 0.0, 2906: 0.0, 2907: 0.0, 2908: 0.0, 2909: 0.0, 2910: 0.0, 2911: 0.0, 2912: 0.0, 2913: 0.0, 2914: 0.0, 2915: 0.0, 2916: 0.0, 2917: 0.0, 2918: 0.0, 2919: 0.0, 2920: 0.0, 2921: 0.0, 2922: 0.0, 2923: 0.0, 2924: 0.0, 2925: 0.0, 2926: 0.0, 2927: 0.0, 2928: 0.0, 2929: 0.0, 2930: 0.0, 2931: 0.0, 2932: 0.0, 2933: -1, 2934: 0.0, 2935: -1, 2936: 0.0, 2937: 0.0, 2938: 0.0, 2939: 0.0, 2940: 0.0, 2941: 0.0, 2942: 0.0, 2943: 0.0, 2944: 0.0, 2945: 0.0, 2946: 0.0, 2947: 0.0, 2948: 0.0, 2949: 0.0, 2950: 0.0, 2951: 0.0, 2952: 0.0, 2953: 0.0, 2954: 0.0, 2955: 0.0, 2956: 0.0, 2957: 0.0, 2958: 0.0, 2959: 0.0, 2960: 0.0, 2961: 0.0, 2962: 0.0, 2963: 0.0, 2964: 0.0, 2965: 0.0, 2966: 0.0, 2967: 0.0, 2968: 0.0, 2969: 0.0, 2970: 0.0, 2971: 0.0, 2972: 0.0, 2973: 0.0, 2974: 0.0, 2975: 0.0, 2976: 0.0, 2977: 0.0, 2978: 0.0, 2979: 0.0, 2980: 0.0, 2981: 0.0, 2982: 0.0, 2983: 0.0, 2984: 0.0, 2985: 0.0, 2986: 0.0, 2987: 0.0, 2988: 0.0, 2989: 0.0, 2990: 0.0, 2991: 0.0, 2992: 0.0, 2993: 0.0, 2994: 0.0, 2995: 0.0, 2996: 0.0, 2997: 0.0, 2998: 0.0, 2999: 0.0, 3000: 0.0, 3001: 0.0, 3002: 0.0, 3003: 0.0, 3004: 0.0, 3005: 0.0, 3006: 0.0, 3007: 0.0, 3008: 0.0, 3009: 0.0, 3010: 0.0, 3011: 0.0, 3012: 0.0, 3013: 0.0, 3014: 0.0, 3015: 0.0, 3016: 0.0, 3017: 0.0, 3018: 0.0, 3019: 0.0, 3020: 0.0, 3021: 0.0, 3022: 0.0, 3023: 0.0, 3024: 0.0, 3025: 0.0, 3026: 0.0, 3027: 0.0, 3028: 0.0, 3029: 0.0, 3030: 0.0, 3031: 0.0, 3032: 0.0, 3033: 0.0, 3034: 0.0, 3035: 0.0, 3036: 0.0, 3037: 0.0, 3038: 0.0, 3039: 0.0, 3040: 0.0, 3041: 0.0, 3042: 0.0, 3043: 0.0, 3044: 0.0, 3045: 0.0, 3046: 0.0, 3047: 0.0, 3048: 0.0, 3049: 0.0, 3050: 0.0, 3051: 0.0, 3052: 0.0, 3053: 0.0, 3054: 0.0, 3055: 0.0, 3056: 0.0, 3057: 0.0, 3058: 0.0, 3059: 0.0, 3060: 0.0, 3061: 0.0, 3062: 0.0, 3063: 0.0, 3064: 0.0, 3065: 0.0, 3066: 0.0, 3067: 0.0, 3068: 0.0, 3069: 0.0, 3070: 0.0, 3071: 0.0, 3072: 0.0, 3073: 0.0, 3074: 0.0, 3075: 0.0, 3076: 0.0, 3077: 0.0, 3078: 0.0, 3079: 0.0, 3080: 0.0, 3081: 0.0, 3082: 0.0, 3083: 0.0, 3084: 0.0, 3085: 0.0, 3086: 0.0, 3087: 0.0, 3088: 0.0, 3089: 0.0, 3090: 0.0, 3091: 0.0, 3092: 0.0, 3093: 0.0, 3094: 0.0, 3095: 0.0, 3096: 0.0, 3097: 0.0, 3098: 0.0, 3099: 0.0, 3100: 0.0, 3101: 0.0, 3102: 0.0, 3103: 0.0, 3104: 0.0, 3105: 0.0, 3106: 0.0, 3107: 0.0, 3108: 0.0, 3109: 0.0, 3110: 0.0, 3111: 0.0, 3112: 0.0, 3113: 0.0, 3114: 0.0, 3115: 0.0, 3116: 0.0, 3117: 0.0, 3118: 0.0, 3119: 0.0, 3120: 0.0, 3121: 0.0, 3122: 0.0, 3123: 0.0, 3124: 0.0, 3125: 0.0, 3126: 0.0, 3127: 0.0, 3128: 0.0, 3129: 0.0, 3130: 0.0, 3131: 0.0, 3132: 0.0, 3133: 0.0, 3134: 0.0, 3135: 0.0, 3136: 0.0, 3137: 0.0, 3138: 0.0, 3139: 0.0, 3140: 0.0, 3141: 0.0, 3142: 0.0, 3143: 0.0, 3144: 0.0, 3145: 0.0, 3146: 0.0, 3147: 0.0, 3148: 0.0, 3149: 0.0, 3150: 0.0, 3151: 0.0, 3152: 0.0, 3153: 0.0, 3154: 0.0, 3155: 0.0, 3156: 0.0, 3157: 0.0, 3158: 0.0, 3159: 0.0, 3160: 0.0, 3161: 0.0, 3162: 0.0, 3163: 0.0, 3164: 0.0, 3165: 0.0, 3166: 0.0, 3167: 0.0, 3168: 0.0, 3169: 0.0, 3170: 0.0, 3171: 0.0, 3172: 0.0, 3173: 0.0, 3174: 0.0, 3175: 0.0, 3176: 0.0, 3177: 0.0, 3178: 0.0, 3179: 0.0, 3180: 0.0, 3181: 0.0, 3182: 0.0, 3183: 0.0, 3184: 0.0, 3185: 0.0, 3186: 0.0, 3187: 0.0, 3188: 0.0, 3189: 0.0, 3190: 0.0, 3191: 0.0, 3192: 0.0, 3193: 0.0, 3194: 0.0, 3195: 0.0, 3196: 0.0, 3197: 0.0, 3198: 0.0, 3199: 0.0, 3200: 0.0, 3201: 0.0, 3202: 0.0, 3203: 0.0, 3204: 0.0, 3205: 0.0, 3206: 0.0, 3207: 0.0, 3208: 0.0, 3209: 0.0, 3210: 0.0, 3211: 0.0, 3212: 0.0, 3213: 0.0, 3214: 0.0, 3215: 0.0, 3216: 0.0, 3217: -1, 3218: 0.0, 3219: 0.0, 3220: 0.0, 3221: 0.0, 3222: 0.0, 3223: 0.0, 3224: 0.0, 3225: 0.0, 3226: 0.0, 3227: 0.0, 3228: 0.0, 3229: 0.0, 3230: 0.0, 3231: 0.0, 3232: 0.0, 3233: 0.0, 3234: 0.0, 3235: 0.0, 3236: 0.0, 3237: 0.0, 3238: 0.0, 3239: 0.0, 3240: 0.0, 3241: 0.0, 3242: 0.0, 3243: 0.0, 3244: 0.0, 3245: 0.0, 3246: 0.0, 3247: 0.0, 3248: 0.0, 3249: 0.0, 3250: 0.0, 3251: 0.0, 3252: 0.0, 3253: 0.0, 3254: 0.0, 3255: 0.0, 3256: 0.0, 3257: 0.0, 3258: 0.0, 3259: 0.0, 3260: 0.0, 3261: 0.0, 3262: 0.0, 3263: 0.0, 3264: 0.0, 3265: 0.0, 3266: 0.0, 3267: 0.0, 3268: 0.0, 3269: 0.0, 3270: 0.0, 3271: 0.0, 3272: 0.0, 3273: 0.0, 3274: 0.0, 3275: 0.0, 3276: 0.0, 3277: 0.0, 3278: 0.0, 3279: 0.0, 3280: 0.0, 3281: 0.0, 3282: 0.0, 3283: 0.0, 3284: 0.0, 3285: 0.0, 3286: 0.0, 3287: 0.0, 3288: 0.0, 3289: 0.0, 3290: 0.0, 3291: 0.0, 3292: 0.0, 3293: 0.0, 3294: 0.0, 3295: 0.0, 3296: 0.0, 3297: 0.0, 3298: 0.0, 3299: 0.0, 3300: 0.0, 3301: 0.0, 3302: 0.0, 3303: 0.0, 3304: 0.0, 3305: 0.0, 3306: 0.0, 3307: 0.0, 3308: 0.0, 3309: 0.0, 3310: 0.0, 3311: 0.0, 3312: 0.0, 3313: 0.0, 3314: 0.0, 3315: 0.0, 3316: 0.0, 3317: 0.0, 3318: 0.0, 3319: 0.0, 3320: 0.0, 3321: 0.0, 3322: 0.0, 3323: 0.0, 3324: 0.0, 3325: 0.0, 3326: 0.0, 3327: 0.0, 3328: 0.0, 3329: 0.0, 3330: 0.0, 3331: 0.0, 3332: 0.0, 3333: 0.0, 3334: 0.0, 3335: 0.0, 3336: 0.0, 3337: 0.0, 3338: 0.0, 3339: 0.0, 3340: 0.0, 3341: 0.0, 3342: 0.0, 3343: 0.0, 3344: 0.0, 3345: 0.0, 3346: 0.0, 3347: 0.0, 3348: 0.0, 3349: 0.0, 3350: 0.0, 3351: 0.0, 3352: 0.0, 3353: 0.0, 3354: 0.0, 3355: 0.0, 3356: 0.0, 3357: 0.0, 3358: 0.0, 3359: 0.0, 3360: 0.0, 3361: 0.0, 3362: 0.0, 3363: 0.0, 3364: 0.0, 3365: 0.0, 3366: 0.0, 3367: 0.0, 3368: 0.0, 3369: 0.0, 3370: 0.0, 3371: 0.0, 3372: 0.0, 3373: 0.0, 3374: 0.0, 3375: 0.0, 3376: 0.0, 3377: 0.0, 3378: 0.0, 3379: 0.0, 3380: 0.0, 3381: 0.0, 3382: 0.0, 3383: 0.0, 3384: 0.0, 3385: 0.0, 3386: 0.0, 3387: 0.0, 3388: 0.0, 3389: 0.0, 3390: 0.0, 3391: 0.0, 3392: 0.0, 3393: 0.0, 3394: 0.0, 3395: 0.0, 3396: 0.0, 3397: 0.0, 3398: 0.0, 3399: 0.0, 3400: 0.0, 3401: 0.0, 3402: 0.0, 3403: 0.0, 3404: 0.0, 3405: 0.0, 3406: 0.0, 3407: 0.0, 3408: 0.0, 3409: 0.0, 3410: 0.0, 3411: 0.0, 3412: 0.0, 3413: 0.0, 3414: 0.0, 3415: 0.0, 3416: 0.0, 3417: 0.0, 3418: 0.0, 3419: 0.0, 3420: 0.0, 3421: 0.0, 3422: 0.0, 3423: 0.0, 3424: 0.0, 3425: 0.0, 3426: 0.0, 3427: 0.0, 3428: 0.0, 3429: 0.0, 3430: 0.0, 3431: 0.0, 3432: 0.0, 3433: 0.0, 3434: 0.0, 3435: 0.0, 3436: 0.0, 3437: 0.0, 3438: 0.0, 3439: 0.0, 3440: 0.0, 3441: 0.0, 3442: 0.0, 3443: 0.0, 3444: 0.0, 3445: 0.0, 3446: 0.0, 3447: 0.0, 3448: 0.0, 3449: 0.0, 3450: 0.0, 3451: 0.0, 3452: 0.0, 3453: 0.0, 3454: 0.0, 3455: 0.0, 3456: 0.0, 3457: 0.0, 3458: 0.0, 3459: 0.0, 3460: 0.0, 3461: 0.0, 3462: 0.0, 3463: 0.0, 3464: 0.0, 3465: 0.0, 3466: 0.0, 3467: 0.0, 3468: 0.0, 3469: 0.0, 3470: 0.0, 3471: 0.0, 3472: 0.0, 3473: 0.0, 3474: 0.0, 3475: 0.0, 3476: 0.0, 3477: 0.0, 3478: 0.0, 3479: 0.0, 3480: 0.0, 3481: 0.0, 3482: 0.0, 3483: 0.0, 3484: 0.0, 3485: 0.0, 3486: 0.0, 3487: 0.0, 3488: 0.0, 3489: 0.0, 3490: 0.0, 3491: 0.0, 3492: 0.0, 3493: 0.0, 3494: 0.0, 3495: 0.0, 3496: 0.0, 3497: 0.0, 3498: 0.0, 3499: 0.0, 3500: 0.0, 3501: 0.0, 3502: 0.0, 3503: 0.0, 3504: 0.0, 3505: 0.0, 3506: 0.0, 3507: 0.0, 3508: 0.0, 3509: 0.0, 3510: 0.0, 3511: 0.0, 3512: 0.0, 3513: 0.0, 3514: 0.0, 3515: 0.0, 3516: 0.0, 3517: 0.0, 3518: 0.0, 3519: 0.0, 3520: 0.0, 3521: 0.0, 3522: 0.0, 3523: 0.0, 3524: 0.0, 3525: 0.0, 3526: 0.0, 3527: 0.0, 3528: 0.0, 3529: 0.0, 3530: 0.0, 3531: 0.0, 3532: 0.0, 3533: 0.0, 3534: 0.0, 3535: 0.0, 3536: 0.0, 3537: 0.0, 3538: 0.0, 3539: 0.0, 3540: 0.0, 3541: 0.0, 3542: 0.0, 3543: 0.0, 3544: 0.0, 3545: 0.0, 3546: 0.0, 3547: 0.0, 3548: 0.0, 3549: 0.0, 3550: 0.0, 3551: 0.0, 3552: 0.0, 3553: 0.0, 3554: 0.0, 3555: 0.0, 3556: 0.0, 3557: 0.0, 3558: 0.0, 3559: 0.0, 3560: 0.0, 3561: 0.0, 3562: 0.0, 3563: 0.0, 3564: 0.0, 3565: 0.0, 3566: 0.0, 3567: 0.0, 3568: 0.0, 3569: 0.0, 3570: 0.0, 3571: 0.0, 3572: 0.0, 3573: 0.0, 3574: 0.0, 3575: 0.0, 3576: 0.0, 3577: 0.0, 3578: 0.0, 3579: 0.0, 3580: 0.0, 3581: 0.0, 3582: 0.0, 3583: 0.0, 3584: 0.0, 3585: 0.0, 3586: 0.0, 3587: 0.0, 3588: 0.0, 3589: 0.0, 3590: 0.0, 3591: 0.0, 3592: 0.0, 3593: 0.0, 3594: 0.0, 3595: 0.0, 3596: 0.0, 3597: 0.0, 3598: 0.0, 3599: 0.0, 3600: 0.0, 3601: 0.0, 3602: 0.0, 3603: 0.0, 3604: 0.0, 3605: 0.0, 3606: 0.0, 3607: 0.0, 3608: 0.0, 3609: 0.0, 3610: 0.0, 3611: 0.0, 3612: 0.0, 3613: 0.0, 3614: 0.0, 3615: 0.0, 3616: 0.0, 3617: 0.0, 3618: 0.0, 3619: 0.0, 3620: 0.0, 3621: 0.0, 3622: 0.0, 3623: 0.0, 3624: 0.0, 3625: 0.0, 3626: 0.0, 3627: 0.0, 3628: 0.0, 3629: 0.0, 3630: 0.0, 3631: 0.0, 3632: 0.0, 3633: 0.0, 3634: 0.0, 3635: 0.0, 3636: 0.0, 3637: 0.0, 3638: 0.0, 3639: 0.0, 3640: 0.0, 3641: 0.0, 3642: 0.0, 3643: 0.0, 3644: 0.0, 3645: 0.0, 3646: 0.0, 3647: 0.0, 3648: 0.0, 3649: 0.0, 3650: 0.0, 3651: 0.0, 3652: 0.0, 3653: 0.0, 3654: 0.0, 3655: 0.0, 3656: 0.0, 3657: 0.0, 3658: 0.0, 3659: 0.0, 3660: 0.0, 3661: 0.0, 3662: 0.0, 3663: 0.0, 3664: 0.0, 3665: 0.0, 3666: 0.0, 3667: 0.0, 3668: 0.0, 3669: 0.0, 3670: 0.0, 3671: 0.0, 3672: 0.0, 3673: 0.0, 3674: 0.0, 3675: 0.0, 3676: 0.0, 3677: 0.0, 3678: 0.0, 3679: 0.0, 3680: 0.0, 3681: 0.0, 3682: 0.0, 3683: 0.0, 3684: 0.0, 3685: 0.0, 3686: 0.0, 3687: 0.18465391166953415, 3688: 0.0, 3689: 0.0, 3690: 0.0, 3691: 0.0, 3692: 0.0, 3693: 0.0, 3694: 0.0, 3695: 0.0, 3696: 0.0, 3697: 0.0, 3698: 0.0, 3699: 0.0, 3700: 0.0, 3701: 0.0, 3702: 0.0, 3703: 0.0, 3704: 0.0, 3705: 0.0, 3706: 0.0, 3707: 0.0, 3708: 0.0, 3709: 0.0, 3710: 0.0, 3711: 0.0, 3712: 0.0, 3713: 0.0, 3714: 0.0, 3715: 0.0, 3716: 0.0, 3717: 0.0, 3718: 0.0, 3719: 0.0, 3720: 0.0, 3721: 0.0, 3722: 0.0, 3723: 0.0, 3724: 0.0, 3725: 0.0, 3726: 0.0, 3727: 0.0, 3728: 0.0, 3729: 0.0, 3730: 0.0, 3731: 0.0, 3732: 0.0, 3733: 0.0, 3734: 0.0, 3735: 0.0, 3736: 0.0, 3737: 0.0, 3738: 0.0, 3739: 0.0, 3740: 0.0, 3741: 0.0, 3742: 0.0, 3743: 0.0, 3744: 0.0, 3745: 0.0, 3746: 0.0, 3747: 0.0, 3748: 0.0, 3749: 0.0, 3750: 0.0, 3751: 0.0, 3752: 0.0, 3753: 0.0, 3754: 0.0, 3755: 0.0, 3756: 0.0, 3757: 0.0, 3758: 0.0, 3759: 0.0, 3760: 0.0, 3761: 0.0, 3762: 0.0, 3763: 0.0, 3764: 0.0, 3765: 0.0, 3766: 0.0, 3767: 0.0, 3768: 0.0, 3769: 0.0, 3770: 0.0, 3771: 0.0, 3772: 0.0, 3773: 0.0, 3774: 0.0, 3775: 0.0, 3776: 0.0, 3777: 0.0, 3778: 0.0, 3779: 0.0, 3780: 0.0, 3781: 0.0, 3782: 0.0, 3783: 0.0, 3784: 0.0, 3785: 0.0, 3786: 0.0, 3787: 0.0, 3788: 0.0, 3789: 0.0, 3790: 0.0, 3791: 0.0, 3792: 0.0, 3793: 0.0, 3794: 0.0, 3795: 0.0, 3796: 0.0, 3797: 0.0, 3798: 0.0, 3799: 0.0, 3800: 0.0, 3801: 0.0, 3802: 0.0, 3803: 0.0, 3804: 0.0, 3805: 0.0, 3806: 0.0, 3807: 0.0, 3808: 0.0, 3809: 0.0, 3810: 0.0, 3811: 0.0, 3812: 0.0, 3813: 0.0, 3814: 0.0, 3815: 0.0, 3816: 0.0, 3817: 0.0, 3818: 0.0, 3819: 0.0, 3820: 0.0, 3821: 0.0, 3822: 0.0, 3823: 0.0, 3824: 0.0, 3825: 0.0, 3826: 0.0, 3827: 0.0, 3828: 0.0, 3829: 0.0, 3830: 0.0, 3831: 0.0, 3832: 0.0, 3833: 0.0, 3834: 0.0, 3835: 0.0, 3836: 0.0, 3837: 0.0, 3838: 0.0, 3839: 0.0, 3840: 0.0, 3841: 0.0, 3842: 0.0, 3843: 0.0, 3844: 0.0, 3845: 0.0, 3846: 0.0, 3847: 0.0, 3848: 0.0, 3849: 0.0, 3850: 0.0, 3851: 0.0, 3852: 0.0, 3853: 0.0, 3854: 0.0, 3855: 0.0, 3856: 0.0, 3857: 0.0, 3858: 0.0, 3859: 0.0, 3860: 0.0, 3861: 0.0, 3862: 0.0, 3863: 0.0, 3864: 0.0, 3865: 0.0, 3866: 0.0, 3867: 0.0, 3868: 0.0, 3869: 0.0, 3870: 0.0, 3871: 0.0, 3872: 0.0, 3873: 0.0, 3874: 0.0, 3875: 0.0, 3876: 0.0, 3877: 0.0, 3878: 0.0, 3879: 0.0, 3880: 0.0, 3881: 0.0, 3882: 0.0, 3883: 0.0, 3884: 0.0, 3885: 0.0, 3886: 0.0, 3887: 0.0, 3888: 0.0, 3889: 0.0, 3890: 0.0, 3891: 0.0, 3892: 0.0, 3893: 0.0, 3894: 0.0, 3895: 0.0, 3896: 0.0, 3897: 0.0, 3898: 0.0, 3899: 0.0, 3900: 0.0, 3901: 0.0, 3902: 0.0, 3903: 0.0, 3904: 0.0, 3905: 0.0, 3906: 0.0, 3907: 0.0, 3908: 0.0, 3909: 0.0, 3910: 0.0, 3911: 0.0, 3912: 0.0, 3913: 0.0, 3914: 0.0, 3915: 0.0, 3916: 0.0, 3917: 0.0, 3918: 0.0, 3919: 0.0, 3920: 0.0, 3921: 0.0, 3922: 0.0, 3923: 0.0, 3924: 0.0, 3925: 0.0, 3926: 0.0, 3927: 0.0, 3928: 0.0, 3929: 0.0, 3930: 0.0, 3931: 0.0, 3932: 0.0, 3933: 0.0, 3934: 0.0, 3935: 0.0, 3936: 0.0, 3937: 0.0, 3938: 0.0, 3939: 0.0, 3940: 0.0, 3941: 0.0, 3942: 0.0, 3943: 0.0, 3944: 0.0, 3945: 0.0, 3946: 0.0, 3947: 0.0, 3948: 0.0, 3949: 0.0, 3950: 0.0, 3951: 0.0, 3952: 0.0, 3953: 0.0, 3954: 0.0, 3955: 0.0, 3956: 0.0, 3957: 0.0, 3958: 0.0, 3959: 0.0, 3960: 0.0, 3961: 0.0, 3962: 0.0, 3963: 0.0, 3964: 0.0, 3965: 0.0, 3966: 0.0, 3967: 0.0, 3968: 0.0, 3969: 0.0, 3970: 0.0, 3971: 0.0, 3972: 0.0, 3973: 0.0, 3974: 0.0, 3975: 0.0, 3976: 0.0, 3977: 0.0, 3978: 0.0, 3979: 0.0, 3980: 0.0, 3981: 0.0, 3982: 0.0, 3983: 0.0, 3984: 0.0, 3985: 0.0, 3986: 0.0, 3987: 0.0, 3988: 0.0, 3989: 0.0, 3990: 0.0, 3991: 0.0, 3992: 0.0, 3993: 0.0, 3994: 0.0, 3995: 0.0, 3996: 0.0, 3997: 0.0, 3998: 0.0, 3999: 0.0, 4000: 0.0, 4001: 0.0, 4002: 0.0, 4003: 0.0, 4004: 0.0, 4005: 0.0, 4006: 0.0, 4007: 0.0, 4008: 0.0, 4009: 0.0, 4010: 0.0, 4011: 0.0, 4012: 0.0, 4013: 0.0, 4014: 0.0, 4015: 0.0, 4016: 0.0, 4017: 0.0, 4018: 0.0, 4019: 0.0, 4020: 0.0, 4021: 0.0, 4022: 0.0, 4023: 0.0, 4024: 0.0, 4025: 0.0, 4026: 0.0, 4027: 0.0, 4028: 0.0, 4029: 0.0, 4030: 0.0, 4031: 0.0, 4032: 0.0, 4033: 0.0, 4034: 0.0, 4035: 0.0, 4036: 0.0, 4037: 0.0, 4038: 0.0, 4039: 0.0, 4040: 0.0, 4041: 0.0, 4042: 0.0, 4043: 0.0, 4044: 0.0, 4045: 0.0, 4046: 0.0, 4047: 0.0, 4048: 0.0, 4049: 0.0, 4050: 0.0, 4051: 0.0, 4052: 0.0, 4053: 0.0, 4054: 0.0, 4055: 0.0, 4056: 0.0, 4057: 0.0, 4058: 0.0, 4059: 0.0, 4060: 0.0, 4061: 0.0, 4062: 0.0, 4063: 0.0, 4064: 0.0, 4065: 0.0, 4066: 0.0, 4067: 0.0, 4068: 0.0, 4069: 0.0, 4070: 0.0, 4071: 0.0, 4072: 0.0, 4073: 0.0, 4074: 0.0, 4075: 0.0, 4076: 0.0, 4077: 0.0, 4078: 0.0, 4079: 0.0, 4080: 0.0, 4081: 0.0, 4082: 0.0, 4083: 0.0, 4084: 0.0, 4085: 0.0, 4086: 0.0, 4087: 0.0, 4088: 0.0, 4089: 0.0, 4090: 0.0, 4091: 0.0, 4092: 0.0, 4093: 0.0, 4094: 0.0, 4095: 0.0, 4096: 0.0, 4097: 0.0, 4098: 0.0, 4099: 0.0, 4100: 0.0, 4101: 0.0, 4102: 0.0, 4103: 0.0, 4104: 0.0, 4105: 0.0, 4106: 0.0, 4107: 0.0, 4108: 0.0, 4109: 0.0, 4110: 0.0, 4111: 0.0, 4112: 0.0, 4113: 0.0, 4114: 0.0, 4115: 0.0, 4116: 0.0, 4117: 0.0, 4118: 0.0, 4119: 0.0, 4120: 0.0, 4121: 0.0, 4122: 0.0, 4123: 0.0, 4124: 0.0, 4125: 0.0, 4126: 0.0, 4127: 0.0, 4128: 0.0, 4129: 0.0, 4130: 0.0, 4131: 0.0, 4132: 0.0, 4133: 0.0, 4134: 0.0, 4135: 0.0, 4136: 0.0, 4137: 0.0, 4138: 0.0, 4139: 0.0, 4140: 0.0, 4141: 0.0, 4142: 0.0, 4143: 0.0, 4144: 0.0, 4145: 0.0, 4146: 0.0, 4147: 0.0, 4148: 0.0, 4149: 0.0, 4150: 0.0, 4151: 0.0, 4152: 0.0, 4153: 0.0, 4154: 0.0, 4155: 0.0, 4156: 0.0, 4157: 0.0, 4158: 0.0, 4159: 0.0, 4160: 0.0, 4161: 0.0, 4162: 0.0, 4163: 0.0, 4164: 0.0, 4165: 0.0, 4166: 0.0, 4167: 0.0, 4168: 0.0, 4169: 0.0, 4170: 0.0, 4171: 0.0, 4172: 0.0, 4173: 0.0, 4174: 0.0, 4175: 0.0, 4176: 0.0, 4177: 0.0, 4178: 0.0, 4179: 0.0, 4180: 0.0, 4181: 0.0, 4182: 0.0, 4183: 0.0, 4184: 0.0, 4185: 0.0, 4186: 0.0, 4187: 0.0, 4188: 0.0, 4189: 0.0, 4190: 0.0, 4191: 0.0, 4192: 0.0, 4193: 0.0, 4194: 0.0, 4195: 0.0, 4196: 0.0, 4197: 0.0, 4198: 0.0, 4199: 0.0, 4200: 0.0, 4201: 0.0, 4202: 0.0, 4203: 0.0, 4204: 0.0, 4205: 0.0, 4206: 0.0, 4207: 0.0, 4208: 0.0, 4209: 0.0, 4210: 0.0, 4211: 0.0, 4212: 0.0, 4213: 0.0, 4214: 0.0, 4215: 0.0, 4216: 0.0, 4217: 0.0, 4218: 0.0, 4219: 0.0, 4220: 0.0, 4221: 0.0, 4222: 0.0, 4223: 0.0, 4224: 0.0, 4225: 0.0, 4226: 0.0, 4227: 0.0, 4228: 0.0, 4229: 0.0, 4230: 0.0, 4231: 0.0, 4232: 0.0, 4233: 0.0, 4234: 0.0, 4235: 0.0, 4236: 0.0, 4237: 0.0, 4238: 0.0, 4239: 0.0, 4240: 0.0, 4241: 0.0, 4242: 0.0, 4243: 0.0, 4244: 0.0, 4245: 0.0, 4246: 0.0, 4247: 0.0, 4248: 0.0, 4249: 0.0, 4250: 0.0, 4251: 0.0, 4252: 0.0, 4253: 0.0, 4254: 0.0, 4255: 0.0, 4256: 0.0, 4257: 0.0, 4258: 0.0, 4259: 0.0, 4260: 0.0, 4261: 0.0, 4262: 0.0, 4263: 0.0, 4264: 0.0, 4265: 0.0, 4266: 0.0, 4267: 0.0, 4268: 0.0, 4269: 0.0, 4270: 0.0, 4271: 0.0, 4272: 0.0, 4273: 0.0, 4274: 0.0, 4275: 0.0, 4276: 0.0, 4277: 0.0, 4278: 0.0, 4279: 0.0, 4280: 0.0, 4281: 0.0, 4282: 0.0, 4283: 0.0, 4284: 0.0, 4285: 0.26038044966907203, 4286: 0.0, 4287: 0.0, 4288: 0.0, 4289: 0.0, 4290: 0.0, 4291: 0.0, 4292: 0.0, 4293: 0.0, 4294: 0.0, 4295: 0.0, 4296: 0.0, 4297: 0.0, 4298: 0.0, 4299: 0.0, 4300: 0.0, 4301: 0.0, 4302: 0.0, 4303: 0.0, 4304: 0.0, 4305: 0.0, 4306: 0.0, 4307: 0.0, 4308: 0.0, 4309: 0.0, 4310: 0.0, 4311: 0.0, 4312: 0.0, 4313: 0.0, 4314: 0.0, 4315: 0.0, 4316: 0.0, 4317: 0.0, 4318: 0.0, 4319: 0.0, 4320: 0.0, 4321: 0.0, 4322: 0.0, 4323: 0.0, 4324: 0.0, 4325: 0.0, 4326: 0.0, 4327: 0.0, 4328: 0.0, 4329: 0.0, 4330: 0.0, 4331: 0.0, 4332: 0.0, 4333: 0.0, 4334: 0.0, 4335: 0.0, 4336: 0.0, 4337: 0.0, 4338: 0.0, 4339: 0.0, 4340: 0.0, 4341: 0.0, 4342: 0.0, 4343: 0.0, 4344: 0.0, 4345: 0.0, 4346: 0.0, 4347: 0.0, 4348: 0.0, 4349: 0.0, 4350: 0.0, 4351: 0.0, 4352: 0.0, 4353: 0.0, 4354: 0.0, 4355: 0.0, 4356: 0.0, 4357: 0.0, 4358: 0.0, 4359: 0.0, 4360: -1, 4361: 0.0, 4362: 0.0, 4363: 0.0, 4364: 0.0, 4365: 0.0, 4366: 0.0, 4367: 0.0, 4368: 0.0, 4369: 0.0, 4370: 0.0, 4371: 0.0, 4372: 0.0, 4373: 0.0, 4374: 0.0, 4375: 0.0, 4376: 0.0, 4377: 0.0, 4378: 0.0, 4379: 0.0, 4380: 0.0, 4381: 0.0, 4382: 0.0, 4383: 0.0, 4384: 0.0, 4385: 0.0, 4386: 0.0, 4387: 0.0, 4388: 0.0, 4389: 0.0, 4390: 0.0, 4391: 0.0, 4392: 0.0, 4393: 0.0, 4394: 0.0, 4395: 0.0, 4396: 0.0, 4397: 0.0, 4398: -1, 4399: 0.0, 4400: 0.0, 4401: 0.0, 4402: 0.0, 4403: 0.0, 4404: 0.0, 4405: 0.0, 4406: 0.0, 4407: 0.0, 4408: 0.0, 4409: 0.0, 4410: 0.0, 4411: 0.0, 4412: 0.0, 4413: 0.0, 4414: 0.0, 4415: 0.0, 4416: 0.0, 4417: 0.0, 4418: 0.0, 4419: 0.0, 4420: 0.0, 4421: 0.0, 4422: 0.0, 4423: 0.0, 4424: 0.0, 4425: 0.0, 4426: 0.0, 4427: 0.0, 4428: 0.0, 4429: 0.0, 4430: 0.0, 4431: 0.0, 4432: 0.0, 4433: 0.0, 4434: 0.0, 4435: 0.0, 4436: 0.0, 4437: 0.0, 4438: 0.0, 4439: 0.0, 4440: 0.0, 4441: 0.0, 4442: 0.0, 4443: 0.0, 4444: 0.0, 4445: 0.0, 4446: 0.0, 4447: 0.0, 4448: 0.0, 4449: 0.0, 4450: 0.0, 4451: 0.0, 4452: 0.0, 4453: 0.0, 4454: 0.0, 4455: 0.0, 4456: 0.0, 4457: 0.0, 4458: 0.0, 4459: 0.0, 4460: 0.0, 4461: 0.0, 4462: 0.0, 4463: 0.0, 4464: 0.0, 4465: 0.0, 4466: 0.0, 4467: 0.0, 4468: 0.0, 4469: 0.0, 4470: 0.0, 4471: -1, 4472: 0.0, 4473: 0.0, 4474: 0.0, 4475: 0.0, 4476: 0.0, 4477: 0.0, 4478: 0.0, 4479: 0.0, 4480: 0.0, 4481: 0.0, 4482: 0.0, 4483: 0.0, 4484: 0.0, 4485: 0.0, 4486: 0.0, 4487: 0.0, 4488: 0.0, 4489: 0.0, 4490: 0.0, 4491: 0.0, 4492: 0.0, 4493: 0.0, 4494: 0.0, 4495: 0.0, 4496: 0.0, 4497: 0.0, 4498: 0.0, 4499: 0.0, 4500: 0.0, 4501: 0.0, 4502: 0.0, 4503: 0.0, 4504: 0.0, 4505: 0.0, 4506: 0.0, 4507: 0.0, 4508: 0.0, 4509: 0.0, 4510: 0.0, 4511: 0.0, 4512: 0.0, 4513: 0.0, 4514: 0.0, 4515: 0.0, 4516: 0.0, 4517: 0.0, 4518: 0.0, 4519: 0.0, 4520: 0.0, 4521: 0.0, 4522: 0.0, 4523: 0.0, 4524: 0.0, 4525: 0.0, 4526: 0.0, 4527: 0.0, 4528: 0.0, 4529: 0.0, 4530: 0.0, 4531: 0.0, 4532: 0.0, 4533: 0.0, 4534: 0.0, 4535: 0.0, 4536: 0.0, 4537: 0.0, 4538: 0.0, 4539: 0.0, 4540: 0.0, 4541: 0.0, 4542: 0.0, 4543: 0.0, 4544: 0.0, 4545: 0.0, 4546: 0.0, 4547: 0.0, 4548: 0.0, 4549: 0.0, 4550: 0.0, 4551: 0.0, 4552: 0.0, 4553: 0.0, 4554: 0.0, 4555: 0.0, 4556: 0.0, 4557: 0.0, 4558: 0.0, 4559: 0.0, 4560: 0.0, 4561: 0.0, 4562: 0.0, 4563: 0.0, 4564: 0.0, 4565: 0.0, 4566: 0.0, 4567: 0.0, 4568: 0.0, 4569: 0.0, 4570: 0.0, 4571: 0.0, 4572: 0.0, 4573: 0.0, 4574: 0.0, 4575: 0.0, 4576: 0.0, 4577: 0.0, 4578: 0.0, 4579: 0.0, 4580: -1, 4581: 0.0, 4582: 0.0, 4583: 0.0, 4584: 0.0, 4585: 0.0, 4586: 0.0, 4587: 0.0, 4588: 0.0, 4589: 0.0, 4590: 0.0, 4591: 0.0, 4592: 0.0, 4593: 0.0, 4594: 0.0, 4595: 0.0, 4596: 0.0, 4597: 0.0, 4598: 0.0, 4599: 0.0, 4600: 0.0, 4601: 0.0, 4602: 0.0, 4603: 0.0, 4604: 0.0, 4605: 0.0, 4606: 0.0, 4607: 0.0, 4608: 0.0, 4609: 0.0, 4610: 0.0, 4611: 0.0, 4612: 0.0, 4613: 0.0, 4614: 0.0, 4615: 0.0, 4616: 0.0, 4617: 0.0, 4618: 0.0, 4619: 0.0, 4620: 0.0, 4621: 0.0, 4622: 0.0, 4623: 0.0, 4624: 0.0, 4625: 0.0, 4626: 0.0, 4627: 0.0, 4628: 0.0, 4629: 0.0, 4630: 0.0, 4631: 0.0, 4632: 0.0, 4633: 0.0, 4634: 0.0, 4635: 0.0, 4636: 0.0, 4637: 0.0, 4638: 0.0, 4639: 0.0, 4640: 0.0, 4641: 0.0, 4642: 0.0, 4643: 0.0, 4644: 0.0, 4645: 0.0, 4646: 0.0, 4647: 0.0, 4648: 0.0, 4649: 0.0, 4650: 0.0, 4651: 0.0, 4652: 0.0, 4653: 0.0, 4654: 0.0, 4655: 0.0, 4656: 0.0, 4657: 0.0, 4658: 0.0, 4659: 0.0, 4660: 0.0, 4661: 0.0, 4662: 0.0, 4663: 0.0, 4664: 0.0, 4665: 0.0, 4666: 0.0, 4667: 0.0, 4668: 0.0, 4669: 0.0, 4670: 0.0, 4671: 0.0, 4672: 0.0, 4673: 0.0, 4674: 0.0, 4675: 0.0, 4676: 0.0, 4677: 0.0, 4678: 0.0, 4679: 0.0, 4680: 0.0, 4681: 0.0, 4682: 0.0, 4683: 0.0, 4684: 0.0, 4685: 0.0, 4686: 0.0, 4687: 0.0, 4688: 0.0, 4689: 0.0, 4690: 0.0, 4691: 0.0, 4692: 0.0, 4693: 0.0, 4694: 0.0, 4695: 0.0, 4696: 0.0, 4697: 0.0, 4698: 0.0, 4699: 0.0, 4700: 0.0, 4701: 0.0, 4702: 0.0, 4703: 0.0, 4704: 0.0, 4705: 0.0, 4706: 0.0, 4707: 0.0, 4708: 0.0, 4709: 0.0, 4710: 0.0, 4711: 0.0, 4712: 0.0, 4713: 0.0, 4714: 0.0, 4715: 0.0, 4716: 0.0, 4717: 0.0, 4718: 0.0, 4719: 0.0, 4720: 0.0, 4721: 0.0, 4722: 0.0, 4723: 0.0, 4724: 0.0, 4725: 0.0, 4726: 0.0, 4727: 0.0, 4728: 0.0, 4729: 0.0, 4730: 0.0, 4731: 0.0, 4732: 0.0, 4733: 0.0, 4734: 0.0, 4735: 0.0, 4736: 0.0, 4737: 0.0, 4738: 0.0, 4739: 0.0, 4740: 0.0, 4741: 0.0, 4742: 0.0, 4743: 0.0, 4744: 0.0, 4745: 0.0, 4746: 0.0, 4747: 0.0, 4748: 0.0, 4749: 0.0, 4750: 0.0, 4751: 0.0, 4752: 0.0, 4753: 0.0, 4754: 0.0, 4755: 0.0, 4756: 0.0, 4757: 0.0, 4758: 0.0, 4759: 0.0, 4760: 0.0, 4761: 0.0, 4762: 0.0, 4763: 0.0, 4764: 0.0, 4765: 0.0, 4766: 0.0, 4767: 0.0, 4768: 0.0, 4769: 0.0, 4770: 0.0, 4771: 0.0, 4772: 0.0, 4773: 0.0, 4774: 0.0, 4775: 0.0, 4776: 0.0, 4777: 0.0, 4778: 0.0, 4779: 0.0, 4780: 0.0, 4781: 0.0, 4782: 0.0, 4783: 0.0, 4784: 0.0, 4785: 0.0, 4786: 0.0, 4787: 0.0, 4788: 0.0, 4789: 0.0, 4790: 0.0, 4791: 0.0, 4792: 0.0, 4793: 0.0, 4794: 0.0, 4795: 0.0, 4796: 0.0, 4797: 0.0, 4798: 0.0, 4799: 0.0, 4800: 0.0, 4801: 0.0, 4802: 0.0, 4803: 0.0, 4804: 0.0, 4805: 0.0, 4806: 0.0, 4807: 0.0, 4808: 0.0, 4809: 0.0, 4810: 0.0, 4811: 0.0, 4812: 0.0, 4813: 0.0, 4814: 0.0, 4815: 0.0, 4816: 0.0, 4817: 0.0, 4818: 0.0, 4819: 0.0, 4820: 0.0, 4821: 0.0, 4822: 0.0, 4823: 0.0, 4824: 0.0, 4825: 0.0, 4826: 0.0, 4827: 0.0, 4828: 0.0, 4829: 0.0, 4830: 0.0, 4831: 0.0, 4832: 0.0, 4833: 0.0, 4834: 0.0, 4835: 0.0, 4836: 0.0, 4837: 0.0, 4838: 0.0, 4839: 0.0, 4840: 0.0, 4841: 0.0, 4842: 0.0, 4843: 0.0, 4844: 0.0, 4845: 0.0, 4846: 0.0, 4847: 0.0, 4848: 0.0, 4849: 0.0, 4850: 0.0, 4851: 0.0, 4852: 0.0, 4853: 0.0, 4854: 0.0, 4855: 0.0, 4856: 0.0, 4857: 0.0, 4858: 0.0, 4859: 0.0, 4860: 0.0, 4861: 0.0, 4862: 0.0, 4863: 0.0, 4864: 0.0, 4865: 0.0, 4866: 0.0, 4867: 0.0, 4868: 0.0, 4869: 0.0, 4870: 0.0, 4871: 0.0, 4872: 0.0, 4873: 0.0, 4874: 0.0, 4875: 0.0, 4876: 0.0, 4877: 0.0, 4878: 0.0, 4879: 0.0, 4880: 0.0, 4881: 0.0, 4882: 0.0, 4883: 0.0, 4884: 0.0, 4885: 0.0, 4886: 0.0, 4887: 0.0, 4888: 0.0, 4889: 0.0, 4890: 0.0, 4891: 0.0, 4892: 0.0, 4893: 0.0, 4894: 0.0, 4895: 0.0, 4896: 0.0, 4897: 0.0, 4898: 0.0, 4899: 0.0, 4900: 0.0, 4901: 0.0, 4902: 0.0, 4903: 0.0, 4904: 0.0, 4905: 0.0, 4906: 0.0, 4907: 0.0, 4908: 0.0, 4909: 0.0, 4910: 0.0, 4911: 0.0, 4912: 0.0, 4913: 0.0, 4914: 0.0, 4915: 0.0, 4916: 0.0, 4917: 0.0, 4918: 0.0, 4919: 0.0, 4920: 0.0, 4921: 0.0, 4922: 0.0, 4923: 0.0, 4924: 0.0, 4925: 0.0, 4926: 0.0, 4927: 0.0, 4928: 0.0, 4929: 0.0, 4930: 0.0, 4931: 0.0, 4932: 0.0, 4933: 0.0, 4934: 0.0, 4935: 0.0, 4936: 0.0, 4937: 0.0, 4938: 0.0, 4939: 0.0, 4940: 0.0, 4941: 0.0, 4942: 0.0, 4943: 0.0, 4944: 0.0, 4945: 0.0, 4946: 0.0, 4947: 0.0, 4948: 0.0, 4949: 0.0, 4950: 0.0, 4951: 0.0, 4952: 0.0, 4953: 0.0, 4954: 0.0, 4955: 0.0, 4956: 0.0, 4957: 0.0, 4958: 0.0, 4959: 0.0, 4960: 0.0, 4961: 0.0, 4962: 0.0, 4963: 0.0, 4964: 0.0, 4965: 0.0, 4966: 0.0, 4967: 0.0, 4968: 0.0, 4969: 0.0, 4970: 0.0, 4971: 0.0, 4972: 0.0, 4973: 0.0, 4974: 0.0, 4975: 0.0, 4976: 0.0, 4977: 0.0, 4978: 0.0, 4979: 0.0, 4980: 0.0, 4981: 0.0, 4982: 0.0, 4983: 0.0, 4984: 0.0, 4985: 0.0, 4986: 0.0, 4987: 0.0, 4988: 0.0, 4989: 0.0, 4990: 0.0, 4991: 0.0, 4992: 0.0, 4993: 0.0, 4994: 0.0, 4995: 0.0, 4996: 0.0, 4997: 0.0, 4998: 0.0, 4999: 0.0, 5000: 0.0, 5001: 0.0, 5002: 0.0, 5003: 0.0, 5004: 0.0, 5005: 0.0, 5006: 0.0, 5007: 0.0, 5008: 0.0, 5009: 0.0, 5010: 0.0, 5011: 0.0, 5012: 0.0, 5013: 0.0, 5014: 0.0, 5015: 0.0, 5016: 0.0, 5017: 0.0, 5018: 0.0, 5019: 0.0, 5020: 0.0, 5021: 0.0, 5022: 0.0, 5023: 0.0, 5024: 0.0, 5025: 0.0, 5026: 0.0, 5027: 0.0, 5028: 0.0, 5029: 0.0, 5030: 0.0, 5031: 0.0, 5032: 0.0, 5033: 0.0, 5034: 0.0, 5035: 0.0, 5036: 0.0, 5037: 0.0, 5038: 0.0, 5039: 0.0, 5040: 0.0, 5041: 0.0, 5042: 0.0, 5043: 0.0, 5044: 0.0, 5045: 0.0, 5046: 0.0, 5047: 0.0, 5048: 0.0, 5049: 0.0, 5050: 0.0, 5051: 0.0, 5052: 0.0, 5053: 0.0, 5054: 0.0, 5055: 0.0, 5056: 0.0, 5057: 0.0, 5058: 0.0, 5059: 0.0, 5060: 0.0, 5061: 0.0, 5062: 0.0, 5063: 0.0, 5064: 0.0, 5065: 0.0, 5066: 0.0, 5067: 0.0, 5068: 0.0, 5069: 0.0, 5070: 0.0, 5071: 0.0, 5072: 0.0, 5073: 0.0, 5074: 0.0, 5075: 0.0, 5076: 0.0, 5077: 0.0, 5078: 0.0, 5079: 0.0, 5080: 0.0, 5081: 0.0, 5082: 0.0, 5083: 0.0, 5084: 0.0, 5085: 0.0, 5086: 0.0, 5087: 0.0, 5088: 0.0, 5089: 0.0, 5090: 0.0, 5091: 0.0, 5092: 0.0, 5093: 0.0, 5094: 0.0, 5095: 0.0, 5096: 0.0, 5097: 0.0, 5098: 0.0, 5099: 0.0, 5100: 0.0, 5101: 0.0, 5102: 0.0, 5103: 0.0, 5104: 0.0, 5105: 0.0, 5106: 0.0, 5107: 0.0, 5108: 0.0, 5109: 0.0, 5110: 0.0, 5111: 0.0, 5112: 0.0, 5113: 0.0, 5114: 0.0, 5115: 0.0, 5116: 0.0, 5117: 0.0, 5118: 0.0, 5119: 0.0, 5120: 0.0, 5121: 0.0, 5122: 0.0, 5123: 0.0, 5124: 0.0, 5125: 0.0, 5126: 0.0, 5127: 0.0, 5128: 0.0, 5129: 0.0, 5130: 0.0, 5131: 0.0, 5132: 0.0, 5133: 0.0, 5134: 0.0, 5135: 0.0, 5136: 0.0, 5137: 0.0, 5138: 0.0, 5139: 0.0, 5140: 0.0, 5141: 0.0, 5142: 0.0, 5143: 0.0, 5144: 0.0, 5145: 0.0, 5146: 0.0, 5147: 0.0, 5148: 0.0, 5149: 0.0, 5150: 0.0, 5151: 0.0, 5152: 0.0, 5153: 0.0, 5154: 0.0, 5155: 0.0, 5156: 0.0, 5157: 0.0, 5158: 0.0, 5159: 0.0, 5160: 0.0, 5161: 0.0, 5162: 0.0, 5163: 0.0, 5164: 0.0, 5165: 0.0, 5166: 0.0, 5167: 0.0, 5168: 0.0, 5169: 0.0, 5170: 0.0, 5171: 0.0, 5172: 0.0, 5173: 0.0, 5174: 0.0, 5175: 0.0, 5176: 0.0, 5177: 0.0, 5178: 0.0, 5179: 0.0, 5180: 0.0, 5181: 0.0, 5182: 0.0, 5183: 0.0, 5184: 0.0, 5185: 0.0, 5186: 0.0, 5187: 0.0, 5188: 0.0, 5189: 0.0, 5190: 0.0, 5191: 0.0, 5192: 0.0, 5193: 0.0, 5194: 0.0, 5195: 0.0, 5196: 0.0, 5197: 0.0, 5198: 0.0, 5199: 0.0, 5200: 0.0, 5201: 0.0, 5202: 0.0, 5203: 0.0, 5204: 0.0, 5205: 0.0, 5206: 0.0, 5207: 0.0, 5208: 0.0, 5209: 0.0, 5210: 0.0, 5211: 0.0, 5212: 0.0, 5213: 0.0, 5214: 0.0, 5215: 0.0, 5216: 0.0, 5217: 0.0, 5218: 0.0, 5219: 0.0, 5220: 0.0, 5221: 0.0, 5222: 0.0, 5223: 0.0, 5224: 0.0, 5225: 0.0, 5226: 0.0, 5227: 0.0, 5228: 0.0, 5229: 0.0, 5230: 0.0, 5231: 0.0, 5232: 0.0, 5233: 0.0, 5234: 0.0, 5235: 0.0, 5236: 0.0, 5237: 0.0, 5238: 0.0, 5239: 0.0, 5240: 0.0, 5241: 0.0, 5242: 0.0, 5243: 0.0, 5244: 0.0, 5245: 0.0, 5246: 0.0, 5247: 0.0, 5248: 0.0, 5249: 0.0, 5250: 0.0, 5251: 0.0, 5252: 0.0, 5253: 0.0, 5254: 0.0, 5255: 0.0, 5256: 0.0, 5257: 0.0, 5258: 0.0, 5259: 0.0, 5260: 0.0, 5261: 0.0, 5262: 0.0, 5263: 0.0, 5264: 0.0, 5265: 0.0, 5266: 0.0, 5267: 0.0, 5268: 0.0, 5269: 0.0, 5270: 0.0, 5271: 0.0, 5272: 0.0, 5273: 0.0, 5274: 0.0, 5275: 0.0, 5276: 0.0, 5277: 0.0, 5278: 0.0, 5279: 0.0, 5280: 0.0, 5281: 0.0, 5282: 0.0, 5283: 0.0, 5284: 0.0, 5285: 0.0, 5286: 0.0, 5287: 0.0, 5288: 0.0, 5289: 0.0, 5290: 0.0, 5291: 0.0, 5292: 0.0, 5293: 0.0, 5294: 0.0, 5295: 0.0, 5296: 0.0, 5297: 0.0, 5298: 0.0, 5299: 0.0, 5300: 0.0, 5301: 0.0, 5302: 0.0, 5303: 0.0, 5304: 0.0, 5305: 0.0, 5306: 0.0, 5307: 0.0, 5308: 0.0, 5309: 0.0, 5310: 0.0, 5311: 0.0, 5312: 0.0, 5313: 0.0, 5314: 0.0, 5315: 0.0, 5316: 0.0, 5317: 0.0, 5318: 0.0, 5319: 0.0, 5320: 0.0, 5321: 0.0, 5322: 0.0, 5323: 0.0, 5324: 0.0, 5325: 0.0, 5326: 0.0, 5327: 0.0, 5328: 0.0, 5329: 0.0, 5330: 0.0, 5331: 0.0, 5332: 0.0, 5333: 0.0, 5334: 0.0, 5335: 0.0, 5336: 0.0, 5337: 0.0, 5338: 0.0, 5339: 0.0, 5340: 0.0, 5341: 0.0, 5342: 0.0, 5343: 0.0, 5344: 0.0, 5345: 0.0, 5346: 0.0, 5347: 0.0, 5348: 0.0, 5349: 0.0, 5350: 0.0, 5351: 0.0, 5352: 0.0, 5353: 0.0, 5354: 0.0, 5355: 0.0, 5356: 0.0, 5357: 0.0, 5358: 0.0, 5359: 0.0, 5360: 0.0, 5361: 0.0, 5362: 0.0, 5363: 0.0, 5364: 0.0, 5365: 0.0, 5366: 0.0, 5367: 0.0, 5368: 0.0, 5369: 0.0, 5370: 0.0, 5371: 0.0, 5372: 0.0, 5373: 0.0, 5374: 0.0, 5375: 0.0, 5376: 0.0, 5377: 0.0, 5378: 0.0, 5379: 0.0, 5380: 0.0, 5381: 0.0, 5382: 0.0, 5383: 0.0, 5384: 0.0, 5385: 0.0, 5386: 0.0, 5387: 0.0, 5388: 0.0, 5389: 0.0, 5390: 0.0, 5391: 0.0, 5392: 0.0, 5393: 0.0, 5394: 0.0, 5395: 0.0, 5396: 0.0, 5397: 0.0, 5398: 0.0, 5399: 0.0, 5400: 0.0, 5401: 0.0, 5402: 0.0, 5403: 0.0, 5404: 0.0, 5405: 0.0, 5406: 0.0, 5407: 0.0, 5408: 0.0, 5409: 0.0, 5410: 0.0, 5411: 0.0, 5412: 0.0, 5413: 0.0, 5414: 0.0, 5415: 0.0, 5416: 0.0, 5417: 0.0, 5418: 0.0, 5419: 0.0, 5420: 0.0, 5421: 0.0, 5422: 0.0, 5423: 0.0, 5424: -1, 5425: 0.0, 5426: 0.0, 5427: 0.0, 5428: 0.0, 5429: 0.0, 5430: 0.0, 5431: 0.0, 5432: 0.0, 5433: 0.0, 5434: 0.0, 5435: 0.0, 5436: 0.0, 5437: 0.0, 5438: 0.0, 5439: 0.0, 5440: 0.0, 5441: 0.0, 5442: 0.0, 5443: 0.0, 5444: 0.0, 5445: 0.0, 5446: 0.0, 5447: 0.0, 5448: 0.0, 5449: 0.0, 5450: 0.0, 5451: 0.0, 5452: 0.0, 5453: 0.0, 5454: 0.0, 5455: 0.0, 5456: 0.0, 5457: 0.0, 5458: 0.0, 5459: 0.0, 5460: 0.0, 5461: 0.0, 5462: 0.0, 5463: 0.0, 5464: 0.0, 5465: 0.0, 5466: 0.0, 5467: 0.0, 5468: 0.0, 5469: 0.0, 5470: 0.0, 5471: 0.0, 5472: 0.0, 5473: 0.0, 5474: 0.0, 5475: 0.0, 5476: 0.0, 5477: 0.0, 5478: 0.0, 5479: 0.0, 5480: 0.0, 5481: 0.0, 5482: 0.0, 5483: 0.0, 5484: 0.0, 5485: 0.0, 5486: 0.0, 5487: 0.0, 5488: 0.0, 5489: 0.0, 5490: 0.0, 5491: 0.0, 5492: 0.0, 5493: 0.0, 5494: 0.0, 5495: 0.0, 5496: 0.0, 5497: 0.0, 5498: 0.0, 5499: 0.0, 5500: 0.0, 5501: 0.0, 5502: 0.0, 5503: 0.0, 5504: 0.0, 5505: 0.0, 5506: 0.0, 5507: 0.0, 5508: 0.0, 5509: 0.0, 5510: 0.0, 5511: 0.0, 5512: 0.0, 5513: 0.0, 5514: 0.0, 5515: 0.0, 5516: 0.0, 5517: 0.0, 5518: 0.0, 5519: 0.0, 5520: 0.0, 5521: 0.0, 5522: 0.0, 5523: 0.0, 5524: 0.0, 5525: 0.0, 5526: 0.0, 5527: 0.0, 5528: 0.0, 5529: 0.0, 5530: 0.0, 5531: 0.0, 5532: 0.0, 5533: 0.0, 5534: 0.0, 5535: 0.0, 5536: 0.0, 5537: 0.0, 5538: 0.0, 5539: 0.0, 5540: 0.0, 5541: 0.0, 5542: 0.0, 5543: 0.0, 5544: 0.0, 5545: 0.0, 5546: 0.0, 5547: 0.0, 5548: 0.0, 5549: 0.0, 5550: 0.0, 5551: 0.0, 5552: 0.0, 5553: 0.0, 5554: 0.0, 5555: 0.0, 5556: 0.0, 5557: 0.0, 5558: 0.0, 5559: 0.0, 5560: 0.0, 5561: 0.0, 5562: 0.0, 5563: 0.0, 5564: 0.0, 5565: 0.0, 5566: 0.0, 5567: 0.0, 5568: 0.0, 5569: 0.0, 5570: 0.0, 5571: 0.0, 5572: 0.0, 5573: 0.0, 5574: 0.0, 5575: 0.0, 5576: 0.0, 5577: 0.0, 5578: 0.0, 5579: 0.0, 5580: 0.0, 5581: 0.0, 5582: 0.0, 5583: 0.0, 5584: 0.0, 5585: 0.0, 5586: 0.0, 5587: 0.0, 5588: 0.0, 5589: 0.0, 5590: 0.0, 5591: 0.0, 5592: 0.0, 5593: 0.0, 5594: 0.0, 5595: 0.0, 5596: 0.0, 5597: 0.0, 5598: 0.0, 5599: 0.0, 5600: 0.0, 5601: 0.0, 5602: 0.0, 5603: 0.0, 5604: 0.0, 5605: 0.0, 5606: 0.0, 5607: 0.0, 5608: 0.0, 5609: 0.0, 5610: 0.0, 5611: 0.0, 5612: 0.0, 5613: 0.0, 5614: 0.0, 5615: 0.0, 5616: 0.0, 5617: 0.0, 5618: 0.0, 5619: 0.0, 5620: 0.0, 5621: 0.0, 5622: 0.0, 5623: 0.0, 5624: 0.0, 5625: 0.0, 5626: 0.0, 5627: 0.0, 5628: 0.0, 5629: 0.0, 5630: 0.0, 5631: 0.0, 5632: 0.0, 5633: 0.0, 5634: 0.0, 5635: 0.0, 5636: 0.0, 5637: 0.0, 5638: 0.0, 5639: 0.0, 5640: 0.0, 5641: 0.0, 5642: 0.0, 5643: 0.0, 5644: 0.0, 5645: 0.0, 5646: 0.0, 5647: 0.0, 5648: 0.0, 5649: 0.0, 5650: 0.0, 5651: 0.0, 5652: 0.0, 5653: 0.0, 5654: 0.0, 5655: 0.0, 5656: 0.0, 5657: 0.0, 5658: 0.0, 5659: 0.0, 5660: 0.0, 5661: 0.0, 5662: 0.0, 5663: 0.0, 5664: 0.0, 5665: 0.0, 5666: 0.0, 5667: 0.0, 5668: 0.0, 5669: 0.0, 5670: 0.0, 5671: 0.0, 5672: 0.0, 5673: 0.0, 5674: 0.0, 5675: 0.0, 5676: 0.0, 5677: 0.0, 5678: 0.0, 5679: 0.0, 5680: 0.0, 5681: 0.0, 5682: 0.0, 5683: 0.0, 5684: 0.0, 5685: 0.0, 5686: 0.0, 5687: 0.0, 5688: 0.0, 5689: 0.0, 5690: 0.0, 5691: 0.0, 5692: 0.0, 5693: 0.0, 5694: 0.0, 5695: 0.0, 5696: 0.0, 5697: 0.0, 5698: 0.0, 5699: 0.0, 5700: 0.0, 5701: 0.0, 5702: 0.0, 5703: 0.0, 5704: 0.0, 5705: 0.0, 5706: 0.0, 5707: 0.0, 5708: 0.0, 5709: 0.0, 5710: 0.0, 5711: 0.0, 5712: 0.0, 5713: 0.0, 5714: 0.0, 5715: 0.0, 5716: 0.0, 5717: 0.0, 5718: 0.0, 5719: 0.0, 5720: 0.0, 5721: 0.0, 5722: 0.0, 5723: 0.0, 5724: 0.0, 5725: 0.0, 5726: 0.0, 5727: -1, 5728: 0.0, 5729: 0.0, 5730: 0.0, 5731: 0.0, 5732: 0.0, 5733: 0.0, 5734: 0.0, 5735: 0.0, 5736: 0.0, 5737: 0.0, 5738: 0.0, 5739: 0.0, 5740: 0.0, 5741: 0.0, 5742: 0.0, 5743: 0.0, 5744: 0.0, 5745: 0.0, 5746: 0.0, 5747: 0.0, 5748: 0.0, 5749: 0.0, 5750: 0.0, 5751: 0.0, 5752: 0.0, 5753: 0.0, 5754: 0.0, 5755: 0.0, 5756: 0.0, 5757: 0.0, 5758: 0.0, 5759: 0.0, 5760: 0.0, 5761: 0.0, 5762: 0.0, 5763: 0.0, 5764: 0.0, 5765: 0.0, 5766: 0.0, 5767: 0.0, 5768: 0.0, 5769: 0.0, 5770: 0.0, 5771: 0.0, 5772: 0.0, 5773: 0.0, 5774: 0.0, 5775: 0.0, 5776: 0.0, 5777: 0.0, 5778: 0.0, 5779: 0.0, 5780: 0.0, 5781: 0.0, 5782: 0.0, 5783: 0.0, 5784: 0.0, 5785: 0.0, 5786: 0.0, 5787: 0.0, 5788: 0.0, 5789: 0.0, 5790: 0.0, 5791: 0.0, 5792: 0.0, 5793: 0.0, 5794: 0.0, 5795: 0.0, 5796: 0.0, 5797: 0.0, 5798: 0.0, 5799: 0.0, 5800: 0.0, 5801: 0.0, 5802: 0.0, 5803: 0.0, 5804: 0.0, 5805: 0.0, 5806: 0.0, 5807: 0.0, 5808: 0.0, 5809: 0.0, 5810: 0.0, 5811: 0.0, 5812: 0.0, 5813: 0.0, 5814: 0.0, 5815: 0.0, 5816: 0.0, 5817: 0.0, 5818: 0.0, 5819: 0.0, 5820: 0.0, 5821: 0.0, 5822: 0.0, 5823: 0.0, 5824: 0.0, 5825: 0.0, 5826: 0.0, 5827: 0.0, 5828: 0.0, 5829: 0.0, 5830: 0.0, 5831: 0.0, 5832: 0.0, 5833: 0.0, 5834: 0.0, 5835: 0.0, 5836: 0.0, 5837: 0.0, 5838: 0.0, 5839: 0.0, 5840: 0.0, 5841: 0.0, 5842: 0.0, 5843: 0.0, 5844: 0.0, 5845: 0.0, 5846: 0.0, 5847: 0.0, 5848: 0.0, 5849: 0.0, 5850: 0.0, 5851: 0.0, 5852: 0.0, 5853: 0.0, 5854: 0.0, 5855: 0.0, 5856: 0.0, 5857: 0.0, 5858: 0.0, 5859: 0.0, 5860: 0.0, 5861: 0.0, 5862: 0.0, 5863: 0.0, 5864: 0.0, 5865: 0.0, 5866: 0.0, 5867: 0.0, 5868: 0.0, 5869: 0.0, 5870: 0.0, 5871: 0.0, 5872: 0.0, 5873: 0.0, 5874: 0.0, 5875: 0.0, 5876: 0.0, 5877: 0.0, 5878: 0.0, 5879: 0.0, 5880: 0.0, 5881: 0.0, 5882: 0.0, 5883: 0.0, 5884: 0.0, 5885: 0.0, 5886: 0.0, 5887: 0.0, 5888: 0.0, 5889: 0.0, 5890: 0.0, 5891: 0.0, 5892: 0.0, 5893: 0.0, 5894: 0.0, 5895: 0.0, 5896: 0.0, 5897: 0.0, 5898: 0.0, 5899: 0.0, 5900: 0.0, 5901: 0.0, 5902: 0.0, 5903: 0.0, 5904: 0.0, 5905: 0.0, 5906: 0.0, 5907: 0.0, 5908: 0.0, 5909: 0.0, 5910: 0.0, 5911: 0.0, 5912: 0.0, 5913: 0.0, 5914: 0.0, 5915: 0.0, 5916: 0.0, 5917: 0.0, 5918: 0.0, 5919: 0.0, 5920: 0.0, 5921: 0.0, 5922: 0.0, 5923: 0.0, 5924: 0.0, 5925: 0.0, 5926: 0.0, 5927: 0.0, 5928: 0.0, 5929: 0.0, 5930: 0.0, 5931: 0.0, 5932: 0.0, 5933: 0.0, 5934: 0.0, 5935: 0.0, 5936: 0.0, 5937: 0.0, 5938: 0.0, 5939: 0.0, 5940: 0.0, 5941: 0.0, 5942: 0.0, 5943: 0.0, 5944: 0.0, 5945: 0.0, 5946: 0.0, 5947: 0.0, 5948: 0.0, 5949: 0.0, 5950: 0.0, 5951: 0.0, 5952: 0.0, 5953: 0.0, 5954: 0.0, 5955: 0.0, 5956: 0.0, 5957: 0.0, 5958: 0.0, 5959: 0.0, 5960: 0.0, 5961: 0.0, 5962: 0.0, 5963: 0.0, 5964: 0.0, 5965: 0.0, 5966: 0.0, 5967: 0.0, 5968: 0.0, 5969: 0.0, 5970: 0.0, 5971: 0.0, 5972: 0.0, 5973: 0.0, 5974: 0.0, 5975: 0.0, 5976: 0.0, 5977: 0.0, 5978: 0.0, 5979: 0.0, 5980: 0.0, 5981: 0.0, 5982: 0.0, 5983: 0.0, 5984: 0.0, 5985: 0.0, 5986: 0.0, 5987: 0.0, 5988: 0.0, 5989: 0.0, 5990: 0.0, 5991: 0.0, 5992: 0.0, 5993: 0.0, 5994: 0.0, 5995: 0.0, 5996: 0.0, 5997: 0.0}\n"
     ]
    }
   ],
   "source": [
    "heap = []\n",
    "scores_dictionary = {}\n",
    "\n",
    "# For every document\n",
    "for doc_index in range(tfidf_data.shape[0]):\n",
    "    doc_arr = tfidf_data.loc[doc_index, :].values\n",
    "    # Compute the angle between the doc and the query vector\n",
    "    cos_sim = a_cosine_similarity(query_vec, doc_arr)\n",
    "\n",
    "    # Put the result in the dictionary\n",
    "    scores_dictionary[doc_index] = cos_sim\n",
    "\n",
    "    # Update the heap\n",
    "    heapq.heappush(heap, (cos_sim, doc_index))  # Store both score and document index in the heap\n",
    "print(scores_dictionary)"
   ]
  },
  {
   "cell_type": "markdown",
   "metadata": {},
   "source": [
    "2.2.2 Execute the query with k = 6"
   ]
  },
  {
   "cell_type": "code",
   "execution_count": 20,
   "metadata": {},
   "outputs": [
    {
     "name": "stdout",
     "output_type": "stream",
     "text": [
      "[(0.26038044966907203, 4285), (0.18465391166953415, 3687), (0.17832592153228716, 2021), (0.0, 5997), (0.0, 5996), (0.0, 5995)]\n",
      "[4285, 3687, 2021, 5997, 5996, 5995]\n"
     ]
    }
   ],
   "source": [
    "k = 6\n",
    "top_k = heapq.nlargest(k, heap)\n",
    "print(top_k)\n",
    "\n",
    "top_doc_k = []\n",
    "\n",
    "#fill the list of top_k_doc\n",
    "for score, doc in top_k:\n",
    "    top_doc_k.append(doc)\n",
    "print(top_doc_k)"
   ]
  },
  {
   "cell_type": "markdown",
   "metadata": {},
   "source": [
    "The results of the query"
   ]
  },
  {
   "cell_type": "code",
   "execution_count": 21,
   "metadata": {},
   "outputs": [
    {
     "data": {
      "text/html": [
       "<div>\n",
       "<style scoped>\n",
       "    .dataframe tbody tr th:only-of-type {\n",
       "        vertical-align: middle;\n",
       "    }\n",
       "\n",
       "    .dataframe tbody tr th {\n",
       "        vertical-align: top;\n",
       "    }\n",
       "\n",
       "    .dataframe thead th {\n",
       "        text-align: right;\n",
       "    }\n",
       "</style>\n",
       "<table border=\"1\" class=\"dataframe\">\n",
       "  <thead>\n",
       "    <tr style=\"text-align: right;\">\n",
       "      <th></th>\n",
       "      <th>courseName</th>\n",
       "      <th>universityName</th>\n",
       "      <th>description</th>\n",
       "      <th>url</th>\n",
       "      <th>similarity</th>\n",
       "    </tr>\n",
       "  </thead>\n",
       "  <tbody>\n",
       "    <tr>\n",
       "      <th>4285</th>\n",
       "      <td>Healthcare Management And Leadership MSc</td>\n",
       "      <td>University of Worcester</td>\n",
       "      <td>The MSc Healthcare Management and Leadership p...</td>\n",
       "      <td>https://www.findamasters.com/masters-degrees/c...</td>\n",
       "      <td>0.260</td>\n",
       "    </tr>\n",
       "    <tr>\n",
       "      <th>3687</th>\n",
       "      <td>Finance MSc</td>\n",
       "      <td>The American College of Greece</td>\n",
       "      <td>OverviewThe premier academic qualification for...</td>\n",
       "      <td>https://www.findamasters.com/masters-degrees/c...</td>\n",
       "      <td>0.185</td>\n",
       "    </tr>\n",
       "    <tr>\n",
       "      <th>2021</th>\n",
       "      <td>Clinical Neuropsychology - MSc</td>\n",
       "      <td>University of Bristol</td>\n",
       "      <td>Professional programmes in Clinical Neuropsych...</td>\n",
       "      <td>https://www.findamasters.com/masters-degrees/c...</td>\n",
       "      <td>0.178</td>\n",
       "    </tr>\n",
       "    <tr>\n",
       "      <th>5997</th>\n",
       "      <td>Inequality and Society - MSc</td>\n",
       "      <td>University of Sunderland</td>\n",
       "      <td>Why does inequality exist and what can we do a...</td>\n",
       "      <td>https://www.findamasters.com/masters-degrees/c...</td>\n",
       "      <td>0.000</td>\n",
       "    </tr>\n",
       "    <tr>\n",
       "      <th>5996</th>\n",
       "      <td>Inequalities and Social Science MSc</td>\n",
       "      <td>London School of Economics and Political Science</td>\n",
       "      <td>Ask LSEThe MSc Inequalities and Social Science...</td>\n",
       "      <td>https://www.findamasters.com/masters-degrees/c...</td>\n",
       "      <td>0.000</td>\n",
       "    </tr>\n",
       "    <tr>\n",
       "      <th>5995</th>\n",
       "      <td>Inequalities and Social Science - MSc</td>\n",
       "      <td>University of Leeds</td>\n",
       "      <td>At a local, national and global level, we are ...</td>\n",
       "      <td>https://www.findamasters.com/masters-degrees/c...</td>\n",
       "      <td>0.000</td>\n",
       "    </tr>\n",
       "  </tbody>\n",
       "</table>\n",
       "</div>"
      ],
      "text/plain": [
       "                                    courseName  \\\n",
       "4285  Healthcare Management And Leadership MSc   \n",
       "3687                               Finance MSc   \n",
       "2021            Clinical Neuropsychology - MSc   \n",
       "5997              Inequality and Society - MSc   \n",
       "5996       Inequalities and Social Science MSc   \n",
       "5995     Inequalities and Social Science - MSc   \n",
       "\n",
       "                                        universityName  \\\n",
       "4285                           University of Worcester   \n",
       "3687                    The American College of Greece   \n",
       "2021                             University of Bristol   \n",
       "5997                          University of Sunderland   \n",
       "5996  London School of Economics and Political Science   \n",
       "5995                               University of Leeds   \n",
       "\n",
       "                                            description  \\\n",
       "4285  The MSc Healthcare Management and Leadership p...   \n",
       "3687  OverviewThe premier academic qualification for...   \n",
       "2021  Professional programmes in Clinical Neuropsych...   \n",
       "5997  Why does inequality exist and what can we do a...   \n",
       "5996  Ask LSEThe MSc Inequalities and Social Science...   \n",
       "5995  At a local, national and global level, we are ...   \n",
       "\n",
       "                                                    url  similarity  \n",
       "4285  https://www.findamasters.com/masters-degrees/c...       0.260  \n",
       "3687  https://www.findamasters.com/masters-degrees/c...       0.185  \n",
       "2021  https://www.findamasters.com/masters-degrees/c...       0.178  \n",
       "5997  https://www.findamasters.com/masters-degrees/c...       0.000  \n",
       "5996  https://www.findamasters.com/masters-degrees/c...       0.000  \n",
       "5995  https://www.findamasters.com/masters-degrees/c...       0.000  "
      ]
     },
     "execution_count": 21,
     "metadata": {},
     "output_type": "execute_result"
    }
   ],
   "source": [
    "# adding the column 'similarity score' to the dataset\n",
    "rinformation_needed = ['courseName','universityName','description', 'url']\n",
    "results = dataset.loc[top_doc_k , information_needed] \n",
    "results['similarity'] = [round(s[0],3) for s in top_k]\n",
    "results"
   ]
  }
 ],
 "metadata": {
  "kernelspec": {
   "display_name": "Python 3 (ipykernel)",
   "language": "python",
   "name": "python3"
  },
  "language_info": {
   "codemirror_mode": {
    "name": "ipython",
    "version": 3
   },
   "file_extension": ".py",
   "mimetype": "text/x-python",
   "name": "python",
   "nbconvert_exporter": "python",
   "pygments_lexer": "ipython3",
   "version": "3.11.5"
  }
 },
 "nbformat": 4,
 "nbformat_minor": 4
}
