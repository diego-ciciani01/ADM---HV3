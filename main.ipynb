{
  "cells": [
    {
      "cell_type": "markdown",
      "metadata": {
        "colab_type": "text",
        "id": "view-in-github"
      },
      "source": [
        "<a href=\"https://colab.research.google.com/github/diego-ciciani01/ADM---HV3/blob/main/main.ipynb\" target=\"_parent\"><img src=\"https://colab.research.google.com/assets/colab-badge.svg\" alt=\"Open In Colab\"/></a>"
      ]
    },
    {
      "cell_type": "code",
      "execution_count": null,
      "metadata": {
        "id": "HGAFpXh9wyd5"
      },
      "outputs": [],
      "source": [
        "import requests\n",
        "url = 'https://www.findamasters.com/masters-degrees/msc-degrees/'\n",
        "\n",
        "result = requests.get(url)\n",
        "result.text"
      ]
    },
    {
      "cell_type": "code",
      "execution_count": null,
      "metadata": {},
      "outputs": [],
      "source": [
        "soup = BeautifulSoup(result.text)\n",
        "soup.prettify() # this command will transform the result into a file that we can browse it\n",
        "# use beautifulsoup tutorial https://beautiful-soup-4.readthedocs.io/en/latest/"
      ]
    },
    {
      "cell_type": "code",
      "execution_count": null,
      "metadata": {},
      "outputs": [],
      "source": [
        "list_links = soup.find_all('a', href=True) # will produce a list of all the links that extracts in the web page"
      ]
    },
    {
      "cell_type": "code",
      "execution_count": null,
      "metadata": {},
      "outputs": [],
      "source": [
        "# we can iterate on it and find what we need filtering all of them\n",
        "# the links we need start all with the same prefix\n",
        "prefix = '/masters-degrees/course/'\n",
        "results = [] \n",
        "\n",
        "# we have different links that get to the same page (and we'll need to exclude them) \n",
        "# so we'll create a list of things to exclude\n",
        "exclude = ['\\nMore details \\n', '\\nRead more \\n', '\\xa0Video(s)', '\\xa0Student Profile(s)']\n",
        "\n",
        "for item in list_links: #using the href to extract the links \n",
        "    if item['href'][:len(prefix)] == prefix and not item.text in exclude:\n",
        "        results.append((item['href'], item.text))\n",
        "\n",
        "results\n"
      ]
    },
    {
      "cell_type": "code",
      "execution_count": null,
      "metadata": {},
      "outputs": [],
      "source": [
        "lst_links = soup.find_all('a', {'class': 'courseLink'}) #add attribute we find this attribute under the href category "
      ]
    },
    {
      "cell_type": "code",
      "execution_count": null,
      "metadata": {},
      "outputs": [],
      "source": [
        "def extract_masters(this_url):\n",
        "    result_url=requests.get(this_url)\n",
        "    result_soup=BeautifulSoup(result_url.text)\n",
        "    result_links=result_soup.find_all('a',{'class':'courseLink'})\n",
        "    result_list=[]\n",
        "    for item in result_links:\n",
        "        result_list.append((item['href'],item.text))\n",
        "    return result_list"
      ]
    },
    {
      "cell_type": "code",
      "execution_count": null,
      "metadata": {},
      "outputs": [],
      "source": [
        "test_lst = extract_masters('https://www.findamasters.com/masters-degrees/msc-degrees/?PG=2')"
      ]
    },
    {
      "cell_type": "code",
      "execution_count": null,
      "metadata": {},
      "outputs": [],
      "source": [
        "msc_page_url = 'https://www.findamasters.com' + test_lst[0][0]"
      ]
    },
    {
      "cell_type": "code",
      "execution_count": null,
      "metadata": {},
      "outputs": [],
      "source": [
        "page_url = requests.get(msc_page_url)\n",
        "page_soup = BeautifulSoup(page_url.text)"
      ]
    },
    {
      "cell_type": "code",
      "execution_count": null,
      "metadata": {},
      "outputs": [],
      "source": [
        "page_links = page_soup.find_all('a', {'class': 'course-header__institution'})\n",
        "page_universityName = page_links[0].contents[0]"
      ]
    },
    {
      "cell_type": "code",
      "execution_count": null,
      "metadata": {},
      "outputs": [],
      "source": [
        "page_universityName"
      ]
    },
    {
      "cell_type": "code",
      "execution_count": null,
      "metadata": {},
      "outputs": [],
      "source": [
        "def extract_msc_page(msc_page_url):\n",
        "  contents = {}\n",
        "\n",
        "  page_url = requests.get(msc_page_url)\n",
        "  page_soup = BeautifulSoup(page_url.text)\n",
        "\n",
        "  page_links = page_soup.find_all('a', {'class': 'course-header__institution'})\n",
        "  contents['universityName'] = page_links[0].contents[0]\n",
        "\n",
        "  page_links = page_soup.find_all('a', {'class': 'course-header__department'})\n",
        "  contents['facultyName'] = page_links[0].contents[0]\n",
        "\n",
        "  FullTime_links= page_soup.find_all('a', {'class':'concealLink' })\n",
        "  FullTime = False\n",
        "  for item in FullTime_links:\n",
        "    if item['href']== \"/masters-degrees/full-time/\":\n",
        "      FullTime = True\n",
        "      break\n",
        "  contents['fullTime'] = FullTime\n",
        "\n",
        "  return contents"
      ]
    },
    {
      "cell_type": "code",
      "execution_count": null,
      "metadata": {},
      "outputs": [],
      "source": [
        "pages_results = []\n",
        "for item in test_lst:\n",
        "  print('retrieving ' + item[0])\n",
        "  result_msc_page = extract_msc_page('https://www.findamasters.com' + item[0])\n",
        "  result_msc_page['name'] = item[1]\n",
        "  pages_results.append(result_msc_page)"
      ]
    },
    {
      "cell_type": "code",
      "execution_count": null,
      "metadata": {},
      "outputs": [],
      "source": [
        "pages_results"
      ]
    },
    {
      "cell_type": "code",
      "execution_count": null,
      "metadata": {},
      "outputs": [],
      "source": [
        "import pandas as pd\n",
        "pd.DataFrame.from_records(pages_results)"
      ]
    },
    {
      "cell_type": "code",
      "execution_count": null,
      "metadata": {},
      "outputs": [],
      "source": []
    }
  ],
  "metadata": {
    "colab": {
      "authorship_tag": "ABX9TyPrkKrbPq7YvQm+evv0Mfrk",
      "include_colab_link": true,
      "provenance": []
    },
    "kernelspec": {
      "display_name": "Python 3",
      "name": "python3"
    },
    "language_info": {
      "name": "python"
    }
  },
  "nbformat": 4,
  "nbformat_minor": 0
}
