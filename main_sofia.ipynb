{
 "cells": [
  {
   "cell_type": "markdown",
   "metadata": {},
   "source": [
    "## Punto 1.1"
   ]
  },
  {
   "cell_type": "code",
   "execution_count": null,
   "metadata": {},
   "outputs": [],
   "source": [
    "import bs4 # pip install \n",
    "from bs4 import BeautifulSoup"
   ]
  },
  {
   "cell_type": "code",
   "execution_count": null,
   "metadata": {},
   "outputs": [],
   "source": [
    "import requests\n",
    "url = 'https://www.findamasters.com/masters-degrees/msc-degrees/'\n",
    "result = requests.get(url)\n",
    "result.text"
   ]
  },
  {
   "cell_type": "code",
   "execution_count": null,
   "metadata": {},
   "outputs": [],
   "source": [
    "def extract_masters(this_url):\n",
    "    result_url=requests.get(this_url)\n",
    "    result_soup=BeautifulSoup(result_url.text)\n",
    "    result_links=result_soup.find_all('a',{'class':'courseLink'})\n",
    "    result_list=[]\n",
    "    for item in result_links:\n",
    "        result_list.append((item['href'],item.text))\n",
    "    return result_list"
   ]
  },
  {
   "cell_type": "code",
   "execution_count": null,
   "metadata": {},
   "outputs": [],
   "source": [
    "# to extract all the masters we have to do a for loop for the first 400 pages:\n",
    "\"\"\"\n",
    "num_pages = 400\n",
    "pref = 'https://www.findamasters.com'\n",
    "test_lst_all = []\n",
    "\n",
    "for i in range(1, num_pages + 1):\n",
    "    test_lst = extract_masters(pref + '/masters-degrees/msc-degrees/?PG=' + str(i))\n",
    "    test_lst_all.extend(test_lst)\n",
    "# creating the txt file of the fisrt 400 pages of ms\n",
    "with open('masters_urls.txt', 'w') as f:\n",
    "    for item in test_lst_all:\n",
    "        f.write(item[0] + '\\n')\n",
    "\"\"\"\n",
    "# file created "
   ]
  },
  {
   "cell_type": "markdown",
   "metadata": {},
   "source": [
    "## Punto 1.2"
   ]
  },
  {
   "cell_type": "code",
   "execution_count": null,
   "metadata": {},
   "outputs": [],
   "source": [
    "import os\n",
    "import requests\n",
    "from bs4 import BeautifulSoup\n",
    "import time\n",
    "import random"
   ]
  },
  {
   "cell_type": "code",
   "execution_count": null,
   "metadata": {},
   "outputs": [],
   "source": [
    "# Impostazioni per l'User-Agent per simulare un browser\n",
    "headers = {'User-Agent': 'Mozilla/5.0 (Windows NT 10.0; Win64; x64) AppleWebKit/537.36 (KHTML, like Gecko) Chrome/111.0.0.0 Safari/537.36'}\n",
    "folder_name = \"html_pages\"\n",
    "if not os.path.exists(folder_name):\n",
    "    os.makedirs(folder_name)\n",
    "\n",
    "for i in range(1, 3):\n",
    "    # Crea la cartella per ogni pagina:\n",
    "    name = 'HTML page ' + str(i)\n",
    "    path_folder = os.path.join(folder_name, name)\n",
    "    if not os.path.exists(path_folder):\n",
    "        os.makedirs(path_folder)\n",
    "\n",
    "# Apre il file contenente gli URL\n",
    "with open('masters_urls.txt', 'r') as file:\n",
    "    for index, url in enumerate(file):\n",
    "        url = url.strip()\n",
    "        page = (index // 15 ) + 1\n",
    "        try:\n",
    "            # Costruisci l'URL completo\n",
    "            full_url = \"https://www.findamasters.com\" + url.strip()\n",
    "\n",
    "            # Aggiungi un ritardo di 1-5 secondi tra le richieste\n",
    "            time.sleep(1 + random.uniform(0, 4))\n",
    "            # Richiesta per ottenere il contenuto dell'URL\n",
    "            response = requests.get(full_url, headers=headers)\n",
    "            \n",
    "            if response.status_code == 200:\n",
    "                # Parsing dell'HTML con BeautifulSoup\n",
    "                soup = BeautifulSoup(response.content, 'html.parser')\n",
    "                \n",
    "                # Salva l'HTML del corso in un file separato nella cartella della pagina in cui si trova\n",
    "                file_path = os.path.join(f\"{folder_name}\\HTML page {page}\", f\"course {index+1}.html\")\n",
    "                with open(file_path, \"w\", encoding=\"utf-8\") as html_file:\n",
    "                    html_file.write(str(soup))\n",
    "\n",
    "            else:\n",
    "                print(f\"Errore nel recuperare la pagina del corso: {full_url}\")\n",
    "        \n",
    "        except Exception as e:\n",
    "            print(f\"Errore durante il recupero e salvataggio della pagina {full_url}: {e}\")\n"
   ]
  },
  {
   "cell_type": "markdown",
   "metadata": {},
   "source": [
    "# Punto 1.3"
   ]
  },
  {
   "cell_type": "code",
   "execution_count": null,
   "metadata": {},
   "outputs": [],
   "source": [
    "#Questa funzione prende l'url di ogni pagina di un master, msc_page_url, ed estrapola le informazioni richieste.\n",
    "\n",
    "import requests\n",
    "from bs4 import BeautifulSoup\n",
    "\n",
    "def extract_msc_page(file_path):\n",
    "    with open(file_path, 'r', encoding='utf-8') as file:\n",
    "        contents = []\n",
    "\n",
    "        page_soup = BeautifulSoup(file, 'html.parser')\n",
    "\n",
    "        course_containers = page_soup.find_all('div', class_='course-header')\n",
    "\n",
    "        for course_container in course_containers:\n",
    "            course_info = {}\n",
    "\n",
    "            #Course Name\n",
    "            name_links = course_container.find_all('a', class_='course-header__course-title')\n",
    "            if name_links:\n",
    "                course_info['courseName'] = name_links[0].text.strip()\n",
    "            else:\n",
    "                course_info['courseName'] = ''\n",
    "\n",
    "            #University Name\n",
    "            university_links = course_container.find_all('a', class_='course-header__institution')\n",
    "            if university_links:\n",
    "                course_info['universityName'] = university_links[0].text.strip()\n",
    "            else:\n",
    "                course_info['universityName'] = ''\n",
    "\n",
    "            #Faculty Name (department)\n",
    "            faculty_links = course_container.find_all('a', class_='course-header__department')\n",
    "            if faculty_links:\n",
    "                course_info['facultyName'] = faculty_links[0].text.strip()\n",
    "            else:\n",
    "                course_info['facultyName'] = ''\n",
    "\n",
    "            #Full or Part Time\n",
    "            full_time_links = course_container.find_all('a', class_='concealLink')\n",
    "            fullTime = False\n",
    "            for item in full_time_links:\n",
    "                if item['href'] == '/masters-degrees/full-time/':\n",
    "                    fullTime = True\n",
    "                    break\n",
    "            course_info['isItFullTime'] = fullTime\n",
    "\n",
    "            #Short Description\n",
    "            description = course_container.find('div', {'id': 'Snippet'}).text.strip()\n",
    "            course_info['description'] = description\n",
    "\n",
    "            #Start Date, Fees, Modality, Duration, City, Country, Presence or online modality, Link to the page.\n",
    "            key_value_pairs = course_container.find_all('div', class_='course-intro__key-info__item')\n",
    "            for pair in key_value_pairs:\n",
    "                key = pair.find('div', class_='course-intro__key-info__label').text.strip()\n",
    "                value = pair.find('div', class_='course-intro__key-info__value').text.strip()\n",
    "                course_info[key] = value\n",
    "\n",
    "            contents.append(course_info)\n",
    "\n",
    "        return contents"
   ]
  },
  {
   "cell_type": "code",
   "execution_count": null,
   "metadata": {},
   "outputs": [],
   "source": [
    "import os\n",
    "import pandas as pd\n",
    "\n",
    "#Directory where there are the HTML repositories\n",
    "html_folder = \"html_pages\" \n",
    "#Devo mettere il mio percorso qui??\n",
    "#\"C:\\Users\\sofyc\\OneDrive\\Desktop\\Homework3_adm\\html_pages\"\n",
    "\n",
    "#List to contain all the information\n",
    "all_master_info = []\n",
    "\n",
    "#Iterating whitin the repositories HTML of every page\n",
    "for page_folder in os.listdir(html_folder):\n",
    "    page_path = os.path.join(html_folder, page_folder)\n",
    "    if os.path.isdir(page_path):\n",
    "        #Iterating in the files HTML of every repository\n",
    "        for file in os.listdir(page_path):\n",
    "            if file.endswith(\".html\"):\n",
    "                file_path = os.path.join(page_path, file)\n",
    "                #Applying the function extract_msc_page to every file HTML\n",
    "                master_info = extract_msc_page(file_path) #prende il percorso praticamente\n",
    "                all_master_info.extend(master_info)\n",
    "\n",
    "#Creating il DataFrame\n",
    "df = pd.DataFrame(all_master_info)\n",
    "\n",
    "#Visualizing the DataFrame\n",
    "print(df)"
   ]
  },
  {
   "cell_type": "code",
   "execution_count": null,
   "metadata": {},
   "outputs": [],
   "source": [
    "import os\n",
    "import pandas as pd\n",
    "\n",
    "#Output directory for TSV files\n",
    "output_dir = r\"C:\\Users\\sofyc\\OneDrive\\Desktop\\Homework3_adm\"  #Questa era la mia directory dove voglio salvare le cose\n",
    "\n",
    "#Creating the output directory if it doesn't exist\n",
    "os.makedirs(output_dir, exist_ok=True)\n",
    "#To create the specified output directory if it doesn't already exist. It is a safety check to ensure that the directory is available for saving the TSV files.\n",
    "#If the directory already exists, it has no effect, and the program continues to execute without errors.\n",
    "\n",
    "#Iterating through the DataFrame and creating a TSV file for each master's degree\n",
    "for index, row in df.iterrows():\n",
    "    tsv_filename = f\"course_{index}.tsv\"\n",
    "    tsv_path = os.path.join(output_dir, tsv_filename)\n",
    "    \n",
    "    with open(tsv_path, \"w\", encoding=\"utf-8\") as tsv_file:\n",
    "        #Information to the TSV file\n",
    "        tsv_file.write(f\"{row['courseName']}\\t{row['universityName']}\\t{row['facultyName']}\\t{row['isItFullTime']}\\t{row['description']}\\t{row['startDate']}\\t{row['fees']}\\t{row['modality']}\\t{row['duration']}\\t{row['city']}\\t{row['country']}\\t{row['administration']}\\t{row['url']}\\n\")"
   ]
  }
 ],
 "metadata": {
  "kernelspec": {
   "display_name": "Python 3",
   "language": "python",
   "name": "python3"
  },
  "language_info": {
   "codemirror_mode": {
    "name": "ipython",
    "version": 3
   },
   "file_extension": ".py",
   "mimetype": "text/x-python",
   "name": "python",
   "nbconvert_exporter": "python",
   "pygments_lexer": "ipython3",
   "version": "3.11.6"
  }
 },
 "nbformat": 4,
 "nbformat_minor": 2
}
